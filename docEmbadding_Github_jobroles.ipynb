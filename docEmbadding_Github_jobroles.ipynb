{
 "cells": [
  {
   "cell_type": "markdown",
   "metadata": {},
   "source": [
    "# Applicant Online Tracking\n",
    "### (Query Expansion with Word Embedding on GitHub Data)\n",
    "\n",
    "The goal of this project is to use the information about developers, available on GitHub, and rank developers based on a search query applied by a recruiter. To solve this problem, we need to reformulate the search query to increase the accuracy of ranking problem. \n",
    "\n",
    "If we are wiling to apply the exact query on raw dataset, without any reformulation, the ranked result is limited to the matching exact tokens (words) in search queries with context exist per developer. However, the exact token may not occur in context related to a developer, but the developer still matches with the purpose of the search query. \n",
    "\n",
    "To solve this problem, we try to reformulate the search query based on a word embedding trained model. For example, suppose that we want to search for a “front end” developer. However, all developers who have experience in “front end” coding may not mention this keyword in their bio, but their contribution in different repositories may reflect their expertise. A word embedding algorithm helps us to find relevant words to “front end” and expand the search query with new list of similar words. \n",
    "\n",
    "After reformulating the search query, we use Best Matching 25 (BM25) algorithm to rank developers.\n",
    "\n",
    "As a final step, we use the probability of developers' contribution in projects with different programming languages and add these probability as a weight into the scoring step and improve the accuracy of ranking problem.\n",
    "\n",
    "\n",
    "\n",
    "#### Table of Content:\n",
    "1. Dataset (**New: using tags in textual data**)\n",
    "2. Data Cleaning\n",
    "3. Train a Word Embedding: word2vec\n",
    "4. Query Reformulation and Ranking Developers\n",
    "5. Programming Languages (PL) Contribution (**New**)\n",
    "\n",
    "   5.1. Link file extensions with PL name (**New**)\n",
    "   \n",
    "   5.2. Build a dataset of probability distribution from contributions (**New**)\n",
    "   \n",
    "   5.3. Update the ranking algorithm based on PL contributions (**New**)"
   ]
  },
  {
   "cell_type": "markdown",
   "metadata": {},
   "source": [
    "**********************************************************************************\n",
    "#### 1. Dataset\n",
    "\n",
    "We collect a list of information about developers from GitHub. Dataset includes below fields for each developer:\n",
    "\n",
    "**List of Fields:** _[name, account_url, email, location, Blog address, bio, Account creation date, Last Activity, Repository Name, Repository Languages, Number of commits per language in a repository (if it is a repository with more than one programming language), Repository stars, number of commits of users per repository and its language (file type), Repository Tags, Repository ReadMe file]_\n",
    "\n",
    "Within all these fields, there are several textual fields that represent some information about the experience and the expertise domain of each developer: **bio**, **Repository Name**, **(new)Repository Tags**,**Repository ReadMe file**. In *bio*, developers use their title such as: front end developer, data scientist, etc. Not all developers fill this part with proper information (or they may leave it empty). However, the *“Name”*, *“Tags”* and the *“ReadMe file”* of those repositories that a developer contributed to them show additional information about her/his interest and experience.\n",
    "\n",
    "We can consider the combination of these fields for each developer as a document that describe her/his expertise. To do so, we read raw data which is stored in pickle format and merge all these three fields as a new field named: **“textual_all”**. Also, we collect more fields per developer for further investigation. The final DataFrame contains below attributes, all type is string:\n",
    "\n",
    "*columns=['Name','bio','Repository Name','ReadMe File','textual_all']*\n",
    "\n",
    "The current raw dataset in pickle format is a sample data and contains the information of **33** developers."
   ]
  },
  {
   "cell_type": "code",
   "execution_count": 1,
   "metadata": {},
   "outputs": [],
   "source": [
    "import pickle\n",
    "import os\n",
    "import re\n",
    "import pandas as pd\n",
    "import numpy as np"
   ]
  },
  {
   "cell_type": "code",
   "execution_count": 2,
   "metadata": {},
   "outputs": [],
   "source": [
    "import seaborn as sns\n",
    "import matplotlib.pyplot as plt"
   ]
  },
  {
   "cell_type": "code",
   "execution_count": 3,
   "metadata": {},
   "outputs": [
    {
     "name": "stderr",
     "output_type": "stream",
     "text": [
      "C:\\Users\\morad\\Anaconda3\\lib\\site-packages\\tqdm\\std.py:648: FutureWarning: The Panel class is removed from pandas. Accessing it from the top-level namespace will also be removed in the next version\n",
      "  from pandas import Panel\n"
     ]
    }
   ],
   "source": [
    "from tqdm import tqdm\n",
    "tqdm.pandas(desc=\"progress-bar\")\n",
    "from gensim.models import Doc2Vec\n",
    "from sklearn import utils\n",
    "from sklearn.model_selection import train_test_split\n",
    "from sklearn.linear_model import LogisticRegression\n",
    "from gensim.models.doc2vec import TaggedDocument"
   ]
  },
  {
   "cell_type": "code",
   "execution_count": 4,
   "metadata": {},
   "outputs": [],
   "source": [
    "#the directory of pickle files\n",
    "directory = r'C:\\GH-Dataset\\Git_dt_roles\\users'"
   ]
  },
  {
   "cell_type": "code",
   "execution_count": 5,
   "metadata": {},
   "outputs": [],
   "source": [
    "#Load files in pickle format. There is a seperate pickle file per each developer.\n",
    "def open_file(file_path):\n",
    "    with open(file_path, \"rb\") as picklefile:\n",
    "        reader = pickle.load(picklefile)\n",
    "    return(reader)"
   ]
  },
  {
   "cell_type": "code",
   "execution_count": 6,
   "metadata": {},
   "outputs": [],
   "source": [
    "#Seprate lines in text with \\n only (replace other newline tags with \\n)\n",
    "def newline(text):\n",
    "    return '\\n'.join([p for p in re.split(r'\\\\n|\\\\r|\\\\n\\\\n|\\\\r\\\\n|\\r\\n', text) if len(p) > 0])"
   ]
  },
  {
   "cell_type": "code",
   "execution_count": 7,
   "metadata": {},
   "outputs": [],
   "source": [
    "#merge a list of readme files in a single string which are seperated with \\n \n",
    "def merg_RM(RM):\n",
    "    return '\\n '.join(RM)"
   ]
  },
  {
   "cell_type": "code",
   "execution_count": 8,
   "metadata": {},
   "outputs": [],
   "source": [
    "#merge to texts in one single text\n",
    "def merg_text(txt1,txt2):\n",
    "    return txt1 +\"\\n \"+txt2"
   ]
  },
  {
   "cell_type": "code",
   "execution_count": 9,
   "metadata": {},
   "outputs": [],
   "source": [
    "#define the final DataFrame format\n",
    "Corpus = pd.DataFrame(columns=['Name','u_id','bio','Repo_Name','ReadMe','textual_all'])"
   ]
  },
  {
   "cell_type": "code",
   "execution_count": 10,
   "metadata": {},
   "outputs": [],
   "source": [
    "#loop over all files in a directory and collect required fields\n",
    "for filename in os.listdir(directory):\n",
    "    file_path = os.path.join(directory, filename)\n",
    "    reader = open_file(file_path) \n",
    "    bio   = newline(str(reader['bio']))\n",
    "    Name = str(reader['name'])\n",
    "    try:\n",
    "        u_id= str(reader['u_id'])\n",
    "    except:\n",
    "        u_id =\"none\"\n",
    "        \n",
    "    RM = []\n",
    "    repo_name=[]\n",
    "    repo_tags=[]\n",
    "    repo_topics=[]\n",
    "    repo_text=[]\n",
    "    \n",
    "    for row in range(0,len(reader['repository'])):\n",
    "        repo_name_tmp = str(reader['repository'][row]['repo_name'])\n",
    "        repo_RM_tmp = newline(str(reader['repository'][row]['readme']))\n",
    "        repo_tags_tmp = str(reader['repository'][row]['topics'])\n",
    "        repo_topics_tmp=newline(str(reader['repository'][row]['about']))\n",
    "        \n",
    "        repo_name.append(repo_name_tmp)\n",
    "        RM.append(repo_RM_tmp)\n",
    "        repo_tags.append(repo_tags_tmp)\n",
    "        repo_topics.append(repo_topics_tmp)   \n",
    "        \n",
    "        repo_text_tmp = merg_text(merg_text(repo_tags_tmp,repo_topics_tmp),merg_text(repo_name_tmp,merg_text(bio,repo_RM_tmp)))\n",
    "        repo_text.append(repo_text_tmp)\n",
    "        \n",
    "        \n",
    "        \n",
    "    text_all = merg_RM(repo_text) \n",
    "    info_all = merg_text(bio,text_all)\n",
    "    \n",
    "    \n",
    "    Corpus = Corpus.append({'Name':Name,'u_id':u_id,'bio':bio,'Repo_Name':repo_name,'ReadMe':RM,\n",
    "                            'textual_all':info_all},ignore_index=True)\n",
    "    "
   ]
  },
  {
   "cell_type": "code",
   "execution_count": 11,
   "metadata": {},
   "outputs": [],
   "source": [
    "dt1=Corpus[['u_id','textual_all']]"
   ]
  },
  {
   "cell_type": "code",
   "execution_count": 12,
   "metadata": {},
   "outputs": [
    {
     "data": {
      "text/plain": [
       "1763"
      ]
     },
     "execution_count": 12,
     "metadata": {},
     "output_type": "execute_result"
    }
   ],
   "source": [
    "len(dt1)"
   ]
  },
  {
   "cell_type": "code",
   "execution_count": 10,
   "metadata": {},
   "outputs": [],
   "source": [
    "dt2 = pd.read_csv('C:\\GH-Dataset\\Git_dt_roles\\git_data_single_label.csv')"
   ]
  },
  {
   "cell_type": "code",
   "execution_count": 71,
   "metadata": {},
   "outputs": [
    {
     "data": {
      "text/plain": [
       "1460"
      ]
     },
     "execution_count": 71,
     "metadata": {},
     "output_type": "execute_result"
    }
   ],
   "source": [
    "len(dt2)"
   ]
  },
  {
   "cell_type": "code",
   "execution_count": 19,
   "metadata": {},
   "outputs": [],
   "source": [
    "dt_count_lb = dt2['label'].value_counts()"
   ]
  },
  {
   "cell_type": "code",
   "execution_count": 75,
   "metadata": {},
   "outputs": [
    {
     "data": {
      "text/plain": [
       "Frontend         598\n",
       "Mobile           380\n",
       "Backend          197\n",
       "DataScientist    158\n",
       "DevOps           127\n",
       "Name: label, dtype: int64"
      ]
     },
     "execution_count": 75,
     "metadata": {},
     "output_type": "execute_result"
    }
   ],
   "source": [
    "dt_count_lb"
   ]
  },
  {
   "cell_type": "code",
   "execution_count": 77,
   "metadata": {},
   "outputs": [
    {
     "data": {
      "text/plain": [
       "41.87675070028011"
      ]
     },
     "execution_count": 77,
     "metadata": {},
     "output_type": "execute_result"
    }
   ],
   "source": [
    "#The accuracy of a naive classifier that predict everyone as a frontend\n",
    "(598/1428)*100"
   ]
  },
  {
   "cell_type": "code",
   "execution_count": 24,
   "metadata": {},
   "outputs": [
    {
     "data": {
      "image/png": "[encoded data removed]",
      "text/plain": [
       "<Figure size 576x288 with 1 Axes>"
      ]
     },
     "metadata": {
      "needs_background": "light"
     },
     "output_type": "display_data"
    }
   ],
   "source": [
    "plt.figure(figsize=(8,4))\n",
    "sns.barplot(dt_count_lb.index, dt_count_lb.values, alpha=0.8)\n",
    "plt.ylabel('Number of Occurrences', fontsize=12)\n",
    "plt.xlabel('job role', fontsize=12)\n",
    "plt.xticks(rotation=90)\n",
    "plt.show();"
   ]
  },
  {
   "cell_type": "code",
   "execution_count": 213,
   "metadata": {},
   "outputs": [],
   "source": [
    "merged_inner = pd.merge(left=dt1, right=dt2[['gh_login','label']], left_on='u_id', right_on='gh_login')"
   ]
  },
  {
   "cell_type": "code",
   "execution_count": 214,
   "metadata": {},
   "outputs": [],
   "source": [
    "txt_dt=merged_inner[['textual_all','label']]"
   ]
  },
  {
   "cell_type": "code",
   "execution_count": 215,
   "metadata": {},
   "outputs": [
    {
     "data": {
      "text/html": [
       "<div>\n",
       "<style scoped>\n",
       "    .dataframe tbody tr th:only-of-type {\n",
       "        vertical-align: middle;\n",
       "    }\n",
       "\n",
       "    .dataframe tbody tr th {\n",
       "        vertical-align: top;\n",
       "    }\n",
       "\n",
       "    .dataframe thead th {\n",
       "        text-align: right;\n",
       "    }\n",
       "</style>\n",
       "<table border=\"1\" class=\"dataframe\">\n",
       "  <thead>\n",
       "    <tr style=\"text-align: right;\">\n",
       "      <th></th>\n",
       "      <th>textual_all</th>\n",
       "      <th>label</th>\n",
       "    </tr>\n",
       "  </thead>\n",
       "  <tbody>\n",
       "    <tr>\n",
       "      <td>0</td>\n",
       "      <td>Passionate student learning web development.\\n...</td>\n",
       "      <td>Frontend</td>\n",
       "    </tr>\n",
       "    <tr>\n",
       "      <td>1</td>\n",
       "      <td>An Ordinary Person Focusing On Python\\n none\\n...</td>\n",
       "      <td>Backend</td>\n",
       "    </tr>\n",
       "    <tr>\n",
       "      <td>2</td>\n",
       "      <td>Brian is a natural hands on technologist. This...</td>\n",
       "      <td>Frontend</td>\n",
       "    </tr>\n",
       "    <tr>\n",
       "      <td>3</td>\n",
       "      <td>IG(&gt;_&lt;)@54LiNKeR\\n* Android Enthusiast(AE)\\n* ...</td>\n",
       "      <td>Mobile</td>\n",
       "    </tr>\n",
       "    <tr>\n",
       "      <td>4</td>\n",
       "      <td>:bomb: F.zoomers!!.we?.boomers!!.let {it.go}\\n...</td>\n",
       "      <td>Backend</td>\n",
       "    </tr>\n",
       "    <tr>\n",
       "      <td>...</td>\n",
       "      <td>...</td>\n",
       "      <td>...</td>\n",
       "    </tr>\n",
       "    <tr>\n",
       "      <td>1424</td>\n",
       "      <td>Trying to learn or develop something new every...</td>\n",
       "      <td>Mobile</td>\n",
       "    </tr>\n",
       "    <tr>\n",
       "      <td>1425</td>\n",
       "      <td>None\\n none\\n Учебный проект по основам Kotlin...</td>\n",
       "      <td>Backend</td>\n",
       "    </tr>\n",
       "    <tr>\n",
       "      <td>1426</td>\n",
       "      <td>Learning JavaScript for fun\\n none\\n Graduate ...</td>\n",
       "      <td>Frontend</td>\n",
       "    </tr>\n",
       "    <tr>\n",
       "      <td>1427</td>\n",
       "      <td>Student of Slovak Technical University faculty...</td>\n",
       "      <td>Backend</td>\n",
       "    </tr>\n",
       "    <tr>\n",
       "      <td>1428</td>\n",
       "      <td>None\\n none\\n None\\n color-guessing-game\\n Non...</td>\n",
       "      <td>Frontend</td>\n",
       "    </tr>\n",
       "  </tbody>\n",
       "</table>\n",
       "<p>1429 rows × 2 columns</p>\n",
       "</div>"
      ],
      "text/plain": [
       "                                            textual_all     label\n",
       "0     Passionate student learning web development.\\n...  Frontend\n",
       "1     An Ordinary Person Focusing On Python\\n none\\n...   Backend\n",
       "2     Brian is a natural hands on technologist. This...  Frontend\n",
       "3     IG(>_<)@54LiNKeR\\n* Android Enthusiast(AE)\\n* ...    Mobile\n",
       "4     :bomb: F.zoomers!!.we?.boomers!!.let {it.go}\\n...   Backend\n",
       "...                                                 ...       ...\n",
       "1424  Trying to learn or develop something new every...    Mobile\n",
       "1425  None\\n none\\n Учебный проект по основам Kotlin...   Backend\n",
       "1426  Learning JavaScript for fun\\n none\\n Graduate ...  Frontend\n",
       "1427  Student of Slovak Technical University faculty...   Backend\n",
       "1428  None\\n none\\n None\\n color-guessing-game\\n Non...  Frontend\n",
       "\n",
       "[1429 rows x 2 columns]"
      ]
     },
     "execution_count": 215,
     "metadata": {},
     "output_type": "execute_result"
    }
   ],
   "source": [
    "txt_dt   "
   ]
  },
  {
   "cell_type": "code",
   "execution_count": 74,
   "metadata": {},
   "outputs": [
    {
     "data": {
      "text/plain": [
       "22774593"
      ]
     },
     "execution_count": 74,
     "metadata": {},
     "output_type": "execute_result"
    }
   ],
   "source": [
    "#number of words before cleaning\n",
    "txt_dt['textual_all'].apply(lambda x: len(x.split(' '))).sum()"
   ]
  },
  {
   "cell_type": "code",
   "execution_count": 11,
   "metadata": {},
   "outputs": [],
   "source": [
    "import gensim\n",
    "from gensim.parsing.preprocessing import *"
   ]
  },
  {
   "cell_type": "markdown",
   "metadata": {},
   "source": [
    "**********************************************************************************\n",
    "#### 2. Data Cleaning\n",
    "After merging bio, Repository Name and Repository ReadMe file in a single field, “textual_all”, we should clean the textual data. Data Cleaning includes below steps:\n",
    "\n",
    "1. Split sentences in a text\n",
    "2. tokenize each sentence in each text\n",
    "3. remove stop words\n",
    "4. seprate digits & letters such as BM25--> BM 25\n",
    "5. remove digits\n",
    "6. remove tags such as HTML tags\n",
    "7. remove non alphabetic letters such as !,?,#\n",
    "8. stemming tokens (transform into lowercase)\n",
    "9. train a bigram model to extract phrases (two words as a single phrase) such as machine learning\n"
   ]
  },
  {
   "cell_type": "code",
   "execution_count": 79,
   "metadata": {},
   "outputs": [],
   "source": [
    "#store the textual_all in a sperate varaible\n",
    "documents=txt_dt['textual_all']"
   ]
  },
  {
   "cell_type": "code",
   "execution_count": 37,
   "metadata": {},
   "outputs": [],
   "source": [
    "#documents[1]"
   ]
  },
  {
   "cell_type": "code",
   "execution_count": 12,
   "metadata": {},
   "outputs": [],
   "source": [
    "#seperte sentences with \\n\n",
    "def split_sentence(corpus):\n",
    "    sentences = [doc.split(\"\\n\") for doc in corpus]\n",
    "    return sentences"
   ]
  },
  {
   "cell_type": "code",
   "execution_count": 13,
   "metadata": {},
   "outputs": [],
   "source": [
    "#flat a list of lists into a list\n",
    "def flatten_list(sentences):\n",
    "    flatList = [ item for elem in sentences for item in elem]\n",
    "    return flatList"
   ]
  },
  {
   "cell_type": "code",
   "execution_count": 14,
   "metadata": {},
   "outputs": [],
   "source": [
    "#tokenize all sentences\n",
    "def token_in_sentence(list_sentences):\n",
    "    list_tokens = [list(gensim.utils.tokenize(doc, lower=True)) for doc in list_sentences]\n",
    "    return list_tokens"
   ]
  },
  {
   "cell_type": "code",
   "execution_count": 15,
   "metadata": {},
   "outputs": [],
   "source": [
    "#build a bundle of actions to clean data\n",
    "def custom_filter():\n",
    "    cstm_filter = [remove_stopwords,split_alphanum, strip_numeric, strip_tags, strip_non_alphanum,stem_text]\n",
    "    return cstm_filter"
   ]
  },
  {
   "cell_type": "code",
   "execution_count": 16,
   "metadata": {},
   "outputs": [],
   "source": [
    "#cleaning data based on steps define in custom_filter\n",
    "def str_preprocessing(tokenize_sentence):\n",
    "    CUSTOM_FILTERS = custom_filter()\n",
    "    tokens_new = preprocess_string(\" \".join(tokenize_sentence), CUSTOM_FILTERS)\n",
    "    return tokens_new"
   ]
  },
  {
   "cell_type": "code",
   "execution_count": 17,
   "metadata": {},
   "outputs": [],
   "source": [
    "#get the possible phrases in the list of tokens\n",
    "def get_bigram_token(model,tokens):\n",
    "    bigrams = model[tokens]\n",
    "    bi_tokens= [sent for sent in bigrams]\n",
    "    return bi_tokens"
   ]
  },
  {
   "cell_type": "code",
   "execution_count": 86,
   "metadata": {},
   "outputs": [],
   "source": [
    "#split sentence in documents (Corpus['textual_all'])\n",
    "sentences_stream = split_sentence(txt_dt['textual_all'])"
   ]
  },
  {
   "cell_type": "code",
   "execution_count": 87,
   "metadata": {},
   "outputs": [
    {
     "data": {
      "text/plain": [
       "1428"
      ]
     },
     "execution_count": 87,
     "metadata": {},
     "output_type": "execute_result"
    }
   ],
   "source": [
    "len(sentences_stream)"
   ]
  },
  {
   "cell_type": "code",
   "execution_count": 68,
   "metadata": {},
   "outputs": [],
   "source": [
    "#tokenize all sentences\n",
    "tokenize_sentence=[]\n",
    "for row in sentences_stream:\n",
    "    tokenize_st = flatten_list(token_in_sentence(row))\n",
    "    tokenize_sentence.append(tokenize_st)"
   ]
  },
  {
   "cell_type": "code",
   "execution_count": 88,
   "metadata": {},
   "outputs": [],
   "source": [
    "#cleaning data with costum actions\n",
    "processing_tokens = [str_preprocessing(sen) for sen in sentences_stream]"
   ]
  },
  {
   "cell_type": "code",
   "execution_count": 70,
   "metadata": {},
   "outputs": [],
   "source": [
    "clean_tokens=[]\n",
    "for row in processing_tokens:\n",
    "    clean_tokens.append([w for w in row if len(w)>2])\n",
    "#clean_tokens = [w for t in processing_tokens for w in t if len(w) > 1]"
   ]
  },
  {
   "cell_type": "code",
   "execution_count": 91,
   "metadata": {},
   "outputs": [],
   "source": [
    "#clean_tokens[10]"
   ]
  },
  {
   "cell_type": "code",
   "execution_count": 58,
   "metadata": {},
   "outputs": [],
   "source": [
    "flatten_tokenize=flatten_list(tokens_bigram)"
   ]
  },
  {
   "cell_type": "code",
   "execution_count": 59,
   "metadata": {},
   "outputs": [
    {
     "data": {
      "text/plain": [
       "17761717"
      ]
     },
     "execution_count": 59,
     "metadata": {},
     "output_type": "execute_result"
    }
   ],
   "source": [
    "len(flatten_tokenize)"
   ]
  },
  {
   "cell_type": "code",
   "execution_count": 63,
   "metadata": {},
   "outputs": [
    {
     "name": "stdout",
     "output_type": "stream",
     "text": [
      "true\n"
     ]
    }
   ],
   "source": [
    "if \"data_scientist\" in flatten_tokenize:\n",
    "    print(\"true\")"
   ]
  },
  {
   "cell_type": "code",
   "execution_count": 92,
   "metadata": {},
   "outputs": [],
   "source": [
    "#build a bigram model to collect phrases. The threshold equals to 2. \n",
    "#It means if two words accure in bigram more than 2 times, then we collect them as a single phrase\n",
    "#The threshold is small becuase we are working on a sample dataset.\n",
    "#After changing the sample dataset to real dataset, we should increase the threshold\n",
    "#min_count: Ignore all words and bigrams with total collected count lower than this value. 5 , 10\n",
    "#bigram_mdl = gensim.models.phrases.Phrases(tokenize_sentence, min_count=5, threshold=10)\n",
    "bigram_mdl = gensim.models.phrases.Phrases(clean_tokens, min_count=10, threshold=15)"
   ]
  },
  {
   "cell_type": "code",
   "execution_count": 93,
   "metadata": {},
   "outputs": [],
   "source": [
    "#Get the phrases in our corpus\n",
    "tokens_bigram= get_bigram_token(bigram_mdl,clean_tokens)"
   ]
  },
  {
   "cell_type": "code",
   "execution_count": 440,
   "metadata": {},
   "outputs": [],
   "source": [
    "#tokens_bigram includes 46 corpus, per each 46 developers in our sample dataset\n",
    "#tokens_bigram[0]"
   ]
  },
  {
   "cell_type": "code",
   "execution_count": 94,
   "metadata": {},
   "outputs": [
    {
     "data": {
      "text/plain": [
       "1428"
      ]
     },
     "execution_count": 94,
     "metadata": {},
     "output_type": "execute_result"
    }
   ],
   "source": [
    "#tokens_bigram[2]\n",
    "len(tokens_bigram)"
   ]
  },
  {
   "cell_type": "code",
   "execution_count": 95,
   "metadata": {},
   "outputs": [],
   "source": [
    "tmp_df = {'text_all':tokens_bigram,'label':txt_dt['label']}"
   ]
  },
  {
   "cell_type": "code",
   "execution_count": 96,
   "metadata": {},
   "outputs": [],
   "source": [
    "doc2vec_dt = pd.DataFrame(tmp_df)"
   ]
  },
  {
   "cell_type": "code",
   "execution_count": 97,
   "metadata": {},
   "outputs": [
    {
     "data": {
      "text/html": [
       "<div>\n",
       "<style scoped>\n",
       "    .dataframe tbody tr th:only-of-type {\n",
       "        vertical-align: middle;\n",
       "    }\n",
       "\n",
       "    .dataframe tbody tr th {\n",
       "        vertical-align: top;\n",
       "    }\n",
       "\n",
       "    .dataframe thead th {\n",
       "        text-align: right;\n",
       "    }\n",
       "</style>\n",
       "<table border=\"1\" class=\"dataframe\">\n",
       "  <thead>\n",
       "    <tr style=\"text-align: right;\">\n",
       "      <th></th>\n",
       "      <th>text_all</th>\n",
       "      <th>label</th>\n",
       "    </tr>\n",
       "  </thead>\n",
       "  <tbody>\n",
       "    <tr>\n",
       "      <td>0</td>\n",
       "      <td>[passion, student, learn, web, develop, static...</td>\n",
       "      <td>Frontend</td>\n",
       "    </tr>\n",
       "    <tr>\n",
       "      <td>1</td>\n",
       "      <td>[ordinari, person, focus, python, littl, game,...</td>\n",
       "      <td>Backend</td>\n",
       "    </tr>\n",
       "    <tr>\n",
       "      <td>2</td>\n",
       "      <td>[brian, natur, hand, technologist, gift, unive...</td>\n",
       "      <td>Frontend</td>\n",
       "    </tr>\n",
       "    <tr>\n",
       "      <td>3</td>\n",
       "      <td>[linker, android, enthusiast, mobil, develop, ...</td>\n",
       "      <td>Mobile</td>\n",
       "    </tr>\n",
       "    <tr>\n",
       "      <td>4</td>\n",
       "      <td>[bomb_zoomer, boomer_let, octocat, speech_ball...</td>\n",
       "      <td>Backend</td>\n",
       "    </tr>\n",
       "    <tr>\n",
       "      <td>...</td>\n",
       "      <td>...</td>\n",
       "      <td>...</td>\n",
       "    </tr>\n",
       "    <tr>\n",
       "      <td>1423</td>\n",
       "      <td>[try, learn, develop, new, everydai, address, ...</td>\n",
       "      <td>Mobile</td>\n",
       "    </tr>\n",
       "    <tr>\n",
       "      <td>1424</td>\n",
       "      <td>[учебный, проект, основам, kotlin, otuskotlin,...</td>\n",
       "      <td>Backend</td>\n",
       "    </tr>\n",
       "    <tr>\n",
       "      <td>1425</td>\n",
       "      <td>[learn, javascript, fun, graduat, project, htm...</td>\n",
       "      <td>Frontend</td>\n",
       "    </tr>\n",
       "    <tr>\n",
       "      <td>1426</td>\n",
       "      <td>[student_slovak, technic, univers_faculti, inf...</td>\n",
       "      <td>Backend</td>\n",
       "    </tr>\n",
       "    <tr>\n",
       "      <td>1427</td>\n",
       "      <td>[color, guess_game, color, guess_game, rgb_col...</td>\n",
       "      <td>Frontend</td>\n",
       "    </tr>\n",
       "  </tbody>\n",
       "</table>\n",
       "<p>1428 rows × 2 columns</p>\n",
       "</div>"
      ],
      "text/plain": [
       "                                               text_all     label\n",
       "0     [passion, student, learn, web, develop, static...  Frontend\n",
       "1     [ordinari, person, focus, python, littl, game,...   Backend\n",
       "2     [brian, natur, hand, technologist, gift, unive...  Frontend\n",
       "3     [linker, android, enthusiast, mobil, develop, ...    Mobile\n",
       "4     [bomb_zoomer, boomer_let, octocat, speech_ball...   Backend\n",
       "...                                                 ...       ...\n",
       "1423  [try, learn, develop, new, everydai, address, ...    Mobile\n",
       "1424  [учебный, проект, основам, kotlin, otuskotlin,...   Backend\n",
       "1425  [learn, javascript, fun, graduat, project, htm...  Frontend\n",
       "1426  [student_slovak, technic, univers_faculti, inf...   Backend\n",
       "1427  [color, guess_game, color, guess_game, rgb_col...  Frontend\n",
       "\n",
       "[1428 rows x 2 columns]"
      ]
     },
     "execution_count": 97,
     "metadata": {},
     "output_type": "execute_result"
    }
   ],
   "source": [
    "doc2vec_dt"
   ]
  },
  {
   "cell_type": "code",
   "execution_count": 99,
   "metadata": {},
   "outputs": [],
   "source": [
    "train_tagged = doc2vec_dt.apply(\n",
    "    lambda r: TaggedDocument(words=r['text_all'], tags=[r.label]), axis=1)"
   ]
  },
  {
   "cell_type": "code",
   "execution_count": 101,
   "metadata": {},
   "outputs": [],
   "source": [
    "import multiprocessing\n",
    "cores = multiprocessing.cpu_count()"
   ]
  },
  {
   "cell_type": "code",
   "execution_count": 102,
   "metadata": {},
   "outputs": [],
   "source": [
    "model_dbow = Doc2Vec(dm=0, vector_size=300, negative=5, hs=0, min_count=2, sample = 0, workers=cores)"
   ]
  },
  {
   "cell_type": "code",
   "execution_count": 103,
   "metadata": {},
   "outputs": [
    {
     "name": "stderr",
     "output_type": "stream",
     "text": [
      "100%|██████████████████████████████████████████████████████████████████████████| 1428/1428 [00:00<00:00, 481390.94it/s]\n"
     ]
    }
   ],
   "source": [
    "model_dbow.build_vocab([x for x in tqdm(train_tagged.values)])"
   ]
  },
  {
   "cell_type": "code",
   "execution_count": 104,
   "metadata": {},
   "outputs": [
    {
     "name": "stderr",
     "output_type": "stream",
     "text": [
      "100%|██████████████████████████████████████████████████████████████████████████| 1428/1428 [00:00<00:00, 714904.05it/s]\n",
      "100%|█████████████████████████████████████████████████████████████████████████| 1428/1428 [00:00<00:00, 1432543.92it/s]\n",
      "100%|██████████████████████████████████████████████████████████████████████████| 1428/1428 [00:00<00:00, 714904.05it/s]\n",
      "100%|█████████████████████████████████████████████████████████████████████████| 1428/1428 [00:00<00:00, 1431858.98it/s]\n",
      "100%|██████████████████████████████████████████████████████████████████████████| 1428/1428 [00:00<00:00, 713711.41it/s]\n",
      "100%|█████████████████████████████████████████████████████████████████████████| 1428/1428 [00:00<00:00, 1185798.08it/s]\n",
      "100%|██████████████████████████████████████████████████████████████████████████| 1428/1428 [00:00<00:00, 716271.96it/s]\n",
      "100%|██████████████████████████████████████████████████████████████████████████| 1428/1428 [00:00<00:00, 777549.80it/s]\n",
      "100%|██████████████████████████████████████████████████████████████████████████| 1428/1428 [00:00<00:00, 715330.96it/s]\n",
      "100%|█████████████████████████████████████████████████████████████████████████| 1428/1428 [00:00<00:00, 1430832.80it/s]\n",
      "100%|█████████████████████████████████████████████████████████████████████████| 1428/1428 [00:00<00:00, 1430491.07it/s]\n",
      "100%|█████████████████████████████████████████████████████████████████████████| 1428/1428 [00:00<00:00, 1428103.51it/s]\n",
      "100%|██████████████████████████████████████████████████████████████████████████| 1428/1428 [00:00<00:00, 167570.32it/s]\n",
      "100%|██████████████████████████████████████████████████████████████████████████| 1428/1428 [00:00<00:00, 716529.02it/s]\n",
      "100%|█████████████████████████████████████████████████████████████████████████| 1428/1428 [00:00<00:00, 1431858.98it/s]\n",
      "100%|██████████████████████████████████████████████████████████████████████████| 1428/1428 [00:00<00:00, 716271.96it/s]\n",
      "100%|█████████████████████████████████████████████████████████████████████████| 1428/1428 [00:00<00:00, 1430491.07it/s]\n",
      "100%|██████████████████████████████████████████████████████████████████████████| 1428/1428 [00:00<00:00, 716100.68it/s]\n",
      "100%|██████████████████████████████████████████████████████████████████████████| 1428/1428 [00:00<00:00, 716100.68it/s]\n",
      "100%|██████████████████████████████████████████████████████████████████████████| 1428/1428 [00:00<00:00, 238548.12it/s]\n",
      "100%|█████████████████████████████████████████████████████████████████████████| 1428/1428 [00:00<00:00, 1431174.70it/s]\n",
      "100%|██████████████████████████████████████████████████████████████████████████| 1428/1428 [00:00<00:00, 716100.68it/s]\n",
      "100%|█████████████████████████████████████████████████████████████████████████| 1428/1428 [00:00<00:00, 1429808.10it/s]\n",
      "100%|██████████████████████████████████████████████████████████████████████████| 1428/1428 [00:00<00:00, 158699.19it/s]\n",
      "100%|█████████████████████████████████████████████████████████████████████████| 1428/1428 [00:00<00:00, 1432201.37it/s]\n",
      "100%|█████████████████████████████████████████████████████████████████████████| 1428/1428 [00:00<00:00, 1431174.70it/s]\n",
      "100%|█████████████████████████████████████████████████████████████████████████| 1428/1428 [00:00<00:00, 1432201.37it/s]\n",
      "100%|██████████████████████████████████████████████████████████████████████████| 1428/1428 [00:00<00:00, 142895.53it/s]\n",
      "100%|█████████████████████████████████████████████████████████████████████████| 1428/1428 [00:00<00:00, 1431516.76it/s]\n",
      "100%|█████████████████████████████████████████████████████████████████████████| 1428/1428 [00:00<00:00, 1482174.24it/s]\n"
     ]
    },
    {
     "name": "stdout",
     "output_type": "stream",
     "text": [
      "Wall time: 3min 21s\n"
     ]
    }
   ],
   "source": [
    "%%time\n",
    "for epoch in range(30):\n",
    "    model_dbow.train(utils.shuffle([x for x in tqdm(train_tagged.values)]), total_examples=len(train_tagged.values), epochs=1)\n",
    "    model_dbow.alpha -= 0.002\n",
    "    model_dbow.min_alpha = model_dbow.alpha"
   ]
  },
  {
   "cell_type": "code",
   "execution_count": 106,
   "metadata": {},
   "outputs": [],
   "source": [
    "train, test = train_test_split(train_tagged, test_size=0.3, random_state=42)"
   ]
  },
  {
   "cell_type": "code",
   "execution_count": 107,
   "metadata": {},
   "outputs": [],
   "source": [
    "def vec_for_learning(model, tagged_docs):\n",
    "    sents = tagged_docs.values\n",
    "    targets, regressors = zip(*[(doc.tags[0], model.infer_vector(doc.words, steps=20)) for doc in sents])\n",
    "    return targets, regressors"
   ]
  },
  {
   "cell_type": "code",
   "execution_count": 108,
   "metadata": {},
   "outputs": [],
   "source": [
    "y_train, X_train = vec_for_learning(model_dbow, train)\n",
    "y_test, X_test = vec_for_learning(model_dbow, test)"
   ]
  },
  {
   "cell_type": "code",
   "execution_count": 109,
   "metadata": {},
   "outputs": [
    {
     "name": "stderr",
     "output_type": "stream",
     "text": [
      "C:\\Users\\morad\\Anaconda3\\lib\\site-packages\\sklearn\\linear_model\\logistic.py:432: FutureWarning: Default solver will be changed to 'lbfgs' in 0.22. Specify a solver to silence this warning.\n",
      "  FutureWarning)\n",
      "C:\\Users\\morad\\Anaconda3\\lib\\site-packages\\sklearn\\linear_model\\logistic.py:469: FutureWarning: Default multi_class will be changed to 'auto' in 0.22. Specify the multi_class option to silence this warning.\n",
      "  \"this warning.\", FutureWarning)\n",
      "C:\\Users\\morad\\Anaconda3\\lib\\site-packages\\sklearn\\svm\\base.py:929: ConvergenceWarning: Liblinear failed to converge, increase the number of iterations.\n",
      "  \"the number of iterations.\", ConvergenceWarning)\n"
     ]
    }
   ],
   "source": [
    "logreg = LogisticRegression(n_jobs=1, C=1e5)\n",
    "logreg.fit(X_train, y_train)\n",
    "y_pred = logreg.predict(X_test)"
   ]
  },
  {
   "cell_type": "code",
   "execution_count": 110,
   "metadata": {},
   "outputs": [
    {
     "name": "stdout",
     "output_type": "stream",
     "text": [
      "Testing accuracy 0.317016317016317\n",
      "Testing F1 score: 0.3318680255992614\n"
     ]
    }
   ],
   "source": [
    "from sklearn.metrics import accuracy_score, f1_score\n",
    "print('Testing accuracy %s' % accuracy_score(y_test, y_pred))\n",
    "print('Testing F1 score: {}'.format(f1_score(y_test, y_pred, average='weighted')))"
   ]
  },
  {
   "cell_type": "code",
   "execution_count": 111,
   "metadata": {},
   "outputs": [
    {
     "name": "stderr",
     "output_type": "stream",
     "text": [
      "100%|█████████████████████████████████████████████████████████████████████████| 1428/1428 [00:00<00:00, 1431858.98it/s]\n"
     ]
    }
   ],
   "source": [
    "model_dmm = Doc2Vec(dm=1, dm_mean=1, vector_size=300, window=10, negative=5, min_count=1, workers=5, alpha=0.065, min_alpha=0.065)\n",
    "model_dmm.build_vocab([x for x in tqdm(train_tagged.values)])"
   ]
  },
  {
   "cell_type": "code",
   "execution_count": 112,
   "metadata": {},
   "outputs": [
    {
     "name": "stderr",
     "output_type": "stream",
     "text": [
      "100%|██████████████████████████████████████████████████████████████████████████████████████| 1428/1428 [00:00<?, ?it/s]\n",
      "100%|██████████████████████████████████████████████████████████████████████████| 1428/1428 [00:00<00:00, 715843.92it/s]\n",
      "100%|█████████████████████████████████████████████████████████████████████████| 1428/1428 [00:00<00:00, 1373730.76it/s]\n",
      "100%|█████████████████████████████████████████████████████████████████████████| 1428/1428 [00:00<00:00, 1434946.36it/s]\n",
      "100%|█████████████████████████████████████████████████████████████████████████| 1428/1428 [00:00<00:00, 1431174.70it/s]\n",
      "100%|██████████████████████████████████████████████████████████████████████████| 1428/1428 [00:00<00:00, 729000.26it/s]\n",
      "100%|█████████████████████████████████████████████████████████████████████████| 1428/1428 [00:00<00:00, 1374045.91it/s]\n",
      "100%|█████████████████████████████████████████████████████████████████████████| 1428/1428 [00:00<00:00, 1430491.07it/s]\n",
      "100%|██████████████████████████████████████████████████████████████████████████| 1428/1428 [00:00<00:00, 730066.57it/s]\n",
      "100%|█████████████████████████████████████████████████████████████████████████| 1428/1428 [00:00<00:00, 1380379.38it/s]\n",
      "100%|█████████████████████████████████████████████████████████████████████████| 1428/1428 [00:00<00:00, 1359697.19it/s]\n",
      "100%|█████████████████████████████████████████████████████████████████████████| 1428/1428 [00:00<00:00, 1428444.10it/s]\n",
      "100%|██████████████████████████████████████████████████████████████████████████| 1428/1428 [00:00<00:00, 157236.85it/s]\n",
      "100%|██████████████████████████████████████████████████████████████████████████| 1428/1428 [00:00<00:00, 715929.49it/s]\n",
      "100%|█████████████████████████████████████████████████████████████████████████| 1428/1428 [00:00<00:00, 1376572.31it/s]\n",
      "100%|██████████████████████████████████████████████████████████████████████████| 1428/1428 [00:00<00:00, 715330.96it/s]\n",
      "100%|█████████████████████████████████████████████████████████████████████████| 1428/1428 [00:00<00:00, 1433229.51it/s]\n",
      "100%|██████████████████████████████████████████████████████████████████████████| 1428/1428 [00:00<00:00, 716529.02it/s]\n",
      "100%|█████████████████████████████████████████████████████████████████████████| 1428/1428 [00:00<00:00, 1429125.77it/s]\n",
      "100%|█████████████████████████████████████████████████████████████████████████| 1428/1428 [00:00<00:00, 1433572.55it/s]\n",
      "100%|█████████████████████████████████████████████████████████████████████████| 1428/1428 [00:00<00:00, 1432201.37it/s]\n",
      "100%|█████████████████████████████████████████████████████████████████████████| 1428/1428 [00:00<00:00, 1486957.82it/s]\n",
      "100%|█████████████████████████████████████████████████████████████████████████| 1428/1428 [00:00<00:00, 1431858.98it/s]\n",
      "100%|██████████████████████████████████████████████████████████████████████████| 1428/1428 [00:00<00:00, 146120.18it/s]\n",
      "100%|██████████████████████████████████████████████████████████████████████████| 1428/1428 [00:00<00:00, 731225.26it/s]\n",
      "100%|█████████████████████████████████████████████████████████████████████████| 1428/1428 [00:00<00:00, 1555301.51it/s]\n",
      "100%|██████████████████████████████████████████████████████████████████████████| 1428/1428 [00:00<00:00, 715074.75it/s]\n",
      "100%|█████████████████████████████████████████████████████████████████████████| 1428/1428 [00:00<00:00, 1431858.98it/s]\n",
      "100%|█████████████████████████████████████████████████████████████████████████| 1428/1428 [00:00<00:00, 1432201.37it/s]\n",
      "100%|██████████████████████████████████████████████████████████████████████████| 1428/1428 [00:00<00:00, 731403.85it/s]\n"
     ]
    },
    {
     "name": "stdout",
     "output_type": "stream",
     "text": [
      "Wall time: 6min 7s\n"
     ]
    }
   ],
   "source": [
    "%%time\n",
    "for epoch in range(30):\n",
    "    model_dmm.train(utils.shuffle([x for x in tqdm(train_tagged.values)]), total_examples=len(train_tagged.values), epochs=1)\n",
    "    model_dmm.alpha -= 0.002\n",
    "    model_dmm.min_alpha = model_dmm.alpha"
   ]
  },
  {
   "cell_type": "code",
   "execution_count": 153,
   "metadata": {},
   "outputs": [
    {
     "name": "stderr",
     "output_type": "stream",
     "text": [
      "C:\\Users\\morad\\Anaconda3\\lib\\site-packages\\sklearn\\linear_model\\logistic.py:469: FutureWarning: Default multi_class will be changed to 'auto' in 0.22. Specify the multi_class option to silence this warning.\n",
      "  \"this warning.\", FutureWarning)\n"
     ]
    },
    {
     "name": "stdout",
     "output_type": "stream",
     "text": [
      "Accuracy 0.8041958041958042\n",
      "F1 score: 0.8054707115824861\n",
      "Percision: 0.8114489284591462\n",
      "Recall: 0.8041958041958042\n"
     ]
    }
   ],
   "source": [
    "y_train, X_train = vec_for_learning(model_dmm, train)\n",
    "y_test, X_test = vec_for_learning(model_dmm, test)\n",
    "logreg.fit(X_train, y_train)\n",
    "y_pred = logreg.predict(X_test)\n",
    "print('Accuracy %s' % accuracy_score(y_test, y_pred))\n",
    "print('F1 score: {}'.format(f1_score(y_test, y_pred, average='weighted')))\n",
    "print('Percision: {}'.format(precision_score(y_test, y_pred, average='weighted')))\n",
    "print('Recall: {}'.format(recall_score(y_test, y_pred, average='weighted')))"
   ]
  },
  {
   "cell_type": "code",
   "execution_count": 114,
   "metadata": {},
   "outputs": [],
   "source": [
    "model_dbow.delete_temporary_training_data(keep_doctags_vectors=True, keep_inference=True)\n",
    "model_dmm.delete_temporary_training_data(keep_doctags_vectors=True, keep_inference=True)"
   ]
  },
  {
   "cell_type": "code",
   "execution_count": 18,
   "metadata": {},
   "outputs": [
    {
     "ename": "NameError",
     "evalue": "name 'model_dbow' is not defined",
     "output_type": "error",
     "traceback": [
      "\u001b[1;31m---------------------------------------------------------------------------\u001b[0m",
      "\u001b[1;31mNameError\u001b[0m                                 Traceback (most recent call last)",
      "\u001b[1;32m<ipython-input-18-eb6f4963ea64>\u001b[0m in \u001b[0;36m<module>\u001b[1;34m\u001b[0m\n\u001b[0;32m      1\u001b[0m \u001b[1;32mfrom\u001b[0m \u001b[0mgensim\u001b[0m\u001b[1;33m.\u001b[0m\u001b[0mtest\u001b[0m\u001b[1;33m.\u001b[0m\u001b[0mtest_doc2vec\u001b[0m \u001b[1;32mimport\u001b[0m \u001b[0mConcatenatedDoc2Vec\u001b[0m\u001b[1;33m\u001b[0m\u001b[1;33m\u001b[0m\u001b[0m\n\u001b[1;32m----> 2\u001b[1;33m \u001b[0mnew_model\u001b[0m \u001b[1;33m=\u001b[0m \u001b[0mConcatenatedDoc2Vec\u001b[0m\u001b[1;33m(\u001b[0m\u001b[1;33m[\u001b[0m\u001b[0mmodel_dbow\u001b[0m\u001b[1;33m,\u001b[0m \u001b[0mmodel_dmm\u001b[0m\u001b[1;33m]\u001b[0m\u001b[1;33m)\u001b[0m\u001b[1;33m\u001b[0m\u001b[1;33m\u001b[0m\u001b[0m\n\u001b[0m",
      "\u001b[1;31mNameError\u001b[0m: name 'model_dbow' is not defined"
     ]
    }
   ],
   "source": [
    "from gensim.test.test_doc2vec import ConcatenatedDoc2Vec\n",
    "new_model = ConcatenatedDoc2Vec([model_dbow, model_dmm])"
   ]
  },
  {
   "cell_type": "code",
   "execution_count": 118,
   "metadata": {},
   "outputs": [],
   "source": [
    "new_model = ConcatenatedDoc2Vec([model_dbow, model_dmm])"
   ]
  },
  {
   "cell_type": "code",
   "execution_count": 119,
   "metadata": {},
   "outputs": [],
   "source": [
    "def get_vectors(model, tagged_docs):\n",
    "    sents = tagged_docs.values\n",
    "    targets, regressors = zip(*[(doc.tags[0], model.infer_vector(doc.words, steps=20)) for doc in sents])\n",
    "    return targets, regressors"
   ]
  },
  {
   "cell_type": "code",
   "execution_count": 154,
   "metadata": {},
   "outputs": [
    {
     "name": "stderr",
     "output_type": "stream",
     "text": [
      "C:\\Users\\morad\\Anaconda3\\lib\\site-packages\\sklearn\\linear_model\\logistic.py:432: FutureWarning: Default solver will be changed to 'lbfgs' in 0.22. Specify a solver to silence this warning.\n",
      "  FutureWarning)\n",
      "C:\\Users\\morad\\Anaconda3\\lib\\site-packages\\sklearn\\linear_model\\logistic.py:469: FutureWarning: Default multi_class will be changed to 'auto' in 0.22. Specify the multi_class option to silence this warning.\n",
      "  \"this warning.\", FutureWarning)\n"
     ]
    },
    {
     "name": "stdout",
     "output_type": "stream",
     "text": [
      "Accuracy 0.8158508158508159\n",
      "F1 score: 0.8180603648897228\n",
      "Percision: 0.8254278644665968\n",
      "Recall: 0.8158508158508159\n"
     ]
    }
   ],
   "source": [
    "y_train, X_train = get_vectors(new_model, train)\n",
    "y_test, X_test = get_vectors(new_model, test)\n",
    "logreg.fit(X_train, y_train)\n",
    "y_pred = logreg.predict(X_test)\n",
    "print('Accuracy %s' % accuracy_score(y_test, y_pred))\n",
    "print('F1 score: {}'.format(f1_score(y_test, y_pred, average='weighted')))\n",
    "print('Percision: {}'.format(precision_score(y_test, y_pred, average='weighted')))\n",
    "print('Recall: {}'.format(recall_score(y_test, y_pred, average='weighted')))"
   ]
  },
  {
   "cell_type": "markdown",
   "metadata": {},
   "source": [
    "### bag of words"
   ]
  },
  {
   "cell_type": "code",
   "execution_count": 19,
   "metadata": {},
   "outputs": [],
   "source": [
    "def plot_confusion_matrix(cm, title='Confusion matrix', cmap=plt.cm.Blues):\n",
    "    plt.imshow(cm, interpolation='nearest', cmap=cmap)\n",
    "    plt.title(title)\n",
    "    plt.colorbar()\n",
    "    tick_marks = np.arange(len(my_tags))\n",
    "    target_names = my_tags\n",
    "    plt.xticks(tick_marks, target_names, rotation=45)\n",
    "    plt.yticks(tick_marks, target_names)\n",
    "    plt.tight_layout()\n",
    "    plt.ylabel('True label')\n",
    "    plt.xlabel('Predicted label')"
   ]
  },
  {
   "cell_type": "code",
   "execution_count": 205,
   "metadata": {},
   "outputs": [],
   "source": [
    "def evaluate_prediction(predictions, target, title=\"Confusion matrix\"):\n",
    "    print('accuracy %s' % accuracy_score(target, predictions))\n",
    "    print('Testing F1 score: {}'.format(f1_score(target, predictions, average='weighted')))\n",
    "    print('percision: {}'.format(precision_score(target, predictions, average='weighted')))\n",
    "    print('recall: {}'.format(recall_score(target, predictions, average='weighted')))\n",
    "    cm = confusion_matrix(target, predictions, labels=my_tags)\n",
    "    print('confusion matrix\\n %s' % cm)\n",
    "    print('(row=expected, col=predicted)')\n",
    "    \n",
    "    cm_normalized = cm.astype('float') / cm.sum(axis=1)[:, np.newaxis]\n",
    "    plot_confusion_matrix(cm_normalized, title + ' Normalized')"
   ]
  },
  {
   "cell_type": "code",
   "execution_count": 21,
   "metadata": {},
   "outputs": [],
   "source": [
    "def predict(vectorizer, classifier, data):\n",
    "    data_features = vectorizer.transform(data['textual_all'])\n",
    "    predictions = classifier.predict(data_features)\n",
    "    target = data['label']\n",
    "    evaluate_prediction(predictions, target)"
   ]
  },
  {
   "cell_type": "code",
   "execution_count": 207,
   "metadata": {},
   "outputs": [],
   "source": [
    "def tokenize_text(text):\n",
    "    tokens = []\n",
    "    for sent in nltk.sent_tokenize(text):\n",
    "        for word in nltk.word_tokenize(sent):\n",
    "            if len(word) < 2:\n",
    "                continue\n",
    "            tokens.append(word.lower())\n",
    "    return tokens"
   ]
  },
  {
   "cell_type": "code",
   "execution_count": 2,
   "metadata": {},
   "outputs": [],
   "source": [
    "import nltk\n",
    "from sklearn.model_selection import train_test_split\n",
    "from sklearn import linear_model\n",
    "from sklearn.feature_extraction.text import CountVectorizer, TfidfVectorizer\n",
    "from sklearn.metrics import accuracy_score, confusion_matrix, f1_score, precision_score, recall_score"
   ]
  },
  {
   "cell_type": "code",
   "execution_count": 24,
   "metadata": {},
   "outputs": [
    {
     "name": "stderr",
     "output_type": "stream",
     "text": [
      "[nltk_data] Downloading package punkt to\n",
      "[nltk_data]     C:\\Users\\morad\\AppData\\Roaming\\nltk_data...\n",
      "[nltk_data]   Package punkt is already up-to-date!\n"
     ]
    },
    {
     "data": {
      "text/plain": [
       "True"
      ]
     },
     "execution_count": 24,
     "metadata": {},
     "output_type": "execute_result"
    }
   ],
   "source": [
    "nltk.download('punkt')"
   ]
  },
  {
   "cell_type": "code",
   "execution_count": 216,
   "metadata": {},
   "outputs": [],
   "source": [
    "train_data, test_data = train_test_split(txt_dt, test_size=0.1, random_state=42)"
   ]
  },
  {
   "cell_type": "code",
   "execution_count": 217,
   "metadata": {},
   "outputs": [],
   "source": [
    "my_tags = txt_dt.label.unique()"
   ]
  },
  {
   "cell_type": "code",
   "execution_count": 218,
   "metadata": {},
   "outputs": [
    {
     "name": "stdout",
     "output_type": "stream",
     "text": [
      "Wall time: 4min 20s\n"
     ]
    }
   ],
   "source": [
    "%%time\n",
    "tf_vect = TfidfVectorizer(\n",
    "    min_df=2, tokenizer=nltk.word_tokenize,\n",
    "    preprocessor=None, stop_words='english')\n",
    "train_data_features = tf_vect.fit_transform(train_data['textual_all'])"
   ]
  },
  {
   "cell_type": "code",
   "execution_count": 161,
   "metadata": {},
   "outputs": [
    {
     "name": "stdout",
     "output_type": "stream",
     "text": [
      "Wall time: 4min 28s\n"
     ]
    }
   ],
   "source": [
    "%%time\n",
    "# training\n",
    "count_vectorizer = CountVectorizer(\n",
    "    analyzer=\"word\", tokenizer=nltk.word_tokenize,\n",
    "    preprocessor=None, stop_words='english', max_features=3000) \n",
    "train_data_features = count_vectorizer.fit_transform(train_data['textual_all'])"
   ]
  },
  {
   "cell_type": "code",
   "execution_count": 162,
   "metadata": {},
   "outputs": [
    {
     "name": "stderr",
     "output_type": "stream",
     "text": [
      "C:\\Users\\morad\\Anaconda3\\lib\\site-packages\\sklearn\\linear_model\\logistic.py:432: FutureWarning: Default solver will be changed to 'lbfgs' in 0.22. Specify a solver to silence this warning.\n",
      "  FutureWarning)\n",
      "C:\\Users\\morad\\Anaconda3\\lib\\site-packages\\sklearn\\linear_model\\logistic.py:469: FutureWarning: Default multi_class will be changed to 'auto' in 0.22. Specify the multi_class option to silence this warning.\n",
      "  \"this warning.\", FutureWarning)\n",
      "C:\\Users\\morad\\Anaconda3\\lib\\site-packages\\sklearn\\svm\\base.py:929: ConvergenceWarning: Liblinear failed to converge, increase the number of iterations.\n",
      "  \"the number of iterations.\", ConvergenceWarning)\n"
     ]
    },
    {
     "name": "stdout",
     "output_type": "stream",
     "text": [
      "Wall time: 12.4 s\n"
     ]
    }
   ],
   "source": [
    "%%time\n",
    "\n",
    "logreg = linear_model.LogisticRegression(n_jobs=1, C=1e5)\n",
    "logreg = logreg.fit(train_data_features, train_data['label'])"
   ]
  },
  {
   "cell_type": "code",
   "execution_count": 220,
   "metadata": {},
   "outputs": [
    {
     "name": "stderr",
     "output_type": "stream",
     "text": [
      "C:\\Users\\morad\\Anaconda3\\lib\\site-packages\\sklearn\\linear_model\\logistic.py:432: FutureWarning: Default solver will be changed to 'lbfgs' in 0.22. Specify a solver to silence this warning.\n",
      "  FutureWarning)\n",
      "C:\\Users\\morad\\Anaconda3\\lib\\site-packages\\sklearn\\linear_model\\logistic.py:469: FutureWarning: Default multi_class will be changed to 'auto' in 0.22. Specify the multi_class option to silence this warning.\n",
      "  \"this warning.\", FutureWarning)\n"
     ]
    }
   ],
   "source": [
    "###TFidf\n",
    "logreg = linear_model.LogisticRegression(n_jobs=1, C=1e5)\n",
    "logreg = logreg.fit(train_data_features, train_data['label'])"
   ]
  },
  {
   "cell_type": "code",
   "execution_count": 163,
   "metadata": {},
   "outputs": [
    {
     "name": "stdout",
     "output_type": "stream",
     "text": [
      "accuracy 0.5384615384615384\n",
      "Testing F1 score: 0.508303192187843\n",
      "percision: 0.5124128653540418\n",
      "percision: 0.5384615384615384\n",
      "confusion matrix\n",
      " [[43  2  6  1  0]\n",
      " [ 7  0  4  2  3]\n",
      " [17  5 20  3  5]\n",
      " [ 1  0  1 11  1]\n",
      " [ 6  1  1  0  3]]\n",
      "(row=expected, col=predicted)\n"
     ]
    },
    {
     "data": {
      "image/png": "[encoded data removed]",
      "text/plain": [
       "<Figure size 432x288 with 2 Axes>"
      ]
     },
     "metadata": {
      "needs_background": "light"
     },
     "output_type": "display_data"
    }
   ],
   "source": [
    "predict(count_vectorizer, logreg, test_data)"
   ]
  },
  {
   "cell_type": "code",
   "execution_count": 221,
   "metadata": {},
   "outputs": [
    {
     "name": "stdout",
     "output_type": "stream",
     "text": [
      "accuracy 0.5104895104895105\n",
      "Testing F1 score: 0.501902973642104\n",
      "percision: 0.5072981563890654\n",
      "recall: 0.5104895104895105\n",
      "confusion matrix\n",
      " [[34  7  8  2  0]\n",
      " [ 7  1  3  2  1]\n",
      " [17  4 18  3  5]\n",
      " [ 0  0  2 17  2]\n",
      " [ 2  2  2  1  3]]\n",
      "(row=expected, col=predicted)\n"
     ]
    },
    {
     "data": {
      "image/png": "[encoded data removed]",
      "text/plain": [
       "<Figure size 432x288 with 2 Axes>"
      ]
     },
     "metadata": {
      "needs_background": "light"
     },
     "output_type": "display_data"
    }
   ],
   "source": [
    "#predict ifidf\n",
    "predict(tf_vect, logreg, test_data)"
   ]
  },
  {
   "cell_type": "markdown",
   "metadata": {},
   "source": [
    "### Average WE"
   ]
  },
  {
   "cell_type": "code",
   "execution_count": 25,
   "metadata": {},
   "outputs": [],
   "source": [
    "#define the final DataFrame format\n",
    "Corpus = pd.DataFrame(columns=['Name','u_id','bio','Repo_Name','ReadMe','textual_all'])"
   ]
  },
  {
   "cell_type": "code",
   "execution_count": 26,
   "metadata": {},
   "outputs": [],
   "source": [
    "#loop over all files in a directory and collect required fields\n",
    "for filename in os.listdir(directory):\n",
    "    file_path = os.path.join(directory, filename)\n",
    "    reader = open_file(file_path) \n",
    "    bio   = newline(str(reader['bio']))\n",
    "    Name = str(reader['name'])\n",
    "    try:\n",
    "        u_id= str(reader['u_id'])\n",
    "    except:\n",
    "        u_id =\"none\"\n",
    "        \n",
    "    RM = []\n",
    "    repo_name=[]\n",
    "    repo_tags=[]\n",
    "    repo_topics=[]\n",
    "    repo_text=[]\n",
    "    \n",
    "    for row in range(0,len(reader['repository'])):\n",
    "        repo_name_tmp = str(reader['repository'][row]['repo_name'])\n",
    "        repo_RM_tmp = newline(str(reader['repository'][row]['readme']))\n",
    "        repo_tags_tmp = str(reader['repository'][row]['topics'])\n",
    "        repo_topics_tmp=newline(str(reader['repository'][row]['about']))\n",
    "        \n",
    "        #repo_name.append(repo_name_tmp)\n",
    "        #RM.append(repo_RM_tmp)\n",
    "        #repo_tags.append(repo_tags_tmp)\n",
    "        #repo_topics.append(repo_topics_tmp)   \n",
    "        \n",
    "        repo_text_tmp = merg_text(merg_text(repo_tags_tmp,repo_topics_tmp),merg_text(repo_name_tmp,merg_text(bio,repo_RM_tmp)))\n",
    "        Corpus = Corpus.append({'Name':Name,'u_id':u_id,'bio':bio,'Repo_Name':repo_name_tmp,'ReadMe':repo_RM_tmp,\n",
    "                            'textual_all':repo_text_tmp},ignore_index=True)\n",
    "        \n",
    "        #repo_text.append(repo_text_tmp)\n",
    "        \n",
    "        \n",
    "        \n",
    "    #text_all = merg_RM(repo_text) \n",
    "   # info_all = merg_text(bio,text_all)\n",
    "    \n",
    "    \n",
    "   # Corpus = Corpus.append({'Name':Name,'u_id':u_id,'bio':bio,'Repo_Name':repo_name,'ReadMe':RM,\n",
    "                            #'textual_all':info_all},ignore_index=True)\n",
    "    "
   ]
  },
  {
   "cell_type": "code",
   "execution_count": 27,
   "metadata": {},
   "outputs": [
    {
     "data": {
      "text/plain": [
       "58575"
      ]
     },
     "execution_count": 27,
     "metadata": {},
     "output_type": "execute_result"
    }
   ],
   "source": [
    "len(Corpus)"
   ]
  },
  {
   "cell_type": "code",
   "execution_count": 28,
   "metadata": {},
   "outputs": [],
   "source": [
    "dt3=Corpus[['u_id','textual_all']]"
   ]
  },
  {
   "cell_type": "code",
   "execution_count": 29,
   "metadata": {},
   "outputs": [],
   "source": [
    "merged_inner = pd.merge(left=dt3, right=dt2[['gh_login','label']], left_on='u_id', right_on='gh_login')"
   ]
  },
  {
   "cell_type": "code",
   "execution_count": 58,
   "metadata": {},
   "outputs": [],
   "source": [
    "repo_txt_dt=merged_inner[['u_id','textual_all','label']]"
   ]
  },
  {
   "cell_type": "code",
   "execution_count": 60,
   "metadata": {},
   "outputs": [
    {
     "data": {
      "text/html": [
       "<div>\n",
       "<style scoped>\n",
       "    .dataframe tbody tr th:only-of-type {\n",
       "        vertical-align: middle;\n",
       "    }\n",
       "\n",
       "    .dataframe tbody tr th {\n",
       "        vertical-align: top;\n",
       "    }\n",
       "\n",
       "    .dataframe thead th {\n",
       "        text-align: right;\n",
       "    }\n",
       "</style>\n",
       "<table border=\"1\" class=\"dataframe\">\n",
       "  <thead>\n",
       "    <tr style=\"text-align: right;\">\n",
       "      <th></th>\n",
       "      <th>u_id</th>\n",
       "      <th>textual_all</th>\n",
       "      <th>label</th>\n",
       "    </tr>\n",
       "  </thead>\n",
       "  <tbody>\n",
       "    <tr>\n",
       "      <td>0</td>\n",
       "      <td>0raclewind</td>\n",
       "      <td>none\\n Static Web pages\\n 0raclewind.github.io...</td>\n",
       "      <td>Frontend</td>\n",
       "    </tr>\n",
       "    <tr>\n",
       "      <td>1</td>\n",
       "      <td>0raclewind</td>\n",
       "      <td>none\\n An enterprise social network\\n bootcamp...</td>\n",
       "      <td>Frontend</td>\n",
       "    </tr>\n",
       "    <tr>\n",
       "      <td>2</td>\n",
       "      <td>0raclewind</td>\n",
       "      <td>none\\n None\\n cryptogram\\n Passionate student ...</td>\n",
       "      <td>Frontend</td>\n",
       "    </tr>\n",
       "    <tr>\n",
       "      <td>3</td>\n",
       "      <td>0raclewind</td>\n",
       "      <td>none\\n None\\n CS50-repo\\n Passionate student l...</td>\n",
       "      <td>Frontend</td>\n",
       "    </tr>\n",
       "    <tr>\n",
       "      <td>4</td>\n",
       "      <td>0raclewind</td>\n",
       "      <td>none\\n None\\n cs50w\\n Passionate student learn...</td>\n",
       "      <td>Frontend</td>\n",
       "    </tr>\n",
       "  </tbody>\n",
       "</table>\n",
       "</div>"
      ],
      "text/plain": [
       "         u_id                                        textual_all     label\n",
       "0  0raclewind  none\\n Static Web pages\\n 0raclewind.github.io...  Frontend\n",
       "1  0raclewind  none\\n An enterprise social network\\n bootcamp...  Frontend\n",
       "2  0raclewind  none\\n None\\n cryptogram\\n Passionate student ...  Frontend\n",
       "3  0raclewind  none\\n None\\n CS50-repo\\n Passionate student l...  Frontend\n",
       "4  0raclewind  none\\n None\\n cs50w\\n Passionate student learn...  Frontend"
      ]
     },
     "execution_count": 60,
     "metadata": {},
     "output_type": "execute_result"
    }
   ],
   "source": [
    "repo_txt_dt.head()"
   ]
  },
  {
   "cell_type": "code",
   "execution_count": 32,
   "metadata": {},
   "outputs": [],
   "source": [
    "#split sentence in documents (Corpus['textual_all'])\n",
    "repo_sentences_stream = split_sentence(repo_txt_dt['textual_all'])"
   ]
  },
  {
   "cell_type": "code",
   "execution_count": 33,
   "metadata": {},
   "outputs": [],
   "source": [
    "#tokenize all sentences\n",
    "repo_tokenize_sentence=[]\n",
    "for row in repo_sentences_stream:\n",
    "    tokenize_st = flatten_list(token_in_sentence(row))\n",
    "    repo_tokenize_sentence.append(tokenize_st)"
   ]
  },
  {
   "cell_type": "code",
   "execution_count": 34,
   "metadata": {},
   "outputs": [
    {
     "data": {
      "text/plain": [
       "47485"
      ]
     },
     "execution_count": 34,
     "metadata": {},
     "output_type": "execute_result"
    }
   ],
   "source": [
    "len(repo_tokenize_sentence)"
   ]
  },
  {
   "cell_type": "code",
   "execution_count": 50,
   "metadata": {},
   "outputs": [],
   "source": [
    "repo_processing_tokens_4 = [str_preprocessing(sen) for sen in repo_tokenize_sentence[40000:47485]]"
   ]
  },
  {
   "cell_type": "code",
   "execution_count": 51,
   "metadata": {},
   "outputs": [
    {
     "data": {
      "text/plain": [
       "7485"
      ]
     },
     "execution_count": 51,
     "metadata": {},
     "output_type": "execute_result"
    }
   ],
   "source": [
    "len(repo_processing_tokens_4)"
   ]
  },
  {
   "cell_type": "code",
   "execution_count": 52,
   "metadata": {},
   "outputs": [],
   "source": [
    "repo_clean_tokens_4=[]\n",
    "for row in repo_processing_tokens_4:\n",
    "    repo_clean_tokens_4.append([w for w in row if len(w)>2])"
   ]
  },
  {
   "cell_type": "code",
   "execution_count": 53,
   "metadata": {},
   "outputs": [],
   "source": [
    "repo_clean_tokens = repo_clean_tokens_1 + repo_clean_tokens_2 + repo_clean_tokens_3 + repo_clean_tokens_4"
   ]
  },
  {
   "cell_type": "code",
   "execution_count": 54,
   "metadata": {},
   "outputs": [
    {
     "data": {
      "text/plain": [
       "47485"
      ]
     },
     "execution_count": 54,
     "metadata": {},
     "output_type": "execute_result"
    }
   ],
   "source": [
    "len(repo_clean_tokens)"
   ]
  },
  {
   "cell_type": "code",
   "execution_count": 55,
   "metadata": {},
   "outputs": [],
   "source": [
    "bigram_mdl = gensim.models.phrases.Phrases(repo_clean_tokens, min_count=10, threshold=15)"
   ]
  },
  {
   "cell_type": "code",
   "execution_count": 56,
   "metadata": {},
   "outputs": [],
   "source": [
    "tokens_bigram= get_bigram_token(bigram_mdl,repo_clean_tokens)"
   ]
  },
  {
   "cell_type": "code",
   "execution_count": 57,
   "metadata": {},
   "outputs": [
    {
     "data": {
      "text/plain": [
       "47485"
      ]
     },
     "execution_count": 57,
     "metadata": {},
     "output_type": "execute_result"
    }
   ],
   "source": [
    "len(tokens_bigram)"
   ]
  },
  {
   "cell_type": "code",
   "execution_count": 62,
   "metadata": {},
   "outputs": [],
   "source": [
    "repo_tmp_df = {'u_id':repo_txt_dt['u_id'],'text_all':tokens_bigram,'label':repo_txt_dt['label']}"
   ]
  },
  {
   "cell_type": "code",
   "execution_count": 64,
   "metadata": {},
   "outputs": [],
   "source": [
    "repo_doc2vec_dt = pd.DataFrame(repo_tmp_df)"
   ]
  },
  {
   "cell_type": "code",
   "execution_count": 65,
   "metadata": {},
   "outputs": [
    {
     "data": {
      "text/plain": [
       "47485"
      ]
     },
     "execution_count": 65,
     "metadata": {},
     "output_type": "execute_result"
    }
   ],
   "source": [
    "len(repo_doc2vec_dt)"
   ]
  },
  {
   "cell_type": "code",
   "execution_count": 66,
   "metadata": {},
   "outputs": [
    {
     "data": {
      "text/html": [
       "<div>\n",
       "<style scoped>\n",
       "    .dataframe tbody tr th:only-of-type {\n",
       "        vertical-align: middle;\n",
       "    }\n",
       "\n",
       "    .dataframe tbody tr th {\n",
       "        vertical-align: top;\n",
       "    }\n",
       "\n",
       "    .dataframe thead th {\n",
       "        text-align: right;\n",
       "    }\n",
       "</style>\n",
       "<table border=\"1\" class=\"dataframe\">\n",
       "  <thead>\n",
       "    <tr style=\"text-align: right;\">\n",
       "      <th></th>\n",
       "      <th>u_id</th>\n",
       "      <th>text_all</th>\n",
       "      <th>label</th>\n",
       "    </tr>\n",
       "  </thead>\n",
       "  <tbody>\n",
       "    <tr>\n",
       "      <td>0</td>\n",
       "      <td>0raclewind</td>\n",
       "      <td>[static, web, page, raclewind, github, passion...</td>\n",
       "      <td>Frontend</td>\n",
       "    </tr>\n",
       "    <tr>\n",
       "      <td>1</td>\n",
       "      <td>0raclewind</td>\n",
       "      <td>[enterpris, social_network, bootcamp, passion,...</td>\n",
       "      <td>Frontend</td>\n",
       "    </tr>\n",
       "    <tr>\n",
       "      <td>2</td>\n",
       "      <td>0raclewind</td>\n",
       "      <td>[cryptogram, passion, student, learn, web, dev...</td>\n",
       "      <td>Frontend</td>\n",
       "    </tr>\n",
       "    <tr>\n",
       "      <td>3</td>\n",
       "      <td>0raclewind</td>\n",
       "      <td>[repo, passion, student, learn, web, develop]</td>\n",
       "      <td>Frontend</td>\n",
       "    </tr>\n",
       "    <tr>\n",
       "      <td>4</td>\n",
       "      <td>0raclewind</td>\n",
       "      <td>[passion, student, learn, web, develop]</td>\n",
       "      <td>Frontend</td>\n",
       "    </tr>\n",
       "    <tr>\n",
       "      <td>...</td>\n",
       "      <td>...</td>\n",
       "      <td>...</td>\n",
       "      <td>...</td>\n",
       "    </tr>\n",
       "    <tr>\n",
       "      <td>47480</td>\n",
       "      <td>zxl86</td>\n",
       "      <td>[monster_rolodex]</td>\n",
       "      <td>Frontend</td>\n",
       "    </tr>\n",
       "    <tr>\n",
       "      <td>47481</td>\n",
       "      <td>zxl86</td>\n",
       "      <td>[rsvp, rsvp, respons, rsvp, web, applic, enabl...</td>\n",
       "      <td>Frontend</td>\n",
       "    </tr>\n",
       "    <tr>\n",
       "      <td>47482</td>\n",
       "      <td>zxl86</td>\n",
       "      <td>[todo, react, get_start, creat, react, app, pr...</td>\n",
       "      <td>Frontend</td>\n",
       "    </tr>\n",
       "    <tr>\n",
       "      <td>47483</td>\n",
       "      <td>zxl86</td>\n",
       "      <td>[weather, widget, editor, run, project, mac, w...</td>\n",
       "      <td>Frontend</td>\n",
       "    </tr>\n",
       "    <tr>\n",
       "      <td>47484</td>\n",
       "      <td>zxl86</td>\n",
       "      <td>[zxl, github, zxl, github, person_portfolio]</td>\n",
       "      <td>Frontend</td>\n",
       "    </tr>\n",
       "  </tbody>\n",
       "</table>\n",
       "<p>47485 rows × 3 columns</p>\n",
       "</div>"
      ],
      "text/plain": [
       "             u_id                                           text_all     label\n",
       "0      0raclewind  [static, web, page, raclewind, github, passion...  Frontend\n",
       "1      0raclewind  [enterpris, social_network, bootcamp, passion,...  Frontend\n",
       "2      0raclewind  [cryptogram, passion, student, learn, web, dev...  Frontend\n",
       "3      0raclewind      [repo, passion, student, learn, web, develop]  Frontend\n",
       "4      0raclewind            [passion, student, learn, web, develop]  Frontend\n",
       "...           ...                                                ...       ...\n",
       "47480       zxl86                                  [monster_rolodex]  Frontend\n",
       "47481       zxl86  [rsvp, rsvp, respons, rsvp, web, applic, enabl...  Frontend\n",
       "47482       zxl86  [todo, react, get_start, creat, react, app, pr...  Frontend\n",
       "47483       zxl86  [weather, widget, editor, run, project, mac, w...  Frontend\n",
       "47484       zxl86       [zxl, github, zxl, github, person_portfolio]  Frontend\n",
       "\n",
       "[47485 rows x 3 columns]"
      ]
     },
     "execution_count": 66,
     "metadata": {},
     "output_type": "execute_result"
    }
   ],
   "source": [
    "repo_doc2vec_dt"
   ]
  },
  {
   "cell_type": "code",
   "execution_count": 67,
   "metadata": {},
   "outputs": [],
   "source": [
    "from gensim.models import word2vec"
   ]
  },
  {
   "cell_type": "code",
   "execution_count": 82,
   "metadata": {},
   "outputs": [],
   "source": [
    "repo_w2v_model = word2vec.Word2Vec(tokens_bigram, size=200, window=50, min_count=5, workers=1)"
   ]
  },
  {
   "cell_type": "code",
   "execution_count": 101,
   "metadata": {},
   "outputs": [
    {
     "data": {
      "text/plain": [
       "[('lookup_demo', 0.5082775354385376),\n",
       " ('fullstackreact_food', 0.5082755088806152),\n",
       " ('frontend', 0.48573464155197144),\n",
       " ('rail_proxi', 0.4679315686225891),\n",
       " ('starandtina', 0.46289023756980896),\n",
       " ('www_fullstackreact', 0.46266674995422363),\n",
       " ('server_companion', 0.4430949091911316),\n",
       " ('tjenkin', 0.41589176654815674),\n",
       " ('solid_ethereum', 0.4039526879787445),\n",
       " ('programm_mainli', 0.4004155397415161),\n",
       " ('oneturkmen', 0.3850681781768799),\n",
       " ('companion', 0.38415881991386414),\n",
       " ('jokosu', 0.37050676345825195),\n",
       " ('gkal', 0.36648792028427124),\n",
       " ('thearena', 0.35989832878112793)]"
      ]
     },
     "execution_count": 101,
     "metadata": {},
     "output_type": "execute_result"
    }
   ],
   "source": [
    "repo_w2v_model.wv.most_similar('backend',topn=15)"
   ]
  },
  {
   "cell_type": "code",
   "execution_count": 85,
   "metadata": {},
   "outputs": [],
   "source": [
    "repo_w2v_model.save(\"repo_word2vec_github.model\")"
   ]
  },
  {
   "cell_type": "code",
   "execution_count": 103,
   "metadata": {},
   "outputs": [],
   "source": [
    "def word_averaging(model, words):\n",
    "    all_words, mean = set(), []\n",
    "    \n",
    "    for word in words:\n",
    "        if isinstance(word, np.ndarray):\n",
    "            mean.append(word)\n",
    "        elif word in model.wv.vocab:\n",
    "            mean.append(model.wv.syn0norm[model.wv.vocab[word].index])\n",
    "            all_words.add(model.wv.vocab[word].index)\n",
    "\n",
    "    if not mean:\n",
    "        #print(\"cannot compute similarity with no input %s\", words)\n",
    "        # FIXME: remove these examples in pre-processing\n",
    "        return np.zeros(model.layer1_size,)\n",
    "\n",
    "    mean = gensim.matutils.unitvec(np.array(mean).mean(axis=0)).astype(np.float32)\n",
    "    return mean\n",
    "\n",
    "def  word_averaging_list(wv, text_list):\n",
    "    return np.vstack([word_averaging(wv, review) for review in text_list ])"
   ]
  },
  {
   "cell_type": "code",
   "execution_count": 105,
   "metadata": {},
   "outputs": [
    {
     "data": {
      "text/plain": [
       "47485"
      ]
     },
     "execution_count": 105,
     "metadata": {},
     "output_type": "execute_result"
    }
   ],
   "source": [
    "len(repo_word_average)"
   ]
  },
  {
   "cell_type": "code",
   "execution_count": null,
   "metadata": {},
   "outputs": [],
   "source": [
    "train_data, test_data = train_test_split(repo_doc2vec_dt, test_size=0.1, random_state=42)"
   ]
  },
  {
   "cell_type": "code",
   "execution_count": 136,
   "metadata": {},
   "outputs": [
    {
     "name": "stderr",
     "output_type": "stream",
     "text": [
      "C:\\Users\\morad\\Anaconda3\\lib\\site-packages\\ipykernel_launcher.py:8: DeprecationWarning: Call to deprecated `syn0norm` (Attribute will be removed in 4.0.0, use self.vectors_norm instead).\n",
      "  \n",
      "C:\\Users\\morad\\Anaconda3\\lib\\site-packages\\ipykernel_launcher.py:14: DeprecationWarning: Call to deprecated `layer1_size` (Attribute will be removed in 4.0.0, use self.trainables.layer1_size instead).\n",
      "  \n"
     ]
    }
   ],
   "source": [
    "repo_word_average = word_averaging_list(repo_w2v_model,tokens_bigram)"
   ]
  },
  {
   "cell_type": "code",
   "execution_count": 137,
   "metadata": {},
   "outputs": [],
   "source": [
    "repo_avg_df = {'u_id':repo_doc2vec_dt['u_id'],'text_all':repo_word_average.tolist(),'label':repo_doc2vec_dt['label']}"
   ]
  },
  {
   "cell_type": "code",
   "execution_count": 138,
   "metadata": {},
   "outputs": [],
   "source": [
    "repo_avg_wv = pd.DataFrame(repo_avg_df)"
   ]
  },
  {
   "cell_type": "code",
   "execution_count": 159,
   "metadata": {},
   "outputs": [],
   "source": [
    "def vector_average(group):\n",
    "    series_to_array = np.array(group.tolist())\n",
    "    return np.mean(series_to_array, axis = 0)"
   ]
  },
  {
   "cell_type": "code",
   "execution_count": 164,
   "metadata": {},
   "outputs": [
    {
     "data": {
      "text/plain": [
       "47485"
      ]
     },
     "execution_count": 164,
     "metadata": {},
     "output_type": "execute_result"
    }
   ],
   "source": [
    "len(repo_avg_wv)"
   ]
  },
  {
   "cell_type": "code",
   "execution_count": 173,
   "metadata": {},
   "outputs": [],
   "source": [
    "dev_vec_avg=repo_avg_wv.groupby('u_id')['text_all'].apply(vector_average)"
   ]
  },
  {
   "cell_type": "code",
   "execution_count": 174,
   "metadata": {},
   "outputs": [],
   "source": [
    "dev_vec_avg_df = pd.DataFrame(dev_vec_avg).reset_index()"
   ]
  },
  {
   "cell_type": "code",
   "execution_count": 175,
   "metadata": {},
   "outputs": [
    {
     "data": {
      "text/html": [
       "<div>\n",
       "<style scoped>\n",
       "    .dataframe tbody tr th:only-of-type {\n",
       "        vertical-align: middle;\n",
       "    }\n",
       "\n",
       "    .dataframe tbody tr th {\n",
       "        vertical-align: top;\n",
       "    }\n",
       "\n",
       "    .dataframe thead th {\n",
       "        text-align: right;\n",
       "    }\n",
       "</style>\n",
       "<table border=\"1\" class=\"dataframe\">\n",
       "  <thead>\n",
       "    <tr style=\"text-align: right;\">\n",
       "      <th></th>\n",
       "      <th>u_id</th>\n",
       "      <th>text_all</th>\n",
       "    </tr>\n",
       "  </thead>\n",
       "  <tbody>\n",
       "    <tr>\n",
       "      <td>0</td>\n",
       "      <td>0raclewind</td>\n",
       "      <td>[0.06169216446578503, -0.03852514638565481, 0....</td>\n",
       "    </tr>\n",
       "    <tr>\n",
       "      <td>1</td>\n",
       "      <td>1xuan</td>\n",
       "      <td>[-0.002924589595446984, 0.059879501815885305, ...</td>\n",
       "    </tr>\n",
       "    <tr>\n",
       "      <td>2</td>\n",
       "      <td>4mifix</td>\n",
       "      <td>[-0.03759062166015307, -0.0072496456640591435,...</td>\n",
       "    </tr>\n",
       "    <tr>\n",
       "      <td>3</td>\n",
       "      <td>54LiNKeR</td>\n",
       "      <td>[0.023022594618781183, -0.047122604124104746, ...</td>\n",
       "    </tr>\n",
       "    <tr>\n",
       "      <td>4</td>\n",
       "      <td>5aboteur</td>\n",
       "      <td>[0.03262735875384686, -0.04721640296721537, 0....</td>\n",
       "    </tr>\n",
       "    <tr>\n",
       "      <td>...</td>\n",
       "      <td>...</td>\n",
       "      <td>...</td>\n",
       "    </tr>\n",
       "    <tr>\n",
       "      <td>1400</td>\n",
       "      <td>zorrodg</td>\n",
       "      <td>[-0.015871385467194375, -0.03629233078321531, ...</td>\n",
       "    </tr>\n",
       "    <tr>\n",
       "      <td>1401</td>\n",
       "      <td>zundarik</td>\n",
       "      <td>[0.014458707932915007, -0.08652578520455531, -...</td>\n",
       "    </tr>\n",
       "    <tr>\n",
       "      <td>1402</td>\n",
       "      <td>zuni4ka</td>\n",
       "      <td>[0.0018869513180106879, -0.0822878584265709, -...</td>\n",
       "    </tr>\n",
       "    <tr>\n",
       "      <td>1403</td>\n",
       "      <td>zurek11</td>\n",
       "      <td>[0.0631397199613275, -0.07552248747864117, 0.0...</td>\n",
       "    </tr>\n",
       "    <tr>\n",
       "      <td>1404</td>\n",
       "      <td>zxl86</td>\n",
       "      <td>[0.04412795573642308, -0.015045326287773523, -...</td>\n",
       "    </tr>\n",
       "  </tbody>\n",
       "</table>\n",
       "<p>1405 rows × 2 columns</p>\n",
       "</div>"
      ],
      "text/plain": [
       "            u_id                                           text_all\n",
       "0     0raclewind  [0.06169216446578503, -0.03852514638565481, 0....\n",
       "1          1xuan  [-0.002924589595446984, 0.059879501815885305, ...\n",
       "2         4mifix  [-0.03759062166015307, -0.0072496456640591435,...\n",
       "3       54LiNKeR  [0.023022594618781183, -0.047122604124104746, ...\n",
       "4       5aboteur  [0.03262735875384686, -0.04721640296721537, 0....\n",
       "...          ...                                                ...\n",
       "1400     zorrodg  [-0.015871385467194375, -0.03629233078321531, ...\n",
       "1401    zundarik  [0.014458707932915007, -0.08652578520455531, -...\n",
       "1402     zuni4ka  [0.0018869513180106879, -0.0822878584265709, -...\n",
       "1403     zurek11  [0.0631397199613275, -0.07552248747864117, 0.0...\n",
       "1404       zxl86  [0.04412795573642308, -0.015045326287773523, -...\n",
       "\n",
       "[1405 rows x 2 columns]"
      ]
     },
     "execution_count": 175,
     "metadata": {},
     "output_type": "execute_result"
    }
   ],
   "source": [
    "dev_vec_avg_df"
   ]
  },
  {
   "cell_type": "code",
   "execution_count": 176,
   "metadata": {},
   "outputs": [],
   "source": [
    "avg_merged_inner = pd.merge(left=dev_vec_avg_df, right=dt2[['gh_login','label']], left_on='u_id', right_on='gh_login')"
   ]
  },
  {
   "cell_type": "code",
   "execution_count": 178,
   "metadata": {},
   "outputs": [],
   "source": [
    "avg_final_dt = avg_merged_inner[['text_all','label']]"
   ]
  },
  {
   "cell_type": "code",
   "execution_count": 184,
   "metadata": {},
   "outputs": [
    {
     "data": {
      "text/plain": [
       "1405"
      ]
     },
     "execution_count": 184,
     "metadata": {},
     "output_type": "execute_result"
    }
   ],
   "source": [
    "len(avg_final_dt)"
   ]
  },
  {
   "cell_type": "code",
   "execution_count": 179,
   "metadata": {},
   "outputs": [],
   "source": [
    "train_data, test_data = train_test_split(avg_final_dt, test_size=0.1, random_state=42)"
   ]
  },
  {
   "cell_type": "code",
   "execution_count": 203,
   "metadata": {},
   "outputs": [],
   "source": [
    "my_tags = avg_final_dt.label.unique()"
   ]
  },
  {
   "cell_type": "code",
   "execution_count": 197,
   "metadata": {},
   "outputs": [],
   "source": [
    "avg_train = np.vstack([row for row in train_data['text_all'] ])"
   ]
  },
  {
   "cell_type": "code",
   "execution_count": 199,
   "metadata": {},
   "outputs": [],
   "source": [
    "avg_test = np.vstack([row for row in test_data['text_all'] ])"
   ]
  },
  {
   "cell_type": "code",
   "execution_count": 198,
   "metadata": {},
   "outputs": [
    {
     "name": "stderr",
     "output_type": "stream",
     "text": [
      "C:\\Users\\morad\\Anaconda3\\lib\\site-packages\\sklearn\\linear_model\\logistic.py:432: FutureWarning: Default solver will be changed to 'lbfgs' in 0.22. Specify a solver to silence this warning.\n",
      "  FutureWarning)\n",
      "C:\\Users\\morad\\Anaconda3\\lib\\site-packages\\sklearn\\linear_model\\logistic.py:469: FutureWarning: Default multi_class will be changed to 'auto' in 0.22. Specify the multi_class option to silence this warning.\n",
      "  \"this warning.\", FutureWarning)\n"
     ]
    },
    {
     "name": "stdout",
     "output_type": "stream",
     "text": [
      "Wall time: 897 ms\n"
     ]
    }
   ],
   "source": [
    "%%time\n",
    "repo_logreg = linear_model.LogisticRegression(n_jobs=1, C=1e5)\n",
    "\n",
    "repo_logreg = repo_logreg.fit(avg_train, train_data['label'])"
   ]
  },
  {
   "cell_type": "code",
   "execution_count": 200,
   "metadata": {},
   "outputs": [],
   "source": [
    "predicted = repo_logreg.predict(avg_test)"
   ]
  },
  {
   "cell_type": "code",
   "execution_count": 206,
   "metadata": {},
   "outputs": [
    {
     "name": "stdout",
     "output_type": "stream",
     "text": [
      "accuracy 0.5602836879432624\n",
      "Testing F1 score: 0.547881564441179\n",
      "percision: 0.5460181025690544\n",
      "recall: 0.5602836879432624\n",
      "confusion matrix\n",
      " [[36  3  4  2  4]\n",
      " [ 9  5  6  1  4]\n",
      " [ 8  2 24  4  2]\n",
      " [ 2  3  0 10  0]\n",
      " [ 2  2  3  1  4]]\n",
      "(row=expected, col=predicted)\n"
     ]
    },
    {
     "data": {
      "image/png": "[encoded data removed]",
      "text/plain": [
       "<Figure size 432x288 with 2 Axes>"
      ]
     },
     "metadata": {
      "needs_background": "light"
     },
     "output_type": "display_data"
    }
   ],
   "source": [
    "evaluate_prediction(predicted, test_data['label'])"
   ]
  },
  {
   "cell_type": "markdown",
   "metadata": {},
   "source": [
    "******************************************************************************************\n",
    "#### 3. Train a Word Embedding: word2vec\n",
    "After cleaning dataset, we train a word2vec model based on the information available in tokens_bigram to find most similar or most related words for expanding the search query.\n",
    "\n",
    "It is worth to mention that the current model is trained based on a sample data of 46 developers. Thus, it may not be a well trained model. To train a proper model, we need to feed more data into our model."
   ]
  },
  {
   "cell_type": "code",
   "execution_count": 581,
   "metadata": {},
   "outputs": [],
   "source": [
    "from gensim.models import word2vec"
   ]
  },
  {
   "cell_type": "code",
   "execution_count": 2400,
   "metadata": {},
   "outputs": [],
   "source": [
    "#train word2vec model size=200, window=10, min_count=5, workers=1\n",
    "w2v_model = word2vec.Word2Vec(clean_tokens, size=150, window=20, min_count=5, workers=1)"
   ]
  },
  {
   "cell_type": "code",
   "execution_count": 1931,
   "metadata": {},
   "outputs": [],
   "source": [
    "w2v_model.save(\"word2vec_github.model\")"
   ]
  },
  {
   "cell_type": "code",
   "execution_count": 2402,
   "metadata": {},
   "outputs": [
    {
     "data": {
      "text/plain": [
       "[('starandtina', 0.7072836756706238),\n",
       " ('frontend', 0.5120173692703247),\n",
       " ('time_tracker_frontend', 0.45711833238601685),\n",
       " ('recruityourninja', 0.4426824450492859),\n",
       " ('thearena', 0.4343031644821167),\n",
       " ('yummli', 0.4327368438243866),\n",
       " ('fluxi', 0.43104884028434753),\n",
       " ('handlenewusermessag', 0.40113410353660583),\n",
       " ('engine', 0.3995003402233124),\n",
       " ('throught', 0.383935809135437),\n",
       " ('openexchang', 0.37829864025115967),\n",
       " ('apiq', 0.3752974271774292),\n",
       " ('eater', 0.37429603934288025),\n",
       " ('dreamfactori', 0.3735875189304352),\n",
       " ('soreadytohelp', 0.37355372309684753)]"
      ]
     },
     "execution_count": 2402,
     "metadata": {},
     "output_type": "execute_result"
    }
   ],
   "source": [
    "w2v_model.wv.most_similar('backend',topn=15)"
   ]
  },
  {
   "cell_type": "code",
   "execution_count": 585,
   "metadata": {},
   "outputs": [
    {
     "data": {
      "text/plain": [
       "[('progress_economist', 0.5811475515365601),\n",
       " ('vivian_luke', 0.5772616267204285),\n",
       " ('state_rep', 0.5769862532615662),\n",
       " ('candid_dad', 0.576173722743988),\n",
       " ('data_journalist', 0.5759732723236084),\n",
       " ('seneg', 0.5753692984580994),\n",
       " ('analys', 0.5737823843955994),\n",
       " ('phd_student', 0.5689471960067749),\n",
       " ('smart_manufactur', 0.5579118132591248),\n",
       " ('paper_joss', 0.5557444095611572),\n",
       " ('small_piec', 0.5540052056312561),\n",
       " ('diseas', 0.5424914956092834),\n",
       " ('data_scienc', 0.5395070314407349),\n",
       " ('scientist', 0.5350915789604187),\n",
       " ('joss_theoj', 0.5324527621269226),\n",
       " ('rmd', 0.5308254361152649),\n",
       " ('quantit', 0.5283799171447754),\n",
       " ('appli_psychologist', 0.5237470269203186),\n",
       " ('devtool_install_github', 0.5235400199890137),\n",
       " ('ethic', 0.5233612656593323),\n",
       " ('cloud_prem', 0.5217784643173218),\n",
       " ('regex_perl', 0.5191569924354553),\n",
       " ('associ_professor', 0.5183786153793335),\n",
       " ('joss', 0.5158524513244629),\n",
       " ('econom', 0.5153303742408752),\n",
       " ('hug_face', 0.5137718319892883),\n",
       " ('contien', 0.5116488337516785),\n",
       " ('senior', 0.5088270902633667),\n",
       " ('batch_stream', 0.5071560144424438),\n",
       " ('clinician_statistician', 0.5070735812187195)]"
      ]
     },
     "execution_count": 585,
     "metadata": {},
     "output_type": "execute_result"
    }
   ],
   "source": [
    "w2v_model.wv.most_similar('data_scientist',topn=30)"
   ]
  },
  {
   "cell_type": "code",
   "execution_count": 597,
   "metadata": {},
   "outputs": [
    {
     "data": {
      "text/plain": [
       "[('frontend', 0.6414386034011841),\n",
       " ('starandtina_backend', 0.599730372428894),\n",
       " ('engin_tdd', 0.5675103068351746),\n",
       " ('architectur_regex', 0.5546932220458984),\n",
       " ('mysql_databas', 0.5318342447280884),\n",
       " ('rest_api', 0.5262430310249329),\n",
       " ('frontend_backend', 0.5241876840591431),\n",
       " ('tech_stack', 0.5217008590698242),\n",
       " ('postgresql_databas', 0.4944922924041748),\n",
       " ('express_mongoos', 0.49393975734710693)]"
      ]
     },
     "execution_count": 597,
     "metadata": {},
     "output_type": "execute_result"
    }
   ],
   "source": [
    "w2v_model.wv.most_similar('backend')"
   ]
  },
  {
   "cell_type": "code",
   "execution_count": 600,
   "metadata": {},
   "outputs": [
    {
     "data": {
      "text/plain": [
       "[('activerecord_hackeri', 0.7405586242675781),\n",
       " ('xc_xbasqueda', 0.7356033325195312),\n",
       " ('integraci_xc', 0.7335438132286072),\n",
       " ('dinamico', 0.7054388523101807),\n",
       " ('ransack', 0.6787697076797485),\n",
       " ('kjvarga_sitemap_gener', 0.6775505542755127),\n",
       " ('administrativo', 0.6734225749969482),\n",
       " ('ofici', 0.6513975262641907),\n",
       " ('keppler_admin', 0.6403367519378662),\n",
       " ('biblioteca_component', 0.6378865838050842)]"
      ]
     },
     "execution_count": 600,
     "metadata": {},
     "output_type": "execute_result"
    }
   ],
   "source": [
    "w2v_model.wv.most_similar('front_end')"
   ]
  },
  {
   "cell_type": "code",
   "execution_count": 1685,
   "metadata": {},
   "outputs": [
    {
     "data": {
      "text/plain": [
       "[('ml', 0.7503659725189209),\n",
       " ('intellig_system', 0.6469223499298096),\n",
       " ('data_mine', 0.6242191791534424),\n",
       " ('deep_learn', 0.6188289523124695),\n",
       " ('deeplearn', 0.6072177886962891),\n",
       " ('hyperparamet_optim', 0.6018193364143372),\n",
       " ('compani_ada', 0.5963506102561951),\n",
       " ('unsupervis_learn', 0.5954239964485168),\n",
       " ('defcb_larg', 0.5897150635719299),\n",
       " ('bigdata', 0.5873282551765442)]"
      ]
     },
     "execution_count": 1685,
     "metadata": {},
     "output_type": "execute_result"
    }
   ],
   "source": [
    "w2v_model.wv.most_similar('machin_learn')"
   ]
  },
  {
   "cell_type": "code",
   "execution_count": 59,
   "metadata": {},
   "outputs": [
    {
     "data": {
      "text/plain": [
       "[('convolut', 0.892357587814331),\n",
       " ('rnn', 0.8393113613128662),\n",
       " ('cnn', 0.8271270990371704),\n",
       " ('recurr', 0.8181619048118591),\n",
       " ('autoencod', 0.8155539631843567),\n",
       " ('neural', 0.8040747046470642),\n",
       " ('unsupervis', 0.794172465801239),\n",
       " ('seq_seq', 0.7827261686325073),\n",
       " ('lstm', 0.7823306918144226),\n",
       " ('perceptron', 0.7781066298484802)]"
      ]
     },
     "execution_count": 59,
     "metadata": {},
     "output_type": "execute_result"
    }
   ],
   "source": [
    "#most similar words to 'neural_network' based on the trained word2vec  data_scientist front_end\n",
    "w2v_model.wv.most_similar('neural_network')"
   ]
  },
  {
   "cell_type": "markdown",
   "metadata": {},
   "source": [
    "### wordnet"
   ]
  },
  {
   "cell_type": "code",
   "execution_count": 22,
   "metadata": {},
   "outputs": [],
   "source": [
    "import nltk"
   ]
  },
  {
   "cell_type": "code",
   "execution_count": 23,
   "metadata": {},
   "outputs": [
    {
     "name": "stderr",
     "output_type": "stream",
     "text": [
      "[nltk_data] Downloading package wordnet to\n",
      "[nltk_data]     C:\\Users\\morad\\AppData\\Roaming\\nltk_data...\n",
      "[nltk_data]   Package wordnet is already up-to-date!\n"
     ]
    },
    {
     "data": {
      "text/plain": [
       "True"
      ]
     },
     "execution_count": 23,
     "metadata": {},
     "output_type": "execute_result"
    }
   ],
   "source": [
    "nltk.download('wordnet')"
   ]
  },
  {
   "cell_type": "code",
   "execution_count": 24,
   "metadata": {},
   "outputs": [],
   "source": [
    "from nltk.corpus import wordnet"
   ]
  },
  {
   "cell_type": "code",
   "execution_count": 33,
   "metadata": {},
   "outputs": [],
   "source": [
    "#syn = list()\n",
    "for synset in wordnet.synsets(\"learning\"):\n",
    "    for lemma in synset.lemmas():\n",
    "        syn.append(lemma.name())    #add the synonyms"
   ]
  },
  {
   "cell_type": "code",
   "execution_count": 34,
   "metadata": {},
   "outputs": [
    {
     "data": {
      "text/plain": [
       "['machine',\n",
       " 'machine',\n",
       " 'machine',\n",
       " 'machine',\n",
       " 'simple_machine',\n",
       " 'machine',\n",
       " 'political_machine',\n",
       " 'car',\n",
       " 'auto',\n",
       " 'automobile',\n",
       " 'machine',\n",
       " 'motorcar',\n",
       " 'machine',\n",
       " 'machine',\n",
       " 'learning',\n",
       " 'acquisition',\n",
       " 'eruditeness',\n",
       " 'erudition',\n",
       " 'learnedness',\n",
       " 'learning',\n",
       " 'scholarship',\n",
       " 'encyclopedism',\n",
       " 'encyclopaedism',\n",
       " 'learn',\n",
       " 'larn',\n",
       " 'acquire',\n",
       " 'learn',\n",
       " 'hear',\n",
       " 'get_word',\n",
       " 'get_wind',\n",
       " 'pick_up',\n",
       " 'find_out',\n",
       " 'get_a_line',\n",
       " 'discover',\n",
       " 'see',\n",
       " 'memorize',\n",
       " 'memorise',\n",
       " 'con',\n",
       " 'learn',\n",
       " 'learn',\n",
       " 'study',\n",
       " 'read',\n",
       " 'take',\n",
       " 'teach',\n",
       " 'learn',\n",
       " 'instruct',\n",
       " 'determine',\n",
       " 'check',\n",
       " 'find_out',\n",
       " 'see',\n",
       " 'ascertain',\n",
       " 'watch',\n",
       " 'learn']"
      ]
     },
     "execution_count": 34,
     "metadata": {},
     "output_type": "execute_result"
    }
   ],
   "source": [
    "syn"
   ]
  },
  {
   "cell_type": "code",
   "execution_count": 2649,
   "metadata": {},
   "outputs": [],
   "source": [
    "syn1=syn"
   ]
  },
  {
   "cell_type": "markdown",
   "metadata": {},
   "source": [
    "************************************************************************************\n",
    "#### 4. Query Reformulation and Ranking Developers\n",
    "Now its time to reformulate the search query to increase the performance of ranking step. Suppose that our main query contains 5 tokens after tokenization:\n",
    "\n",
    "$Query= token1 + token2 +…+ token5$\n",
    "\n",
    "First we *summarize* the query by applying the data cleaning process on “Query” and its size is decreased to 3 tokens after summerzing:\n",
    "\n",
    "$Clean_Q = token1+ token3 + token5$\n",
    "\n",
    "Then, its time to use the word2vec model to *expand* the query by finding 3 most similar words to each token based on the word2vec mode:\n",
    "\n",
    "$Expand_Q = token1 + sim(token1, 3) + token2 + sim(token3, 3) + token3 + sim(token5, 3)$\n",
    "\n",
    "At the end, we train Best Match 25 searching model (bm25) on all 46 sample corpus, and then use the reformulated query, Expand_Q, to rank these 46 developers and returns the 10 most matches ones.\n",
    "\n",
    "Since we train the word2vec model on a sample small data, the performance of the ranking model still has rooms to improve after feeding more relavant data.\n"
   ]
  },
  {
   "cell_type": "code",
   "execution_count": 601,
   "metadata": {},
   "outputs": [],
   "source": [
    "from gensim.summarization import bm25"
   ]
  },
  {
   "cell_type": "code",
   "execution_count": 660,
   "metadata": {},
   "outputs": [],
   "source": [
    "def array_split(arr, folds):\n",
    "    kcount = int(len(arr)/folds)\n",
    "    start = 0\n",
    "    vals = []\n",
    "    for i in range(1, folds):\n",
    "        end = kcount*(i)\n",
    "        fold = arr[start:end]\n",
    "        start = end\n",
    "        vals.append(fold)\n",
    "    vals.append(arr[start:])\n",
    "    return vals"
   ]
  },
  {
   "cell_type": "code",
   "execution_count": 641,
   "metadata": {},
   "outputs": [
    {
     "data": {
      "text/plain": [
       "1529"
      ]
     },
     "execution_count": 641,
     "metadata": {},
     "output_type": "execute_result"
    }
   ],
   "source": [
    "len(tokens_bigram)"
   ]
  },
  {
   "cell_type": "code",
   "execution_count": 2655,
   "metadata": {},
   "outputs": [],
   "source": [
    "folds_10_dt=array_split(tokens_bigram,10)"
   ]
  },
  {
   "cell_type": "code",
   "execution_count": 2688,
   "metadata": {},
   "outputs": [],
   "source": [
    "i=4"
   ]
  },
  {
   "cell_type": "code",
   "execution_count": 2689,
   "metadata": {},
   "outputs": [],
   "source": [
    "testset=folds_10_dt[i]"
   ]
  },
  {
   "cell_type": "code",
   "execution_count": 2690,
   "metadata": {},
   "outputs": [],
   "source": [
    "kcount = len(testset)"
   ]
  },
  {
   "cell_type": "code",
   "execution_count": 2691,
   "metadata": {},
   "outputs": [
    {
     "data": {
      "text/plain": [
       "152"
      ]
     },
     "execution_count": 2691,
     "metadata": {},
     "output_type": "execute_result"
    }
   ],
   "source": [
    "kcount"
   ]
  },
  {
   "cell_type": "code",
   "execution_count": 2692,
   "metadata": {},
   "outputs": [],
   "source": [
    "corp_dt=Corpus[152*i:kcount*(i+1)]\n",
    "#corp_dt=Corpus[152*i:]"
   ]
  },
  {
   "cell_type": "code",
   "execution_count": 2693,
   "metadata": {},
   "outputs": [],
   "source": [
    "corp_dt=corp_dt.reset_index()"
   ]
  },
  {
   "cell_type": "code",
   "execution_count": 2443,
   "metadata": {},
   "outputs": [],
   "source": [
    "#Query reformulation: summerizing and expanding\n",
    "def W2v_expanded_query(model, split_q, k=17):\n",
    "    qe = []\n",
    "    #split_q = q0.split(' ')\n",
    "    clean_q = str_preprocessing(split_q)\n",
    "    query_bigram= get_bigram_token(bigram_mdl,clean_q)\n",
    "    for word in query_bigram:\n",
    "        if(word in w2v_model.wv.vocab):\n",
    "            expanded_words = [pair[0] for pair in model.wv.most_similar(word,topn=k)]\n",
    "            expanded_words.append(word)\n",
    "            qe.append(expanded_words)\n",
    "        else:\n",
    "            qe.append([word])\n",
    "    return qe"
   ]
  },
  {
   "cell_type": "code",
   "execution_count": 2435,
   "metadata": {},
   "outputs": [],
   "source": [
    "#A sample query\n",
    "sample_query = \"backend\""
   ]
  },
  {
   "cell_type": "code",
   "execution_count": 2436,
   "metadata": {},
   "outputs": [],
   "source": [
    "split_q = sample_query.split(' ')"
   ]
  },
  {
   "cell_type": "code",
   "execution_count": 2437,
   "metadata": {},
   "outputs": [
    {
     "data": {
      "text/plain": [
       "['backend']"
      ]
     },
     "execution_count": 2437,
     "metadata": {},
     "output_type": "execute_result"
    }
   ],
   "source": [
    "split_q"
   ]
  },
  {
   "cell_type": "code",
   "execution_count": 2444,
   "metadata": {},
   "outputs": [],
   "source": [
    "#Query reformulation\n",
    "qe_w2v = W2v_expanded_query(w2v_model, split_q, k=17)"
   ]
  },
  {
   "cell_type": "code",
   "execution_count": 2412,
   "metadata": {},
   "outputs": [],
   "source": [
    "flat_query_5 = flatten_list(qe_w2v)"
   ]
  },
  {
   "cell_type": "code",
   "execution_count": 2440,
   "metadata": {},
   "outputs": [],
   "source": [
    "#flat a list of list into a single list\n",
    "flat_query_10 = flatten_list(qe_w2v)"
   ]
  },
  {
   "cell_type": "code",
   "execution_count": 2445,
   "metadata": {},
   "outputs": [],
   "source": [
    "flat_query_15 = flatten_list(qe_w2v)"
   ]
  },
  {
   "cell_type": "code",
   "execution_count": 2446,
   "metadata": {},
   "outputs": [],
   "source": [
    "test_q_15=flat_query_15[3:]"
   ]
  },
  {
   "cell_type": "code",
   "execution_count": 2447,
   "metadata": {},
   "outputs": [
    {
     "data": {
      "text/plain": [
       "['recruityourninja',\n",
       " 'thearena',\n",
       " 'yummli',\n",
       " 'fluxi',\n",
       " 'handlenewusermessag',\n",
       " 'engine',\n",
       " 'throught',\n",
       " 'openexchang',\n",
       " 'apiq',\n",
       " 'eater',\n",
       " 'dreamfactori',\n",
       " 'soreadytohelp',\n",
       " 'carlisia',\n",
       " 'flexflow',\n",
       " 'backend']"
      ]
     },
     "execution_count": 2447,
     "metadata": {},
     "output_type": "execute_result"
    }
   ],
   "source": [
    "test_q_15"
   ]
  },
  {
   "cell_type": "code",
   "execution_count": 2694,
   "metadata": {},
   "outputs": [],
   "source": [
    "#train a BM25 model on tokens_bigram\n",
    "bm25_obj = bm25.BM25(testset)"
   ]
  },
  {
   "cell_type": "code",
   "execution_count": 2695,
   "metadata": {},
   "outputs": [],
   "source": [
    "#calculate the score of each developers based on the search query\n",
    "scores = bm25_obj.get_scores(syn)"
   ]
  },
  {
   "cell_type": "code",
   "execution_count": 2579,
   "metadata": {},
   "outputs": [],
   "source": [
    "#scores"
   ]
  },
  {
   "cell_type": "code",
   "execution_count": 2638,
   "metadata": {},
   "outputs": [],
   "source": [
    "scores = bm25_obj.get_scores(split_q)"
   ]
  },
  {
   "cell_type": "code",
   "execution_count": 2696,
   "metadata": {},
   "outputs": [],
   "source": [
    "#find the top 10 ranks\n",
    "best_devs = sorted(range(len(scores)), key=lambda i: scores[i],reverse = True)"
   ]
  },
  {
   "cell_type": "code",
   "execution_count": 2697,
   "metadata": {
    "scrolled": false
   },
   "outputs": [
    {
     "name": "stdout",
     "output_type": "stream",
     "text": [
      "JulianSRuiz\n",
      "jags84\n",
      "jcliberatol\n",
      "jashu\n",
      "jcalejero\n",
      "jbrowncfa\n",
      "JosephCrispell\n",
      "itskhagendra\n",
      "KaushikDev\n",
      "ironmanMA\n",
      "jimitpatel9\n",
      "jaisontj\n",
      "jonathankamau\n",
      "jyotiranjanjally\n",
      "KennethAbad\n",
      "jorchg\n",
      "Junseongparkme\n",
      "jackie1santana\n",
      "james-work-account\n",
      "Jameem\n",
      "jpigree\n",
      "julianmnst\n",
      "khalidyaseen\n",
      "jimtryon\n",
      "josephmtinangi\n",
      "k0pernikus\n",
      "Jeevan-adiga\n",
      "isaackrementsov\n",
      "jpros\n",
      "KarolHarumi\n",
      "janogale\n",
      "JosemyDuarte\n",
      "jvivs\n",
      "JoaoCnh\n",
      "IsmaelEzequiel\n",
      "intersim\n",
      "jotavejv\n",
      "johnayeni\n",
      "kalkotekedar\n",
      "jhonatancasale\n",
      "karanjariwala\n",
      "imsontosh\n",
      "imzeeshan-ai\n",
      "jdpaton\n",
      "katossky\n",
      "jerry-shijieli\n",
      "isabaez\n",
      "ispmarin\n",
      "jonathaneunice\n",
      "jasondwyer\n",
      "ivarb\n",
      "JoabMendes\n",
      "Jufrench\n",
      "kevinjanada\n",
      "IuryBAS\n",
      "JesseRap\n",
      "Jay1991\n",
      "johncipponeri\n",
      "joaomacp\n",
      "jlgm\n",
      "khanmurtuza\n",
      "kheppenstall\n",
      "imronreviady\n",
      "JLivingston01\n",
      "Indamix\n",
      "Kalabasa\n",
      "JubairSayeedLinas\n",
      "Jagatveer\n",
      "junwin\n",
      "JimmyNayak\n",
      "kala725\n",
      "jdolle\n",
      "kervarecht\n",
      "JohnCrescenzi\n",
      "josteph\n",
      "jayprakash548\n",
      "jeffmcnd\n",
      "jhasubhash\n",
      "jstep1\n",
      "kamranshahzad\n",
      "jasminexie\n",
      "JasonTrue\n",
      "JosNun\n",
      "janikgar\n",
      "johndearroy\n",
      "jalerson\n",
      "jasonMatney\n",
      "iozeen\n",
      "jpiedra\n",
      "josephbill\n",
      "khurram18\n",
      "KaiZ51\n",
      "javarv87\n",
      "johnnymillergh\n",
      "keerthik\n",
      "juxtux\n",
      "jaredstevick\n",
      "JasonBWelsh\n",
      "Kiailandi\n",
      "JChrist\n",
      "jeno5980515\n",
      "ivanbardon\n",
      "ishantsolanki\n",
      "Jansalvador1445\n",
      "JennieJi\n",
      "jimguistwite\n",
      "jactor-rises\n",
      "kardapoltsev\n",
      "JoakimM\n",
      "kevinricar24\n",
      "julliasaad\n",
      "jenya239\n",
      "JoshuaKaden\n",
      "Jastrzebowski\n",
      "jifarooq\n",
      "keithaustin\n",
      "ivanblazevic\n",
      "kalpeshgamit\n",
      "kamerk22\n",
      "jarmanso7\n",
      "Jordan-Morrison\n",
      "Kamaros\n",
      "KeithConroy\n",
      "jon-smiley\n",
      "jhonnyizidoro\n",
      "Iverson\n",
      "jhdcruz\n",
      "jonsn0w\n",
      "ingtiti\n",
      "instrumaniak\n",
      "isc-luiseduardo\n",
      "japhetlee-ong\n",
      "JavaJustin91\n",
      "jbasinger\n",
      "jdlehne\n",
      "Jeramai\n",
      "jesieOldenburg\n",
      "jessica-jordan\n",
      "jgturner1979\n",
      "jiayouxjh\n",
      "jkmosdev\n",
      "joelloyd\n",
      "JoepKockelkorn\n",
      "jordanzee\n",
      "JorgeAriasG\n",
      "josephreubenbautista\n",
      "jreybaylen\n",
      "jrmeza514\n",
      "jvangael\n",
      "Jwcrist\n",
      "k88lawrence\n",
      "none\n"
     ]
    }
   ],
   "source": [
    "#print the name and the bio of top 10 rank developers  ,corp_dt['Name'][i]\n",
    "for i in best_devs:\n",
    "    print(corp_dt['u_id'][i])"
   ]
  },
  {
   "cell_type": "code",
   "execution_count": 1222,
   "metadata": {},
   "outputs": [
    {
     "data": {
      "text/plain": [
       "116"
      ]
     },
     "execution_count": 1222,
     "metadata": {},
     "output_type": "execute_result"
    }
   ],
   "source": [
    "best_devs[122]"
   ]
  },
  {
   "cell_type": "code",
   "execution_count": 1240,
   "metadata": {},
   "outputs": [
    {
     "name": "stdout",
     "output_type": "stream",
     "text": [
      "none Terry Might\n"
     ]
    }
   ],
   "source": [
    "#,Corpus['textual_all'][71]\n",
    "#scevans 4,shubhamsharmacs 56,\n",
    "print(corp_dt['u_id'][best_devs[128]],corp_dt['Name'][best_devs[128]])"
   ]
  },
  {
   "cell_type": "code",
   "execution_count": 695,
   "metadata": {},
   "outputs": [
    {
     "name": "stdout",
     "output_type": "stream",
     "text": [
      "Devloper Name: mikofski\n",
      "Devloper Name: LiberPH\n",
      "Devloper Name: jasonMatney\n",
      "Devloper Name: Codr99\n",
      "Devloper Name: chris-prener\n"
     ]
    }
   ],
   "source": [
    "#print the name and the bio of top 10 rank developers\n",
    "for i in best_devs:\n",
    "     print(\"Devloper Name:\",Corpus['u_id'][i],Corpus['bio'][i])"
   ]
  },
  {
   "cell_type": "code",
   "execution_count": 38,
   "metadata": {},
   "outputs": [],
   "source": [
    "#Another sample query\n",
    "sample_query = \"Neural Network\""
   ]
  },
  {
   "cell_type": "code",
   "execution_count": 628,
   "metadata": {},
   "outputs": [],
   "source": [
    "split_q = sample_query.split(' ')"
   ]
  },
  {
   "cell_type": "code",
   "execution_count": 39,
   "metadata": {},
   "outputs": [],
   "source": [
    "qe_w2v = W2v_expanded_query(w2v_model, split_q, k=3)"
   ]
  },
  {
   "cell_type": "code",
   "execution_count": 40,
   "metadata": {},
   "outputs": [],
   "source": [
    "flat_query = flatten_list(qe_w2v)"
   ]
  },
  {
   "cell_type": "code",
   "execution_count": 41,
   "metadata": {},
   "outputs": [
    {
     "data": {
      "text/plain": [
       "['quora_com', 'infer', 'propag', 'neural_network']"
      ]
     },
     "execution_count": 41,
     "metadata": {},
     "output_type": "execute_result"
    }
   ],
   "source": [
    "flat_query"
   ]
  },
  {
   "cell_type": "code",
   "execution_count": 42,
   "metadata": {},
   "outputs": [],
   "source": [
    "scores = bm25_obj.get_scores(flat_query)"
   ]
  },
  {
   "cell_type": "code",
   "execution_count": 43,
   "metadata": {},
   "outputs": [],
   "source": [
    "best_devs = sorted(range(len(scores)), key=lambda i: scores[i],reverse = True)[:10]"
   ]
  },
  {
   "cell_type": "code",
   "execution_count": 44,
   "metadata": {},
   "outputs": [
    {
     "data": {
      "text/plain": [
       "[14, 16, 30, 22, 27, 0, 10, 18, 13, 31]"
      ]
     },
     "execution_count": 44,
     "metadata": {},
     "output_type": "execute_result"
    }
   ],
   "source": [
    "best_devs"
   ]
  },
  {
   "cell_type": "code",
   "execution_count": 45,
   "metadata": {},
   "outputs": [
    {
     "name": "stdout",
     "output_type": "stream",
     "text": [
      "Devloper Name: Jian Tang ###Bio: Assistant Professor at Montreal Institute  for Learning Algorithms (MILA: https://mila.quebec/en/)\n",
      "Devloper Name: Koustuv Sinha ###Bio: CS PhD at McGill University / MILA/ Facebook AI Research;\n",
      "Former Core Team Member @ Freecodecamp;\n",
      "Former Host of Nodeschool Kolkata\n",
      "Devloper Name: Xa9aX ツ ###Bio: XXII. ML Engineer at @wandb, Research Affiliate at HKU-LSR and Founder @LandskapeAI. Formerly at @Paperspace. ボイド\n",
      "Devloper Name: Mirco Ravanelli ###Bio: Mirco Ravanelli is a post-doc at the  at the University of Montreal, working on deep learning at the Montreal Institute of Learning Algorithms (MILA).\n",
      "Devloper Name: Shawn Tan ###Bio: None\n",
      "Devloper Name: Alexander Kim ###Bio:     Data Scientist | Machine Learning Engineer\n",
      "Devloper Name: Fabian Pedregosa ###Bio: Simplify\n",
      "Devloper Name: Marc-André Cournoyer ###Bio: I enjoy walks in the park, VMs, neural nets, servers, anything with a loop.\n",
      "Devloper Name: Jerome Gravel-Niquet ###Bio: None\n",
      "Devloper Name: Xiang Zhang ###Bio: None\n"
     ]
    }
   ],
   "source": [
    "for i in best_devs:\n",
    "    print(\"Devloper Name:\",Corpus['Name'][i],\"###Bio:\",Corpus['bio'][i])"
   ]
  },
  {
   "cell_type": "code",
   "execution_count": 46,
   "metadata": {},
   "outputs": [],
   "source": [
    "#third sample search query\n",
    "sample_query = \"Front end developer\""
   ]
  },
  {
   "cell_type": "code",
   "execution_count": 629,
   "metadata": {},
   "outputs": [],
   "source": [
    "split_q = sample_query.split(' ')"
   ]
  },
  {
   "cell_type": "code",
   "execution_count": 47,
   "metadata": {},
   "outputs": [],
   "source": [
    "qe_w2v = W2v_expanded_query(w2v_model, split_q, k=3)"
   ]
  },
  {
   "cell_type": "code",
   "execution_count": 48,
   "metadata": {},
   "outputs": [],
   "source": [
    "flat_query = flatten_list(qe_w2v)"
   ]
  },
  {
   "cell_type": "code",
   "execution_count": 49,
   "metadata": {},
   "outputs": [
    {
     "data": {
      "text/plain": [
       "['front_end', 'flutter', 'document', 'download', 'develop']"
      ]
     },
     "execution_count": 49,
     "metadata": {},
     "output_type": "execute_result"
    }
   ],
   "source": [
    "flat_query"
   ]
  },
  {
   "cell_type": "code",
   "execution_count": 50,
   "metadata": {},
   "outputs": [],
   "source": [
    "scores = bm25_obj.get_scores(flat_query)"
   ]
  },
  {
   "cell_type": "code",
   "execution_count": 51,
   "metadata": {},
   "outputs": [],
   "source": [
    "best_devs = sorted(range(len(scores)), key=lambda i: scores[i],reverse = True)[:10]"
   ]
  },
  {
   "cell_type": "code",
   "execution_count": 52,
   "metadata": {},
   "outputs": [
    {
     "data": {
      "text/plain": [
       "[6, 23, 17, 12, 7, 15, 21, 10, 9, 4]"
      ]
     },
     "execution_count": 52,
     "metadata": {},
     "output_type": "execute_result"
    }
   ],
   "source": [
    "best_devs"
   ]
  },
  {
   "cell_type": "code",
   "execution_count": 53,
   "metadata": {},
   "outputs": [
    {
     "name": "stdout",
     "output_type": "stream",
     "text": [
      "Devloper Name: Chris Scott ###Bio: CEO Transistor Software.\n",
      "Creator of background-geolocation for Cordova, React Native and Flutter.  iOS / Android location API specialist.\n",
      "Devloper Name: Nathan ###Bio: None\n",
      "Devloper Name: Marc-Andre Giroux ###Bio: 🚀 \n",
      "Devloper Name: Janic Duplessis ###Bio: Software stuff / founder @th3rdwave, React Native Core Contributor\n",
      "Devloper Name: Claudéric Demers ###Bio: Front End Development @Shopify\n",
      "Devloper Name: Josh Beckwith ###Bio: Creative coder – Hot sauce enthusiast – Proprietor of Lightpaint Live\n",
      "Devloper Name: Micael Mota ###Bio: Developer\n",
      "Devloper Name: Fabian Pedregosa ###Bio: Simplify\n",
      "Devloper Name: David Wolever ###Bio: None\n",
      "Devloper Name: Carl Alexander ###Bio: None\n"
     ]
    }
   ],
   "source": [
    "for i in best_devs:\n",
    "    print(\"Devloper Name:\",Corpus['Name'][i],\"###Bio:\",Corpus['bio'][i])"
   ]
  },
  {
   "cell_type": "markdown",
   "metadata": {},
   "source": [
    "**************************************************\n",
    "#### 5. Programming Languages Contribution\n",
    "So far, the algorithm works based on expanding the recruiters queries with a word2vec model which is trained on textual data (bio, repository name, repository tags and repository readme files) in GitHub accounts of developers. \n",
    "\n",
    "In this section, we plan to exclude the programming languages keywords (name) from the search query and calculate a separate score for these keywords based on developers’ contribution in different projects. \n",
    "\n",
    "To do so, first we calculate the contribution of developers in different programming languages by calculating the probability distribution of their commits in different programming languages. Thus, if the search query contains a programming language, we separate it from the rest of tokens in search query. Then, calculate the score of each developer based on the remain tokens with BM25 model and also find the probability contribution of developers in programming language keyword(s) in search query. \n",
    "\n",
    "To calculate the final score, we consider two approach:\n",
    "1.\tSum the score of BM25 model and the probability of commits.\n",
    "2.\tMultiple the probability of commits as a weight into the score calculated by BM25 model.\n",
    "\n",
    "\n",
    "##### example\n",
    "**Search Query**: \"python developer and data scientist\"\n",
    "\n",
    "**Final Score[Method 1: Sum]**: BM25(['developer', 'data_scientist']) + %_of_contribution_in('python')\n",
    "\n",
    "**Final Score[Method 2: Multiple]**: %_of_contribution_in('python') * BM25(['developer', 'data_scientist'])\n",
    "\n",
    "*************************************************************************************\n",
    "#### 5.1. Find the programming language based on file extensions\n",
    "Our sample dataset is collected from GitHub. A repository in GitHub can be multi (programming) languages. The number of commits of a developer in a repository doesn't show his/her exact contributions. However, with git APIs, we can collect the number of developers' commits in different files in a repository and get the extension of those files. In this case, if we link each file extension into a proper programming language, then we can cacluate the exact contribution of developers in different programming languages.\n",
    "\n",
    "To link the file extensions with programming language, we use a **.yml** file published by GitHub in one of its repositories named \"linguist\" (https://github.com/github/linguist). In this .yml file, per each programming language name, there is a list of file extension. \n",
    "\n",
    "We build a dictionary of dictionary with file extensions as its key and the programming name as one of its values."
   ]
  },
  {
   "cell_type": "code",
   "execution_count": 545,
   "metadata": {},
   "outputs": [],
   "source": [
    "import yaml\n",
    "from os.path import realpath, dirname, basename, splitext, join\n",
    "from collections import defaultdict"
   ]
  },
  {
   "cell_type": "code",
   "execution_count": 546,
   "metadata": {},
   "outputs": [],
   "source": [
    "#this is path of .yaml file\n",
    "lang_dir=r\"C:\\GH-Dataset\\users\\gitlinguist\""
   ]
  },
  {
   "cell_type": "code",
   "execution_count": 547,
   "metadata": {},
   "outputs": [],
   "source": [
    "#this function load the .yml file\n",
    "def read_yml(dir):\n",
    "    languages_path = join(lang_dir, \"languages.yml\")\n",
    "    LANGUAGES = yaml.load(open(languages_path))\n",
    "    return LANGUAGES"
   ]
  },
  {
   "cell_type": "markdown",
   "metadata": {},
   "source": [
    "Here, we call the \"read_yml\" function to read the \"languages.yml\". This files link each programming language into its extensions."
   ]
  },
  {
   "cell_type": "code",
   "execution_count": 554,
   "metadata": {},
   "outputs": [],
   "source": [
    "languages = read_yml(lang_dir)"
   ]
  },
  {
   "cell_type": "markdown",
   "metadata": {},
   "source": [
    "The language.yml file uses programming languages name as a key and for each programming languages there is a list of extensions. However, in our case, we have file extensions (keys) and we want to find the programming languages belongs to this extension.\n",
    "\n",
    "To do so, we build a dictionary of dictionary as our dataset. The key of first level dictionary is file extensions and its values is a dictionary of features related to this extension. One of these features is programming language name that we capture it in the \"name\" varaible in second dictionary. \n",
    "\n",
    "\n",
    "In this function, \"dict_index\" is a dictionary of doctionaries which explained above. Also, in this function we collect to usefull list. The first one is a list of all extensions which are valid in GitHub, \"all_extension\". The second one is a list of languages used in GitHub, \"all_languages\". \n",
    "\n",
    "This function returns three outputs: \"dict_index\", \"all_extension\", \"all_languages\""
   ]
  },
  {
   "cell_type": "code",
   "execution_count": 555,
   "metadata": {},
   "outputs": [],
   "source": [
    "def git_linguist(LANGUAGES):\n",
    "    dict_index = defaultdict(list)\n",
    "    all_extension = []\n",
    "    all_languages = []\n",
    "    for name, options in sorted(LANGUAGES.items(), key=lambda k: k[0]):\n",
    "        language = (dict(name=name,\n",
    "                         color=options.get('color'),\n",
    "                         type=options.get('type'),\n",
    "                         aliases=options.get('aliases', []),\n",
    "                         ace_mode=options.get('ace_mode'),\n",
    "                         extensions=options.get('extensions', []),\n",
    "                         filenames= options.get('filenames', [])))\n",
    "        \n",
    "        all_languages.append(name)\n",
    "        \n",
    "        extensions=sorted(options.get('extensions', []))\n",
    "        for extension in extensions:\n",
    "            if not extension.startswith('.'):\n",
    "                raise ValueError(\"Extension is missing a '.': %s\" % extension)\n",
    "            dict_index[extension].append(language)\n",
    "            if extension not in all_extension:\n",
    "                all_extension.append(extension)\n",
    "    return all_languages,all_extension,extension_index"
   ]
  },
  {
   "cell_type": "code",
   "execution_count": 557,
   "metadata": {},
   "outputs": [],
   "source": [
    "#Here, we call the git_linguist function, to generate the datasets that we need for furthur steps\n",
    "all_languages,all_extensions,extension_indexs=git_linguist(languages)"
   ]
  },
  {
   "cell_type": "code",
   "execution_count": 559,
   "metadata": {},
   "outputs": [],
   "source": [
    "#this a function that returns the list of programming languages related to an extension\n",
    "def get_language(extention,extension_indexs):\n",
    "    pro_lang={}\n",
    "    pro_lang_lst=[]\n",
    "    pro_lang=extension_indexs.get(extention)\n",
    "    for item in pro_lang:\n",
    "        pro_lang_lst.append(item.get('name'))\n",
    "    return(pro_lang_lst)\n"
   ]
  },
  {
   "cell_type": "markdown",
   "metadata": {},
   "source": [
    "Now, its time to loop through all the pickle files (sample dataset), collect the number of commits of developers in different files and their extensions. Then, call function \"get_language\" to find the programming language of the file. The output, \"language_Contribution\" has two columns, the fisrt column is developers name and the second column is the dictionary of file extensions as key and programming language name as one of its values."
   ]
  },
  {
   "cell_type": "code",
   "execution_count": 560,
   "metadata": {},
   "outputs": [],
   "source": [
    "language_Contribution = pd.DataFrame(columns=['Name','all_langs'])"
   ]
  },
  {
   "cell_type": "code",
   "execution_count": 561,
   "metadata": {},
   "outputs": [],
   "source": [
    "#loop over all files in a directory and collect required fields\n",
    "for filename in os.listdir(directory):\n",
    "    file_path = os.path.join(directory, filename)\n",
    "    reader = open_file(file_path) \n",
    "    Name = str(reader['name'])\n",
    "\n",
    "    all_langs={}\n",
    "    \n",
    "    for row in range(0,len(reader['repository'])):\n",
    "        \n",
    "        files=reader['repository'][row]['files']\n",
    "        if (files):\n",
    "            for i in files:\n",
    "                index = str('.'+i)\n",
    "                if index in all_extensions:\n",
    "                    langs_lst = get_language(index,extension_indexs)\n",
    "                    for lng in langs_lst:\n",
    "                        if (lng in all_langs):\n",
    "                            all_langs[lng] += files[i]\n",
    "                        else:\n",
    "                            all_langs[lng] = files[i]\n",
    "        \n",
    "\n",
    "    \n",
    "    language_Contribution = language_Contribution.append({'Name':Name,'all_langs':all_langs}\n",
    "                                                         ,ignore_index=True)\n",
    "    "
   ]
  },
  {
   "cell_type": "code",
   "execution_count": 563,
   "metadata": {},
   "outputs": [
    {
     "data": {
      "text/html": [
       "<div>\n",
       "<style scoped>\n",
       "    .dataframe tbody tr th:only-of-type {\n",
       "        vertical-align: middle;\n",
       "    }\n",
       "\n",
       "    .dataframe tbody tr th {\n",
       "        vertical-align: top;\n",
       "    }\n",
       "\n",
       "    .dataframe thead th {\n",
       "        text-align: right;\n",
       "    }\n",
       "</style>\n",
       "<table border=\"1\" class=\"dataframe\">\n",
       "  <thead>\n",
       "    <tr style=\"text-align: right;\">\n",
       "      <th></th>\n",
       "      <th>Name</th>\n",
       "      <th>all_langs</th>\n",
       "    </tr>\n",
       "  </thead>\n",
       "  <tbody>\n",
       "    <tr>\n",
       "      <td>0</td>\n",
       "      <td>Alexander Kim</td>\n",
       "      <td>{'GCC Machine Description': 18, 'Markdown': 18...</td>\n",
       "    </tr>\n",
       "    <tr>\n",
       "      <td>1</td>\n",
       "      <td>Andres Vidoza</td>\n",
       "      <td>{'CSS': 9, 'JavaScript': 340, 'JSON': 94, 'Tex...</td>\n",
       "    </tr>\n",
       "    <tr>\n",
       "      <td>2</td>\n",
       "      <td>Andy Duboc</td>\n",
       "      <td>{'GCC Machine Description': 20, 'Markdown': 20...</td>\n",
       "    </tr>\n",
       "    <tr>\n",
       "      <td>3</td>\n",
       "      <td>Bassir Jafarzadeh (Coding Instructor)</td>\n",
       "      <td>{'GCC Machine Description': 767, 'Markdown': 7...</td>\n",
       "    </tr>\n",
       "    <tr>\n",
       "      <td>4</td>\n",
       "      <td>Carl Alexander</td>\n",
       "      <td>{'YAML': 404, 'reStructuredText': 86, 'Jinja':...</td>\n",
       "    </tr>\n",
       "  </tbody>\n",
       "</table>\n",
       "</div>"
      ],
      "text/plain": [
       "                                    Name  \\\n",
       "0                          Alexander Kim   \n",
       "1                          Andres Vidoza   \n",
       "2                             Andy Duboc   \n",
       "3  Bassir Jafarzadeh (Coding Instructor)   \n",
       "4                         Carl Alexander   \n",
       "\n",
       "                                           all_langs  \n",
       "0  {'GCC Machine Description': 18, 'Markdown': 18...  \n",
       "1  {'CSS': 9, 'JavaScript': 340, 'JSON': 94, 'Tex...  \n",
       "2  {'GCC Machine Description': 20, 'Markdown': 20...  \n",
       "3  {'GCC Machine Description': 767, 'Markdown': 7...  \n",
       "4  {'YAML': 404, 'reStructuredText': 86, 'Jinja':...  "
      ]
     },
     "execution_count": 563,
     "metadata": {},
     "output_type": "execute_result"
    }
   ],
   "source": [
    "language_Contribution.head()"
   ]
  },
  {
   "cell_type": "markdown",
   "metadata": {},
   "source": [
    "*********************************************************************************************\n",
    "#### 5.2. A dataset of probability distribution for developers' contribution in different programming languages\n",
    "So far, we captured the number of contributions in different programming languages per develoer. However, a raw number cannot be used as an additional score to rank developers. To convert this raw number into a weight or score value, we calculate the probability distribution of developers contribution (number of commits) in different programming languages. It means that we find the answer of what is the probability of contributing in a specific programming language for each developer. This probability can be used as an score value and rank developers based on this pobability. \n"
   ]
  },
  {
   "cell_type": "code",
   "execution_count": 566,
   "metadata": {},
   "outputs": [],
   "source": [
    "#Convert all programming languages name into lowercase to avoid ambiguation\n",
    "all_languages_lower = [i.lower() for i in all_languages]"
   ]
  },
  {
   "cell_type": "code",
   "execution_count": 568,
   "metadata": {},
   "outputs": [],
   "source": [
    "#build a dataframe to collect the probability distributions, fill all values with zero in first step\n",
    "dev_lang_dt = pd.DataFrame(0, index=Corpus['Name'], columns=all_languages_lower).reset_index()"
   ]
  },
  {
   "cell_type": "code",
   "execution_count": 570,
   "metadata": {},
   "outputs": [
    {
     "data": {
      "text/plain": [
       "(33, 597)"
      ]
     },
     "execution_count": 570,
     "metadata": {},
     "output_type": "execute_result"
    }
   ],
   "source": [
    "dev_lang_dt.shape"
   ]
  },
  {
   "cell_type": "code",
   "execution_count": 572,
   "metadata": {},
   "outputs": [],
   "source": [
    "#fill this datframe by calculating the probability of developers' contribution\n",
    "#in each programming languaes\n",
    "for row in range(0,len(language_Contribution['all_langs'])):\n",
    "    row_dt= language_Contribution['all_langs'][row]\n",
    "    sum_all= sum(row_dt.values())\n",
    "    for i in row_dt:\n",
    "        dev_lang_dt.loc[row,i.lower()] = row_dt[i]/sum_all"
   ]
  },
  {
   "cell_type": "code",
   "execution_count": 573,
   "metadata": {},
   "outputs": [
    {
     "data": {
      "text/html": [
       "<div>\n",
       "<style scoped>\n",
       "    .dataframe tbody tr th:only-of-type {\n",
       "        vertical-align: middle;\n",
       "    }\n",
       "\n",
       "    .dataframe tbody tr th {\n",
       "        vertical-align: top;\n",
       "    }\n",
       "\n",
       "    .dataframe thead th {\n",
       "        text-align: right;\n",
       "    }\n",
       "</style>\n",
       "<table border=\"1\" class=\"dataframe\">\n",
       "  <thead>\n",
       "    <tr style=\"text-align: right;\">\n",
       "      <th></th>\n",
       "      <th>Name</th>\n",
       "      <th>1c enterprise</th>\n",
       "      <th>4d</th>\n",
       "      <th>abap</th>\n",
       "      <th>abap cds</th>\n",
       "      <th>abnf</th>\n",
       "      <th>ags script</th>\n",
       "      <th>aidl</th>\n",
       "      <th>al</th>\n",
       "      <th>ampl</th>\n",
       "      <th>...</th>\n",
       "      <th>nanorc</th>\n",
       "      <th>nesc</th>\n",
       "      <th>ooc</th>\n",
       "      <th>q</th>\n",
       "      <th>restructuredtext</th>\n",
       "      <th>robots.txt</th>\n",
       "      <th>sed</th>\n",
       "      <th>wdl</th>\n",
       "      <th>wisp</th>\n",
       "      <th>xbase</th>\n",
       "    </tr>\n",
       "  </thead>\n",
       "  <tbody>\n",
       "    <tr>\n",
       "      <td>0</td>\n",
       "      <td>Alexander Kim</td>\n",
       "      <td>0</td>\n",
       "      <td>0</td>\n",
       "      <td>0</td>\n",
       "      <td>0</td>\n",
       "      <td>0</td>\n",
       "      <td>0</td>\n",
       "      <td>0</td>\n",
       "      <td>0</td>\n",
       "      <td>0</td>\n",
       "      <td>...</td>\n",
       "      <td>0</td>\n",
       "      <td>0</td>\n",
       "      <td>0</td>\n",
       "      <td>0</td>\n",
       "      <td>0.000000</td>\n",
       "      <td>0</td>\n",
       "      <td>0</td>\n",
       "      <td>0</td>\n",
       "      <td>0</td>\n",
       "      <td>0</td>\n",
       "    </tr>\n",
       "    <tr>\n",
       "      <td>1</td>\n",
       "      <td>Andres Vidoza</td>\n",
       "      <td>0</td>\n",
       "      <td>0</td>\n",
       "      <td>0</td>\n",
       "      <td>0</td>\n",
       "      <td>0</td>\n",
       "      <td>0</td>\n",
       "      <td>0</td>\n",
       "      <td>0</td>\n",
       "      <td>0</td>\n",
       "      <td>...</td>\n",
       "      <td>0</td>\n",
       "      <td>0</td>\n",
       "      <td>0</td>\n",
       "      <td>0</td>\n",
       "      <td>0.000000</td>\n",
       "      <td>0</td>\n",
       "      <td>0</td>\n",
       "      <td>0</td>\n",
       "      <td>0</td>\n",
       "      <td>0</td>\n",
       "    </tr>\n",
       "    <tr>\n",
       "      <td>2</td>\n",
       "      <td>Andy Duboc</td>\n",
       "      <td>0</td>\n",
       "      <td>0</td>\n",
       "      <td>0</td>\n",
       "      <td>0</td>\n",
       "      <td>0</td>\n",
       "      <td>0</td>\n",
       "      <td>0</td>\n",
       "      <td>0</td>\n",
       "      <td>0</td>\n",
       "      <td>...</td>\n",
       "      <td>0</td>\n",
       "      <td>0</td>\n",
       "      <td>0</td>\n",
       "      <td>0</td>\n",
       "      <td>0.000000</td>\n",
       "      <td>0</td>\n",
       "      <td>0</td>\n",
       "      <td>0</td>\n",
       "      <td>0</td>\n",
       "      <td>0</td>\n",
       "    </tr>\n",
       "    <tr>\n",
       "      <td>3</td>\n",
       "      <td>Bassir Jafarzadeh (Coding Instructor)</td>\n",
       "      <td>0</td>\n",
       "      <td>0</td>\n",
       "      <td>0</td>\n",
       "      <td>0</td>\n",
       "      <td>0</td>\n",
       "      <td>0</td>\n",
       "      <td>0</td>\n",
       "      <td>0</td>\n",
       "      <td>0</td>\n",
       "      <td>...</td>\n",
       "      <td>0</td>\n",
       "      <td>0</td>\n",
       "      <td>0</td>\n",
       "      <td>0</td>\n",
       "      <td>0.000000</td>\n",
       "      <td>0</td>\n",
       "      <td>0</td>\n",
       "      <td>0</td>\n",
       "      <td>0</td>\n",
       "      <td>0</td>\n",
       "    </tr>\n",
       "    <tr>\n",
       "      <td>4</td>\n",
       "      <td>Carl Alexander</td>\n",
       "      <td>0</td>\n",
       "      <td>0</td>\n",
       "      <td>0</td>\n",
       "      <td>0</td>\n",
       "      <td>0</td>\n",
       "      <td>0</td>\n",
       "      <td>0</td>\n",
       "      <td>0</td>\n",
       "      <td>0</td>\n",
       "      <td>...</td>\n",
       "      <td>0</td>\n",
       "      <td>0</td>\n",
       "      <td>0</td>\n",
       "      <td>0</td>\n",
       "      <td>0.005162</td>\n",
       "      <td>0</td>\n",
       "      <td>0</td>\n",
       "      <td>0</td>\n",
       "      <td>0</td>\n",
       "      <td>0</td>\n",
       "    </tr>\n",
       "  </tbody>\n",
       "</table>\n",
       "<p>5 rows × 597 columns</p>\n",
       "</div>"
      ],
      "text/plain": [
       "                                    Name  1c enterprise  4d  abap  abap cds  \\\n",
       "0                          Alexander Kim              0   0     0         0   \n",
       "1                          Andres Vidoza              0   0     0         0   \n",
       "2                             Andy Duboc              0   0     0         0   \n",
       "3  Bassir Jafarzadeh (Coding Instructor)              0   0     0         0   \n",
       "4                         Carl Alexander              0   0     0         0   \n",
       "\n",
       "   abnf  ags script  aidl  al  ampl  ...  nanorc  nesc  ooc  q  \\\n",
       "0     0           0     0   0     0  ...       0     0    0  0   \n",
       "1     0           0     0   0     0  ...       0     0    0  0   \n",
       "2     0           0     0   0     0  ...       0     0    0  0   \n",
       "3     0           0     0   0     0  ...       0     0    0  0   \n",
       "4     0           0     0   0     0  ...       0     0    0  0   \n",
       "\n",
       "   restructuredtext  robots.txt  sed  wdl  wisp  xbase  \n",
       "0          0.000000           0    0    0     0      0  \n",
       "1          0.000000           0    0    0     0      0  \n",
       "2          0.000000           0    0    0     0      0  \n",
       "3          0.000000           0    0    0     0      0  \n",
       "4          0.005162           0    0    0     0      0  \n",
       "\n",
       "[5 rows x 597 columns]"
      ]
     },
     "execution_count": 573,
     "metadata": {},
     "output_type": "execute_result"
    }
   ],
   "source": [
    "dev_lang_dt.head()"
   ]
  },
  {
   "cell_type": "markdown",
   "metadata": {},
   "source": [
    "*********************************************************************************\n",
    "#### 5.3. Update the ranking of developers \n",
    "Now, it's time to use the data that we prepared in pervious steps to update the ranking score of developers.\n",
    "\n",
    "To do so, first we define a function that receive the search query as an input, then split this query into its token. Finally, between this tokens seperate the programming languages name if there is any and return two list: the second one is the list of programming languages name in query and the first one is the rest of tokens.\n",
    "\n",
    "There are two other functions, \"final_score_sum\" and \"final_score_multiple\" that calculate the final score with adding the probability into scores calculated by BM25 and the second one, multipling this probability with scores of BM25 model."
   ]
  },
  {
   "cell_type": "code",
   "execution_count": 575,
   "metadata": {},
   "outputs": [],
   "source": [
    "#split programming languages name in search query from the rest of tokens\n",
    "def split_query_langs(query):\n",
    "    q_non_langs=[]\n",
    "    q_langs=[]\n",
    "    \n",
    "    split_q = query.split(' ')\n",
    "    for wd in split_q:\n",
    "        if wd.lower() not in all_languages_lower:\n",
    "            q_non_langs.append(wd)\n",
    "        else:\n",
    "            q_langs.append(wd)\n",
    "    return q_non_langs, q_langs"
   ]
  },
  {
   "cell_type": "code",
   "execution_count": 605,
   "metadata": {},
   "outputs": [],
   "source": [
    "#calculate final score with method 1: Sum\n",
    "def final_score_sum(list_langs,scores):\n",
    "    for i in list_langs:\n",
    "        final_scores=scores+dev_lang_dt[i]\n",
    "    return final_scores"
   ]
  },
  {
   "cell_type": "code",
   "execution_count": 607,
   "metadata": {},
   "outputs": [],
   "source": [
    "#calculate final score with method 1: Multiple\n",
    "def final_score_multiple(list_langs,scores):\n",
    "    for i in list_langs:\n",
    "        final_scores=scores*dev_lang_dt[i]\n",
    "    return final_scores"
   ]
  },
  {
   "cell_type": "markdown",
   "metadata": {},
   "source": [
    "**Sample1**: Here is a sample query thar contains programming language name. After seperating the tokens, we need to check if both of the list \"q_non_langs\" and \"q_langs\" are empty or they have data. For example, a search query could be only \"Python\" without any extra keywords (empty \"q_non_langs\") or a search query may has no programming language name (empty \"q_langs\"). This is the reason that we check the conditions to calculate the proper score for each developer."
   ]
  },
  {
   "cell_type": "code",
   "execution_count": 608,
   "metadata": {},
   "outputs": [],
   "source": [
    "#A sample query that contains programming language name\n",
    "sample_query = \"Data scientist expert in python\""
   ]
  },
  {
   "cell_type": "code",
   "execution_count": 609,
   "metadata": {},
   "outputs": [],
   "source": [
    "q_non_langs,q_langs= split_query_langs(sample_query)"
   ]
  },
  {
   "cell_type": "code",
   "execution_count": 612,
   "metadata": {},
   "outputs": [],
   "source": [
    "if(q_langs and q_non_langs):\n",
    "    qe_w2v = W2v_expanded_query(w2v_model, q_non_langs, k=3)\n",
    "    flat_query = flatten_list(qe_w2v)\n",
    "    #train a BM25 model on tokens_bigram\n",
    "    bm25_obj = bm25.BM25(tokens_bigram)\n",
    "    #calculate the score of each developers based on the search query\n",
    "    scores = bm25_obj.get_scores(flat_query)\n",
    "    \n",
    "    final_scores = final_score_sum(q_langs,scores)\n",
    "    \n",
    "elif(q_langs):\n",
    "    scores= []\n",
    "    final_scores = final_score_sum(q_langs,scores)\n",
    "    \n",
    "elif(q_non_langs):\n",
    "    qe_w2v = W2v_expanded_query(w2v_model, q_non_langs, k=3)\n",
    "    flat_query = flatten_list(qe_w2v)\n",
    "    #train a BM25 model on tokens_bigram\n",
    "    bm25_obj = bm25.BM25(tokens_bigram)\n",
    "    #calculate the score of each developers based on the search query\n",
    "    final_scores = bm25_obj.get_scores(flat_query)"
   ]
  },
  {
   "cell_type": "code",
   "execution_count": 613,
   "metadata": {},
   "outputs": [],
   "source": [
    "#find the top 10 ranks\n",
    "best_devs = sorted(range(len(final_scores)), key=lambda i: final_scores[i],reverse = True)[:10]"
   ]
  },
  {
   "cell_type": "code",
   "execution_count": 614,
   "metadata": {},
   "outputs": [
    {
     "data": {
      "text/plain": [
       "[16, 0, 6, 9, 13, 30, 10, 12, 27, 26]"
      ]
     },
     "execution_count": 614,
     "metadata": {},
     "output_type": "execute_result"
    }
   ],
   "source": [
    "best_devs"
   ]
  },
  {
   "cell_type": "code",
   "execution_count": 615,
   "metadata": {},
   "outputs": [
    {
     "name": "stdout",
     "output_type": "stream",
     "text": [
      "Devloper Name: Koustuv Sinha ###Bio: CS PhD at McGill University / MILA/ Facebook AI Research;\n",
      "Former Core Team Member @ Freecodecamp;\n",
      "Former Host of Nodeschool Kolkata\n",
      "Devloper Name: Alexander Kim ###Bio:     Data Scientist | Machine Learning Engineer\n",
      "Devloper Name: Chris Scott ###Bio: CEO Transistor Software.\n",
      "Creator of background-geolocation for Cordova, React Native and Flutter.  iOS / Android location API specialist.\n",
      "Devloper Name: David Wolever ###Bio: None\n",
      "Devloper Name: Jerome Gravel-Niquet ###Bio: None\n",
      "Devloper Name: Xa9aX ツ ###Bio: XXII. ML Engineer at @wandb, Research Affiliate at HKU-LSR and Founder @LandskapeAI. Formerly at @Paperspace. ボイド\n",
      "Devloper Name: Fabian Pedregosa ###Bio: Simplify\n",
      "Devloper Name: Janic Duplessis ###Bio: Software stuff / founder @th3rdwave, React Native Core Contributor\n",
      "Devloper Name: Shawn Tan ###Bio: None\n",
      "Devloper Name: None ###Bio: None\n"
     ]
    }
   ],
   "source": [
    "for i in best_devs:\n",
    "    print(\"Devloper Name:\",Corpus['Name'][i],\"###Bio:\",Corpus['bio'][i])"
   ]
  },
  {
   "cell_type": "markdown",
   "metadata": {},
   "source": [
    "**Sample 2**: Using multiple function with the same query"
   ]
  },
  {
   "cell_type": "code",
   "execution_count": 616,
   "metadata": {},
   "outputs": [],
   "source": [
    "if(q_langs and q_non_langs):\n",
    "    qe_w2v = W2v_expanded_query(w2v_model, q_non_langs, k=3)\n",
    "    flat_query = flatten_list(qe_w2v)\n",
    "    #train a BM25 model on tokens_bigram\n",
    "    bm25_obj = bm25.BM25(tokens_bigram)\n",
    "    #calculate the score of each developers based on the search query\n",
    "    scores = bm25_obj.get_scores(flat_query)\n",
    "    \n",
    "    final_scores = final_score_multiple(q_langs,scores)\n",
    "    \n",
    "elif(q_langs):\n",
    "    scores= []\n",
    "    final_scores = final_score_multiple(q_langs,scores)\n",
    "    \n",
    "elif(q_non_langs):\n",
    "    qe_w2v = W2v_expanded_query(w2v_model, q_non_langs, k=3)\n",
    "    flat_query = flatten_list(qe_w2v)\n",
    "    #train a BM25 model on tokens_bigram\n",
    "    bm25_obj = bm25.BM25(tokens_bigram)\n",
    "    #calculate the score of each developers based on the search query\n",
    "    final_scores = bm25_obj.get_scores(flat_query)"
   ]
  },
  {
   "cell_type": "code",
   "execution_count": 617,
   "metadata": {},
   "outputs": [],
   "source": [
    "#find the top 10 ranks\n",
    "best_devs = sorted(range(len(final_scores)), key=lambda i: final_scores[i],reverse = True)[:10]"
   ]
  },
  {
   "cell_type": "code",
   "execution_count": 618,
   "metadata": {},
   "outputs": [
    {
     "data": {
      "text/plain": [
       "[16, 9, 0, 30, 10, 27, 21, 14, 32, 25]"
      ]
     },
     "execution_count": 618,
     "metadata": {},
     "output_type": "execute_result"
    }
   ],
   "source": [
    "best_devs"
   ]
  },
  {
   "cell_type": "code",
   "execution_count": 619,
   "metadata": {},
   "outputs": [
    {
     "name": "stdout",
     "output_type": "stream",
     "text": [
      "Devloper Name: Koustuv Sinha ###Bio: CS PhD at McGill University / MILA/ Facebook AI Research;\n",
      "Former Core Team Member @ Freecodecamp;\n",
      "Former Host of Nodeschool Kolkata\n",
      "Devloper Name: David Wolever ###Bio: None\n",
      "Devloper Name: Alexander Kim ###Bio:     Data Scientist | Machine Learning Engineer\n",
      "Devloper Name: Xa9aX ツ ###Bio: XXII. ML Engineer at @wandb, Research Affiliate at HKU-LSR and Founder @LandskapeAI. Formerly at @Paperspace. ボイド\n",
      "Devloper Name: Fabian Pedregosa ###Bio: Simplify\n",
      "Devloper Name: Shawn Tan ###Bio: None\n",
      "Devloper Name: Micael Mota ###Bio: Developer\n",
      "Devloper Name: Jian Tang ###Bio: Assistant Professor at Montreal Institute  for Learning Algorithms (MILA: https://mila.quebec/en/)\n",
      "Devloper Name: Youness Alaoui ###Bio: None\n",
      "Devloper Name: Nicolas Kruchten ###Bio: VP Product at @plotly\n"
     ]
    }
   ],
   "source": [
    "for i in best_devs:\n",
    "    print(\"Devloper Name:\",Corpus['Name'][i],\"###Bio:\",Corpus['bio'][i])"
   ]
  },
  {
   "cell_type": "markdown",
   "metadata": {},
   "source": [
    "**Sample3**: Now let's compare the result with a query that contains no programming languages name:"
   ]
  },
  {
   "cell_type": "code",
   "execution_count": 634,
   "metadata": {},
   "outputs": [],
   "source": [
    "#A sample query withot programming language name\n",
    "sample_query = \"Data scientist\""
   ]
  },
  {
   "cell_type": "code",
   "execution_count": 635,
   "metadata": {},
   "outputs": [],
   "source": [
    "q_non_langs,q_langs= split_query_langs(sample_query)"
   ]
  },
  {
   "cell_type": "code",
   "execution_count": 636,
   "metadata": {},
   "outputs": [],
   "source": [
    "if(q_langs and q_non_langs):\n",
    "    qe_w2v = W2v_expanded_query(w2v_model, q_non_langs, k=3)\n",
    "    flat_query = flatten_list(qe_w2v)\n",
    "    #train a BM25 model on tokens_bigram\n",
    "    bm25_obj = bm25.BM25(tokens_bigram)\n",
    "    #calculate the score of each developers based on the search query\n",
    "    scores = bm25_obj.get_scores(flat_query)\n",
    "    \n",
    "    final_scores = final_score_sum(q_langs,scores)\n",
    "    \n",
    "elif(q_langs):\n",
    "    scores= []\n",
    "    final_scores = final_score_sum(q_langs,scores)\n",
    "    \n",
    "elif(q_non_langs):\n",
    "    qe_w2v = W2v_expanded_query(w2v_model, q_non_langs, k=3)\n",
    "    flat_query = flatten_list(qe_w2v)\n",
    "    #train a BM25 model on tokens_bigram\n",
    "    bm25_obj = bm25.BM25(tokens_bigram)\n",
    "    #calculate the score of each developers based on the search query\n",
    "    final_scores = bm25_obj.get_scores(flat_query)"
   ]
  },
  {
   "cell_type": "code",
   "execution_count": 637,
   "metadata": {},
   "outputs": [],
   "source": [
    "#find the top 10 ranks\n",
    "best_devs = sorted(range(len(final_scores)), key=lambda i: final_scores[i],reverse = True)[:10]"
   ]
  },
  {
   "cell_type": "code",
   "execution_count": 638,
   "metadata": {},
   "outputs": [
    {
     "data": {
      "text/plain": [
       "[0, 1, 2, 3, 4, 5, 6, 7, 8, 9]"
      ]
     },
     "execution_count": 638,
     "metadata": {},
     "output_type": "execute_result"
    }
   ],
   "source": [
    "best_devs"
   ]
  },
  {
   "cell_type": "code",
   "execution_count": 627,
   "metadata": {},
   "outputs": [
    {
     "name": "stdout",
     "output_type": "stream",
     "text": [
      "Devloper Name: Alexander Kim ###Bio:     Data Scientist | Machine Learning Engineer\n",
      "Devloper Name: Andres Vidoza ###Bio: BCompSc. Computer Science |  \n",
      "Web Developer - Tech #YouTuber\n",
      "Devloper Name: Andy Duboc ###Bio: None\n",
      "Devloper Name: Bassir Jafarzadeh (Coding Instructor) ###Bio: Software Developer and Programming Instructor.\n",
      "Best React and Node Tutorial:\n",
      "https://youtu.be/Fy9SdZLBTOo\n",
      "Devloper Name: Carl Alexander ###Bio: None\n",
      "Devloper Name: Caroline ###Bio: None\n",
      "Devloper Name: Chris Scott ###Bio: CEO Transistor Software.\n",
      "Creator of background-geolocation for Cordova, React Native and Flutter.  iOS / Android location API specialist.\n",
      "Devloper Name: Claudéric Demers ###Bio: Front End Development @Shopify\n",
      "Devloper Name: Daniel Holden ###Bio: Animation Researcher at Ubisoft Montreal. Writer / Programmer.\n",
      "Devloper Name: David Wolever ###Bio: None\n"
     ]
    }
   ],
   "source": [
    "for i in best_devs:\n",
    "    print(\"Devloper Name:\",Corpus['Name'][i],\"###Bio:\",Corpus['bio'][i])"
   ]
  },
  {
   "cell_type": "markdown",
   "metadata": {},
   "source": [
    "**Concolusion**: As you can see in results, in sample #1 and sample #2 that we mentioned programming language name inside the search query, the top one ranking developer is a researcher in facebook. However, in sample #3 whithout any programming languages in query, the top one is a developer who mentioned \"Data Scientist\" in his bio."
   ]
  },
  {
   "cell_type": "code",
   "execution_count": 632,
   "metadata": {},
   "outputs": [
    {
     "data": {
      "text/plain": [
       "0.10279805352798053"
      ]
     },
     "execution_count": 632,
     "metadata": {},
     "output_type": "execute_result"
    }
   ],
   "source": [
    "#python contribution of top1 in sample #1 and #2\n",
    "dev_lang_dt['python'][16]"
   ]
  },
  {
   "cell_type": "code",
   "execution_count": 639,
   "metadata": {},
   "outputs": [
    {
     "data": {
      "text/plain": [
       "0.07894736842105263"
      ]
     },
     "execution_count": 639,
     "metadata": {},
     "output_type": "execute_result"
    }
   ],
   "source": [
    "#python contribution of top1 in sample #3\n",
    "dev_lang_dt['python'][0]"
   ]
  },
  {
   "cell_type": "code",
   "execution_count": null,
   "metadata": {},
   "outputs": [],
   "source": []
  }
 ],
 "metadata": {
  "kernelspec": {
   "display_name": "Python 3",
   "language": "python",
   "name": "python3"
  },
  "language_info": {
   "codemirror_mode": {
    "name": "ipython",
    "version": 3
   },
   "file_extension": ".py",
   "mimetype": "text/x-python",
   "name": "python",
   "nbconvert_exporter": "python",
   "pygments_lexer": "ipython3",
   "version": "3.7.4"
  }
 },
 "nbformat": 4,
 "nbformat_minor": 2
}
