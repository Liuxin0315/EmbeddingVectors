{
 "cells": [
  {
   "cell_type": "code",
   "execution_count": 1,
   "metadata": {},
   "outputs": [],
   "source": [
    "import pickle\n",
    "import os\n",
    "import re\n",
    "import pandas as pd\n",
    "import numpy as np"
   ]
  },
  {
   "cell_type": "code",
   "execution_count": 2,
   "metadata": {},
   "outputs": [],
   "source": [
    "from gensim.models.doc2vec import Doc2Vec\n",
    "import numpy, math"
   ]
  },
  {
   "cell_type": "code",
   "execution_count": 3,
   "metadata": {},
   "outputs": [],
   "source": [
    "import seaborn as sns\n",
    "import matplotlib.pyplot as plt"
   ]
  },
  {
   "cell_type": "code",
   "execution_count": 4,
   "metadata": {},
   "outputs": [
    {
     "name": "stderr",
     "output_type": "stream",
     "text": [
      "C:\\Users\\morad\\Anaconda3\\lib\\site-packages\\tqdm\\std.py:648: FutureWarning: The Panel class is removed from pandas. Accessing it from the top-level namespace will also be removed in the next version\n",
      "  from pandas import Panel\n"
     ]
    }
   ],
   "source": [
    "from tqdm import tqdm\n",
    "tqdm.pandas(desc=\"progress-bar\")\n",
    "from gensim.models import Doc2Vec\n",
    "from sklearn import utils\n",
    "from sklearn.model_selection import train_test_split\n",
    "from sklearn.linear_model import LogisticRegression\n",
    "from gensim.models.doc2vec import TaggedDocument"
   ]
  },
  {
   "cell_type": "markdown",
   "metadata": {},
   "source": [
    "### ALL info for repos"
   ]
  },
  {
   "cell_type": "code",
   "execution_count": 5,
   "metadata": {},
   "outputs": [],
   "source": [
    "#the directory of pickle files\n",
    "usr_dir = r'C:\\GH-Dataset\\Git_dt_roles\\users'"
   ]
  },
  {
   "cell_type": "code",
   "execution_count": 6,
   "metadata": {},
   "outputs": [],
   "source": [
    "#Load files in pickle format. There is a seperate pickle file per each developer.\n",
    "def open_file(file_path):\n",
    "    with open(file_path, \"rb\") as picklefile:\n",
    "        reader = pickle.load(picklefile)\n",
    "    return(reader)"
   ]
  },
  {
   "cell_type": "code",
   "execution_count": 7,
   "metadata": {},
   "outputs": [],
   "source": [
    "#Seprate lines in text with \\n only (replace other newline tags with \\n)\n",
    "def newline(text):\n",
    "    return '\\n'.join([p for p in re.split(r'\\\\n|\\\\r|\\\\n\\\\n|\\\\r\\\\n|\\r\\n', text) if len(p) > 0])"
   ]
  },
  {
   "cell_type": "code",
   "execution_count": 8,
   "metadata": {},
   "outputs": [],
   "source": [
    "#merge a list of readme files in a single string which are seperated with \\n \n",
    "def merg_RM(RM):\n",
    "    return '\\n '.join(RM)"
   ]
  },
  {
   "cell_type": "code",
   "execution_count": 9,
   "metadata": {},
   "outputs": [],
   "source": [
    "#merge to texts in one single text\n",
    "def merg_text(txt1,txt2):\n",
    "    return txt1 +\"\\n \"+txt2"
   ]
  },
  {
   "cell_type": "code",
   "execution_count": 18,
   "metadata": {},
   "outputs": [],
   "source": [
    "#define the final DataFrame format\n",
    "Corpus = pd.DataFrame(columns=['Name','u_id','bio','Repo_Name','ReadMe','tags','topics','textual_all'])"
   ]
  },
  {
   "cell_type": "code",
   "execution_count": 19,
   "metadata": {},
   "outputs": [],
   "source": [
    "#loop over all files in a directory and collect required fields\n",
    "for filename in os.listdir(usr_dir):\n",
    "    file_path = os.path.join(usr_dir, filename)\n",
    "    reader = open_file(file_path) \n",
    "    bio   = newline(str(reader['bio']))\n",
    "    Name = str(reader['name'])\n",
    "    try:\n",
    "        u_id= str(reader['u_id'])\n",
    "    except:\n",
    "        u_id =\"none\"\n",
    "        \n",
    "    RM = []\n",
    "    repo_name=[]\n",
    "    repo_tags=[]\n",
    "    repo_topics=[]\n",
    "    repo_text=[]\n",
    "    \n",
    "    for row in range(0,len(reader['repository'])):\n",
    "        repo_name_tmp = str(reader['repository'][row]['repo_name'])\n",
    "        repo_RM_tmp = newline(str(reader['repository'][row]['readme']))\n",
    "        repo_tags_tmp = str(reader['repository'][row]['topics'])\n",
    "        repo_topics_tmp=newline(str(reader['repository'][row]['about']))\n",
    "        \n",
    "        repo_name.append(repo_name_tmp)\n",
    "        RM.append(repo_RM_tmp)\n",
    "        repo_tags.append(repo_tags_tmp)\n",
    "        repo_topics.append(repo_topics_tmp)   \n",
    "        \n",
    "        repo_text_tmp = merg_text(merg_text(repo_tags_tmp,repo_topics_tmp),merg_text(repo_name_tmp,repo_RM_tmp))\n",
    "        repo_text.append(repo_text_tmp)\n",
    "        \n",
    "        \n",
    "        \n",
    "    text_all = merg_RM(repo_text) \n",
    "    #info_all = merg_text(bio,text_all)\n",
    "    \n",
    "    \n",
    "    Corpus = Corpus.append({'Name':Name,'u_id':u_id,'bio':bio,'Repo_Name':repo_name,'ReadMe':RM,'tags':repo_tags,\n",
    "                            'topics':repo_topics,'textual_all':text_all},ignore_index=True)\n",
    "    "
   ]
  },
  {
   "cell_type": "code",
   "execution_count": 20,
   "metadata": {},
   "outputs": [
    {
     "data": {
      "text/plain": [
       "1763"
      ]
     },
     "execution_count": 20,
     "metadata": {},
     "output_type": "execute_result"
    }
   ],
   "source": [
    "len(Corpus)"
   ]
  },
  {
   "cell_type": "code",
   "execution_count": 21,
   "metadata": {},
   "outputs": [],
   "source": [
    "Corpus=Corpus[Corpus['u_id'].isin(lst_uid)].reset_index()"
   ]
  },
  {
   "cell_type": "code",
   "execution_count": 687,
   "metadata": {},
   "outputs": [
    {
     "data": {
      "text/plain": [
       "1578"
      ]
     },
     "execution_count": 687,
     "metadata": {},
     "output_type": "execute_result"
    }
   ],
   "source": [
    "len(Corpus)"
   ]
  },
  {
   "cell_type": "code",
   "execution_count": 688,
   "metadata": {},
   "outputs": [],
   "source": [
    "dt1=Corpus[['Name','u_id','textual_all']]"
   ]
  },
  {
   "cell_type": "code",
   "execution_count": 24,
   "metadata": {},
   "outputs": [],
   "source": [
    "dt2 = pd.read_csv('C:\\GH-Dataset\\Git_dt_roles\\git_data_single_label.csv')"
   ]
  },
  {
   "cell_type": "code",
   "execution_count": 689,
   "metadata": {},
   "outputs": [],
   "source": [
    "merged_inner = pd.merge(left=dt1, right=dt2[['gh_login','label']], left_on='u_id', right_on='gh_login')"
   ]
  },
  {
   "cell_type": "code",
   "execution_count": 690,
   "metadata": {},
   "outputs": [],
   "source": [
    "txt_dt=merged_inner[['u_id','textual_all','label']]"
   ]
  },
  {
   "cell_type": "code",
   "execution_count": 691,
   "metadata": {},
   "outputs": [
    {
     "data": {
      "text/plain": [
       "1272"
      ]
     },
     "execution_count": 691,
     "metadata": {},
     "output_type": "execute_result"
    }
   ],
   "source": [
    "len(txt_dt)"
   ]
  },
  {
   "cell_type": "code",
   "execution_count": 28,
   "metadata": {},
   "outputs": [],
   "source": [
    "import gensim\n",
    "from gensim.parsing.preprocessing import *"
   ]
  },
  {
   "cell_type": "code",
   "execution_count": 29,
   "metadata": {},
   "outputs": [],
   "source": [
    "#seperte sentences with \\n\n",
    "def split_sentence(corpus):\n",
    "    sentences = [doc.split(\"\\n\") for doc in corpus]\n",
    "    return sentences"
   ]
  },
  {
   "cell_type": "code",
   "execution_count": 30,
   "metadata": {},
   "outputs": [],
   "source": [
    "#flat a list of lists into a list\n",
    "def flatten_list(sentences):\n",
    "    flatList = [ item.lower() for elem in sentences for item in elem]\n",
    "    return flatList"
   ]
  },
  {
   "cell_type": "code",
   "execution_count": 31,
   "metadata": {},
   "outputs": [],
   "source": [
    "#tokenize all sentences\n",
    "def token_in_sentence(list_sentences):\n",
    "    list_tokens = [list(gensim.utils.tokenize(doc, lower=True)) for doc in list_sentences]\n",
    "    return list_tokens"
   ]
  },
  {
   "cell_type": "code",
   "execution_count": 32,
   "metadata": {},
   "outputs": [],
   "source": [
    "#build a bundle of actions to clean data\n",
    "def custom_filter():\n",
    "    cstm_filter = [remove_stopwords,split_alphanum, strip_numeric, strip_tags, strip_non_alphanum]\n",
    "    return cstm_filter"
   ]
  },
  {
   "cell_type": "code",
   "execution_count": 33,
   "metadata": {},
   "outputs": [],
   "source": [
    "#cleaning data based on steps define in custom_filter\n",
    "def str_preprocessing(tokenize_sentence):\n",
    "    CUSTOM_FILTERS = custom_filter()\n",
    "    tokens_new = preprocess_string(\" \".join(tokenize_sentence), CUSTOM_FILTERS)\n",
    "    return tokens_new"
   ]
  },
  {
   "cell_type": "code",
   "execution_count": 692,
   "metadata": {},
   "outputs": [],
   "source": [
    "#split sentence in documents (Corpus['textual_all'])\n",
    "sentences_stream = split_sentence(txt_dt['textual_all'])"
   ]
  },
  {
   "cell_type": "code",
   "execution_count": 693,
   "metadata": {},
   "outputs": [],
   "source": [
    "#tokenize all sentences\n",
    "tokenize_sentence=[]\n",
    "for row in sentences_stream:\n",
    "    tokenize_st = flatten_list(token_in_sentence(row))\n",
    "    tokenize_sentence.append(tokenize_st)"
   ]
  },
  {
   "cell_type": "code",
   "execution_count": 694,
   "metadata": {},
   "outputs": [],
   "source": [
    "#cleaning data with costum actions\n",
    "processing_tokens = [str_preprocessing(sen) for sen in tokenize_sentence]"
   ]
  },
  {
   "cell_type": "code",
   "execution_count": 37,
   "metadata": {},
   "outputs": [],
   "source": [
    "import nltk "
   ]
  },
  {
   "cell_type": "code",
   "execution_count": 695,
   "metadata": {},
   "outputs": [
    {
     "name": "stderr",
     "output_type": "stream",
     "text": [
      "[nltk_data] Downloading package words to\n",
      "[nltk_data]     C:\\Users\\morad\\AppData\\Roaming\\nltk_data...\n",
      "[nltk_data]   Package words is already up-to-date!\n"
     ]
    },
    {
     "data": {
      "text/plain": [
       "True"
      ]
     },
     "execution_count": 695,
     "metadata": {},
     "output_type": "execute_result"
    }
   ],
   "source": [
    "nltk.download('words')"
   ]
  },
  {
   "cell_type": "code",
   "execution_count": 39,
   "metadata": {},
   "outputs": [],
   "source": [
    "words = set(nltk.corpus.words.words())"
   ]
  },
  {
   "cell_type": "code",
   "execution_count": 40,
   "metadata": {},
   "outputs": [],
   "source": [
    "english_tokens=[]\n",
    "for row in processing_tokens:\n",
    "    #clean_tokens.append([w for w in row if w not in [\"None\",\"none\"]])\n",
    "    english_tokens.append([w for w in row if w.lower() in words or not w.isalpha()])"
   ]
  },
  {
   "cell_type": "code",
   "execution_count": 696,
   "metadata": {},
   "outputs": [],
   "source": [
    "clean_tokens=[]\n",
    "for row in english_tokens:\n",
    "    #clean_tokens.append([w for w in row if w not in [\"None\",\"none\"]])\n",
    "    clean_tokens.append([w for w in row if len(w) > 2])"
   ]
  },
  {
   "cell_type": "code",
   "execution_count": 697,
   "metadata": {},
   "outputs": [],
   "source": [
    "flatten_tokenize=flatten_list(clean_tokens)"
   ]
  },
  {
   "cell_type": "code",
   "execution_count": 698,
   "metadata": {},
   "outputs": [
    {
     "data": {
      "text/plain": [
       "8347916"
      ]
     },
     "execution_count": 698,
     "metadata": {},
     "output_type": "execute_result"
    }
   ],
   "source": [
    "# number of tokens after cleaning process\n",
    "len(flatten_tokenize)"
   ]
  },
  {
   "cell_type": "code",
   "execution_count": 699,
   "metadata": {},
   "outputs": [],
   "source": [
    "#bigram model\n",
    "bi_tmp_df = {'text_all':clean_tokens,'tags':txt_dt['u_id'],'label':txt_dt['label']}"
   ]
  },
  {
   "cell_type": "code",
   "execution_count": 700,
   "metadata": {},
   "outputs": [],
   "source": [
    "bi_doc2vec_dt = pd.DataFrame(bi_tmp_df)"
   ]
  },
  {
   "cell_type": "code",
   "execution_count": 701,
   "metadata": {},
   "outputs": [],
   "source": [
    "bi_doc2vec_dt=bi_doc2vec_dt[bi_doc2vec_dt['text_all'].str.len()>50].reset_index()"
   ]
  },
  {
   "cell_type": "code",
   "execution_count": 702,
   "metadata": {},
   "outputs": [],
   "source": [
    "bi_doc2vec_dt=bi_doc2vec_dt.drop('index',axis=1)"
   ]
  },
  {
   "cell_type": "code",
   "execution_count": 41,
   "metadata": {},
   "outputs": [],
   "source": [
    "from sklearn.metrics import accuracy_score, confusion_matrix, f1_score, precision_score, recall_score"
   ]
  },
  {
   "cell_type": "code",
   "execution_count": 732,
   "metadata": {},
   "outputs": [],
   "source": [
    "doc_tagged = bi_doc2vec_dt.apply(\n",
    "    lambda r: TaggedDocument(words=r['text_all'], tags=[r.tags]), axis=1)"
   ]
  },
  {
   "cell_type": "code",
   "execution_count": 733,
   "metadata": {},
   "outputs": [
    {
     "name": "stderr",
     "output_type": "stream",
     "text": [
      "100%|█████████████████████████████████████████████████████████████████████████████| 1259/1259 [00:03<00:00, 397.83it/s]\n"
     ]
    },
    {
     "name": "stdout",
     "output_type": "stream",
     "text": [
      "Wall time: 7.98 s\n"
     ]
    }
   ],
   "source": [
    "%%time\n",
    "model_dmm = Doc2Vec(dm=1, vector_size=230, window=5, negative=5, min_count=5,epochs=20)\n",
    "model_dmm.build_vocab(tqdm(doc_tagged.values))"
   ]
  },
  {
   "cell_type": "code",
   "execution_count": 734,
   "metadata": {},
   "outputs": [
    {
     "name": "stderr",
     "output_type": "stream",
     "text": [
      "100%|█████████████████████████████████████████████████████████████████████████████| 1259/1259 [00:05<00:00, 240.52it/s]\n"
     ]
    }
   ],
   "source": [
    "model_dmm.train(tqdm(doc_tagged.values), total_examples=len(doc_tagged.values), epochs=model_dmm.epochs)"
   ]
  },
  {
   "cell_type": "code",
   "execution_count": 735,
   "metadata": {},
   "outputs": [],
   "source": [
    "y_all, X_all = vec_for_learning(model_dmm, doc_tagged)"
   ]
  },
  {
   "cell_type": "code",
   "execution_count": 710,
   "metadata": {},
   "outputs": [],
   "source": [
    "all_tpc_kw_lib = pd.DataFrame(X_all)"
   ]
  },
  {
   "cell_type": "code",
   "execution_count": 716,
   "metadata": {},
   "outputs": [],
   "source": [
    "all_tpc_kw_lib['label']=bi_doc2vec_dt['label']"
   ]
  },
  {
   "cell_type": "code",
   "execution_count": 720,
   "metadata": {},
   "outputs": [
    {
     "data": {
      "text/plain": [
       "1259"
      ]
     },
     "execution_count": 720,
     "metadata": {},
     "output_type": "execute_result"
    }
   ],
   "source": [
    "len(all_tpc_kw_lib)"
   ]
  },
  {
   "cell_type": "code",
   "execution_count": 722,
   "metadata": {},
   "outputs": [],
   "source": [
    "all_vectors=all_tpc_kw_lib.drop('label',axis=1)"
   ]
  },
  {
   "cell_type": "code",
   "execution_count": 718,
   "metadata": {},
   "outputs": [],
   "source": [
    "centroid=all_tpc_kw_lib.groupby('label').mean()"
   ]
  },
  {
   "cell_type": "code",
   "execution_count": 719,
   "metadata": {},
   "outputs": [],
   "source": [
    "result= pd.DataFrame(columns=['sim','label','topic_label'])"
   ]
  },
  {
   "cell_type": "code",
   "execution_count": 723,
   "metadata": {},
   "outputs": [],
   "source": [
    "for row in range(0,len(all_tpc_kw_lib)):\n",
    "    label=all_tpc_kw_lib.iloc[row]['label']\n",
    "    for i in range(0,len(centroid)):\n",
    "        sims=cos_sim(all_vectors.iloc[row],centroid.iloc[i])\n",
    "        result=result.append({'sim':sims,'label':label,'topic_label':centroid.index[i]},ignore_index=True)"
   ]
  },
  {
   "cell_type": "code",
   "execution_count": 726,
   "metadata": {},
   "outputs": [],
   "source": [
    "rr=result.groupby(['label','topic_label'])['sim'].mean().reset_index()"
   ]
  },
  {
   "cell_type": "code",
   "execution_count": 728,
   "metadata": {},
   "outputs": [],
   "source": [
    "all_fig = pd.DataFrame(0.0, index=centroid.index, columns=centroid.index)"
   ]
  },
  {
   "cell_type": "code",
   "execution_count": 729,
   "metadata": {},
   "outputs": [],
   "source": [
    "for i in range(0,len(rr)):\n",
    "    all_fig.loc[rr.iloc[i]['topic_label'],rr.iloc[i]['label']]=rr.iloc[i]['sim']"
   ]
  },
  {
   "cell_type": "code",
   "execution_count": 6,
   "metadata": {},
   "outputs": [],
   "source": [
    "import seaborn as sns\n",
    "import matplotlib.pyplot as plt"
   ]
  },
  {
   "cell_type": "code",
   "execution_count": 731,
   "metadata": {},
   "outputs": [
    {
     "data": {
      "image/png": "[encoded data removed]",
      "text/plain": [
       "<Figure size 576x504 with 2 Axes>"
      ]
     },
     "metadata": {
      "needs_background": "light"
     },
     "output_type": "display_data"
    }
   ],
   "source": [
    "import seaborn as sns\n",
    "fig, ax = plt.subplots(figsize=(8,7))\n",
    "ax = sns.heatmap(all_fig, cmap=\"Blues\",annot=True) #notation: \"annot\" not \"annote\"\n",
    "bottom, top = ax.get_ylim()\n",
    "ax.set_ylim(bottom + 0.5, top - 0.5)\n",
    "plt.ylabel('Developer Job Role', fontsize=12)\n",
    "plt.xlabel('job role centroid', fontsize=12)\n",
    "plt.savefig('topic_key_correlation.png',dpi=150)"
   ]
  },
  {
   "cell_type": "code",
   "execution_count": 333,
   "metadata": {},
   "outputs": [],
   "source": [
    "trainset, testset = train_test_split(bi_doc2vec_dt, test_size=0.1, random_state=44)"
   ]
  },
  {
   "cell_type": "code",
   "execution_count": 336,
   "metadata": {},
   "outputs": [],
   "source": [
    "train = trainset.apply(\n",
    "    lambda r: TaggedDocument(words=r['text_all'], tags=[r.tags]), axis=1)"
   ]
  },
  {
   "cell_type": "code",
   "execution_count": 337,
   "metadata": {},
   "outputs": [],
   "source": [
    "test = testset.apply(\n",
    "    lambda r: TaggedDocument(words=r['text_all'], tags=[r.tags]), axis=1)"
   ]
  },
  {
   "cell_type": "code",
   "execution_count": 7,
   "metadata": {},
   "outputs": [],
   "source": [
    "import multiprocessing\n",
    "cores = multiprocessing.cpu_count()"
   ]
  },
  {
   "cell_type": "code",
   "execution_count": 8,
   "metadata": {},
   "outputs": [],
   "source": [
    "def evaluate_prediction(predictions, target, title=\"Confusion matrix\"):\n",
    "    print('accuracy %s' % accuracy_score(target, predictions))\n",
    "    print('Testing F1 score: {}'.format(f1_score(target, predictions, average='weighted')))\n",
    "    print('percision: {}'.format(precision_score(target, predictions, average='weighted')))\n",
    "    print('recall: {}'.format(recall_score(target, predictions, average='weighted')))\n",
    "    cm = confusion_matrix(target, predictions, labels=my_tags)\n",
    "    print('confusion matrix\\n %s' % cm)\n",
    "    print('(row=expected, col=predicted)')\n",
    "    \n",
    "    cm_normalized = cm.astype('float') / cm.sum(axis=1)[:, np.newaxis]\n",
    "    plot_confusion_matrix(cm_normalized, title + ' Normalized')"
   ]
  },
  {
   "cell_type": "code",
   "execution_count": 9,
   "metadata": {},
   "outputs": [],
   "source": [
    "def plot_confusion_matrix(cm, title='Confusion matrix', cmap=plt.cm.Blues):\n",
    "    plt.imshow(cm, interpolation='nearest', cmap=cmap)\n",
    "    plt.title(title)\n",
    "    plt.colorbar()\n",
    "    tick_marks = np.arange(len(my_tags))\n",
    "    target_names = my_tags\n",
    "    plt.xticks(tick_marks, target_names, rotation=45)\n",
    "    plt.yticks(tick_marks, target_names)\n",
    "    plt.tight_layout()\n",
    "    plt.ylabel('True label')\n",
    "    plt.xlabel('Predicted label')"
   ]
  },
  {
   "cell_type": "code",
   "execution_count": 10,
   "metadata": {},
   "outputs": [
    {
     "ename": "NameError",
     "evalue": "name 'all_in_one' is not defined",
     "output_type": "error",
     "traceback": [
      "\u001b[1;31m---------------------------------------------------------------------------\u001b[0m",
      "\u001b[1;31mNameError\u001b[0m                                 Traceback (most recent call last)",
      "\u001b[1;32m<ipython-input-10-9e88ec3e943f>\u001b[0m in \u001b[0;36m<module>\u001b[1;34m\u001b[0m\n\u001b[1;32m----> 1\u001b[1;33m \u001b[0mmy_tags\u001b[0m \u001b[1;33m=\u001b[0m \u001b[0mall_in_one\u001b[0m\u001b[1;33m.\u001b[0m\u001b[0mlabel\u001b[0m\u001b[1;33m.\u001b[0m\u001b[0munique\u001b[0m\u001b[1;33m(\u001b[0m\u001b[1;33m)\u001b[0m\u001b[1;33m\u001b[0m\u001b[1;33m\u001b[0m\u001b[0m\n\u001b[0m",
      "\u001b[1;31mNameError\u001b[0m: name 'all_in_one' is not defined"
     ]
    }
   ],
   "source": [
    "my_tags = all_in_one.label.unique()"
   ]
  },
  {
   "cell_type": "code",
   "execution_count": 11,
   "metadata": {},
   "outputs": [],
   "source": [
    "my_tags =['Frontend','Backend','Mobile','DataScientist','DevOps']"
   ]
  },
  {
   "cell_type": "code",
   "execution_count": 12,
   "metadata": {},
   "outputs": [],
   "source": [
    "#Define the Cosine Similarity Function\n",
    "def cos_sim(av,bv):\n",
    "    return(sum(av*bv)/math.sqrt(sum(av*av)*sum(bv*bv)))"
   ]
  },
  {
   "cell_type": "code",
   "execution_count": 13,
   "metadata": {},
   "outputs": [],
   "source": [
    "def vec_for_learning(model, tagged_docs):\n",
    "    sents = tagged_docs.values\n",
    "    model.random.seed(0)\n",
    "    targets, regressors = zip(*[(doc.tags[0], model.infer_vector(doc.words, epochs=20)) for doc in sents])\n",
    "    return targets, regressors"
   ]
  },
  {
   "cell_type": "code",
   "execution_count": 439,
   "metadata": {},
   "outputs": [
    {
     "name": "stderr",
     "output_type": "stream",
     "text": [
      "100%|█████████████████████████████████████████████████████████████████████████████| 1133/1133 [00:01<00:00, 823.90it/s]\n"
     ]
    },
    {
     "name": "stdout",
     "output_type": "stream",
     "text": [
      "Wall time: 5.62 s\n"
     ]
    }
   ],
   "source": [
    "%%time\n",
    "model_dmm = Doc2Vec(dm=1, vector_size=230, window=5, negative=5, min_count=5,epochs=20)\n",
    "model_dmm.build_vocab(tqdm(train.values))"
   ]
  },
  {
   "cell_type": "code",
   "execution_count": 440,
   "metadata": {},
   "outputs": [
    {
     "name": "stderr",
     "output_type": "stream",
     "text": [
      "100%|█████████████████████████████████████████████████████████████████████████████| 1133/1133 [00:04<00:00, 251.63it/s]\n"
     ]
    }
   ],
   "source": [
    "model_dmm.train(tqdm(train.values), total_examples=len(train.values), epochs=model_dmm.epochs)"
   ]
  },
  {
   "cell_type": "code",
   "execution_count": 441,
   "metadata": {},
   "outputs": [
    {
     "name": "stdout",
     "output_type": "stream",
     "text": [
      "Wall time: 3min 16s\n"
     ]
    }
   ],
   "source": [
    "%%time\n",
    "y_train, X_train = vec_for_learning(model_dmm, train)\n",
    "y_test, X_test = vec_for_learning(model_dmm, test)"
   ]
  },
  {
   "cell_type": "code",
   "execution_count": 442,
   "metadata": {},
   "outputs": [],
   "source": [
    "Y_train,labels=zip(*[(label,label) for label in trainset['label']] )\n",
    "Y_test,labels=zip(*[(label,label) for label in testset['label']] )"
   ]
  },
  {
   "cell_type": "code",
   "execution_count": 443,
   "metadata": {},
   "outputs": [
    {
     "data": {
      "text/plain": [
       "Frontend         53\n",
       "Mobile           37\n",
       "DataScientist    17\n",
       "Backend          11\n",
       "DevOps            8\n",
       "Name: 0, dtype: int64"
      ]
     },
     "execution_count": 443,
     "metadata": {},
     "output_type": "execute_result"
    }
   ],
   "source": [
    "pd.DataFrame(Y_test)[0].value_counts()"
   ]
  },
  {
   "cell_type": "code",
   "execution_count": 444,
   "metadata": {},
   "outputs": [],
   "source": [
    "u_id_lst=[]\n",
    "for row in train.values:\n",
    "    u_id_lst.append(row.tags[0])"
   ]
  },
  {
   "cell_type": "code",
   "execution_count": 445,
   "metadata": {},
   "outputs": [],
   "source": [
    "sim_train=pd.DataFrame(columns=['u_id','cos_sim'])"
   ]
  },
  {
   "cell_type": "code",
   "execution_count": 446,
   "metadata": {},
   "outputs": [],
   "source": [
    "for uid in range(0,len(u_id_lst)):\n",
    "    vec_train=X_train[uid]\n",
    "    username=u_id_lst[uid]\n",
    "    vec_user = model_dmm.docvecs[username]\n",
    "    sim_train=sim_train.append({'u_id':username,'cos_sim':cos_sim(vec_train,vec_user)},ignore_index=True)"
   ]
  },
  {
   "cell_type": "code",
   "execution_count": 447,
   "metadata": {},
   "outputs": [],
   "source": [
    "#sim_train[sim_train['cos_sim']<0.85]"
   ]
  },
  {
   "cell_type": "code",
   "execution_count": 448,
   "metadata": {},
   "outputs": [
    {
     "data": {
      "text/plain": [
       "1.0"
      ]
     },
     "execution_count": 448,
     "metadata": {},
     "output_type": "execute_result"
    }
   ],
   "source": [
    "(len(sim_train)-len(sim_train[sim_train['cos_sim']<0.85]))/len(sim_train)"
   ]
  },
  {
   "cell_type": "code",
   "execution_count": 415,
   "metadata": {},
   "outputs": [],
   "source": [
    "from sklearn.ensemble import RandomForestClassifier"
   ]
  },
  {
   "cell_type": "code",
   "execution_count": 449,
   "metadata": {},
   "outputs": [],
   "source": [
    "rf = RandomForestClassifier(n_estimators = 100, random_state = 30)"
   ]
  },
  {
   "cell_type": "code",
   "execution_count": 450,
   "metadata": {},
   "outputs": [
    {
     "data": {
      "text/plain": [
       "RandomForestClassifier(bootstrap=True, class_weight=None, criterion='gini',\n",
       "                       max_depth=None, max_features='auto', max_leaf_nodes=None,\n",
       "                       min_impurity_decrease=0.0, min_impurity_split=None,\n",
       "                       min_samples_leaf=1, min_samples_split=2,\n",
       "                       min_weight_fraction_leaf=0.0, n_estimators=100,\n",
       "                       n_jobs=None, oob_score=False, random_state=30, verbose=0,\n",
       "                       warm_start=False)"
      ]
     },
     "execution_count": 450,
     "metadata": {},
     "output_type": "execute_result"
    }
   ],
   "source": [
    "rf.fit(X_train,Y_train)"
   ]
  },
  {
   "cell_type": "code",
   "execution_count": 451,
   "metadata": {},
   "outputs": [],
   "source": [
    "y_pred=rf.predict(X_test)"
   ]
  },
  {
   "cell_type": "code",
   "execution_count": 452,
   "metadata": {},
   "outputs": [
    {
     "name": "stdout",
     "output_type": "stream",
     "text": [
      "accuracy 0.5952380952380952\n",
      "Testing F1 score: 0.5493227536396417\n",
      "percision: 0.5767304651911402\n",
      "recall: 0.5952380952380952\n",
      "confusion matrix\n",
      " [[49  0  2  1  1]\n",
      " [ 3  1  4  1  2]\n",
      " [21  0 14  1  1]\n",
      " [ 4  0  2 11  0]\n",
      " [ 6  1  1  0  0]]\n",
      "(row=expected, col=predicted)\n"
     ]
    },
    {
     "data": {
      "image/png": "[encoded data removed]",
      "text/plain": [
       "<Figure size 432x288 with 2 Axes>"
      ]
     },
     "metadata": {
      "needs_background": "light"
     },
     "output_type": "display_data"
    }
   ],
   "source": [
    "evaluate_prediction(y_pred, Y_test)"
   ]
  },
  {
   "cell_type": "code",
   "execution_count": 453,
   "metadata": {},
   "outputs": [],
   "source": [
    "(p, r, f1, jac, hl, p_c,\n",
    "         r_c, f1_c, s_c) = calculate_metrics(Y_test, y_pred,\"macro\")"
   ]
  },
  {
   "cell_type": "code",
   "execution_count": 454,
   "metadata": {},
   "outputs": [],
   "source": [
    "fold_scores = {\n",
    "            \"precision\": p,\n",
    "            \"recall\": r,\n",
    "            \"f1\": f1\n",
    "        }\n"
   ]
  },
  {
   "cell_type": "code",
   "execution_count": 455,
   "metadata": {},
   "outputs": [],
   "source": [
    "for i in range(0,len(label)):\n",
    "            fold_scores[\"precision_{0}\".format(label[i])] = p_c[i]\n",
    "            fold_scores[\"recall_{0}\".format(label[i])] = r_c[i]\n",
    "            fold_scores[\"f1_{0}\".format(label[i])] = f1_c[i]"
   ]
  },
  {
   "cell_type": "code",
   "execution_count": 456,
   "metadata": {},
   "outputs": [
    {
     "data": {
      "text/plain": [
       "{'precision': 0.4969542767342663,\n",
       " 'recall': 0.4081749189407347,\n",
       " 'f1': 0.4101556950323554,\n",
       " 'precision_Backend': 0.5,\n",
       " 'recall_Backend': 0.09090909090909091,\n",
       " 'f1_Backend': 0.15384615384615385,\n",
       " 'precision_DataScientist': 0.7857142857142857,\n",
       " 'recall_DataScientist': 0.6470588235294118,\n",
       " 'f1_DataScientist': 0.7096774193548386,\n",
       " 'precision_DevOps': 0.0,\n",
       " 'recall_DevOps': 0.0,\n",
       " 'f1_DevOps': 0.0,\n",
       " 'precision_Frontend': 0.5903614457831325,\n",
       " 'recall_Frontend': 0.9245283018867925,\n",
       " 'f1_Frontend': 0.7205882352941178,\n",
       " 'precision_Mobile': 0.6086956521739131,\n",
       " 'recall_Mobile': 0.3783783783783784,\n",
       " 'f1_Mobile': 0.4666666666666667}"
      ]
     },
     "execution_count": 456,
     "metadata": {},
     "output_type": "execute_result"
    }
   ],
   "source": [
    "fold_scores"
   ]
  },
  {
   "cell_type": "code",
   "execution_count": 457,
   "metadata": {},
   "outputs": [],
   "source": [
    "logreg = LogisticRegression(n_jobs=1, C=1e5)"
   ]
  },
  {
   "cell_type": "code",
   "execution_count": 458,
   "metadata": {},
   "outputs": [
    {
     "name": "stderr",
     "output_type": "stream",
     "text": [
      "C:\\Users\\morad\\Anaconda3\\lib\\site-packages\\sklearn\\linear_model\\logistic.py:432: FutureWarning: Default solver will be changed to 'lbfgs' in 0.22. Specify a solver to silence this warning.\n",
      "  FutureWarning)\n",
      "C:\\Users\\morad\\Anaconda3\\lib\\site-packages\\sklearn\\linear_model\\logistic.py:469: FutureWarning: Default multi_class will be changed to 'auto' in 0.22. Specify the multi_class option to silence this warning.\n",
      "  \"this warning.\", FutureWarning)\n"
     ]
    }
   ],
   "source": [
    "logreg.fit(X_train, Y_train)\n",
    "y_pred = logreg.predict(X_test)"
   ]
  },
  {
   "cell_type": "code",
   "execution_count": 459,
   "metadata": {},
   "outputs": [
    {
     "name": "stdout",
     "output_type": "stream",
     "text": [
      "accuracy 0.5079365079365079\n",
      "Testing F1 score: 0.5245296379699804\n",
      "percision: 0.5864497920380273\n",
      "recall: 0.5079365079365079\n",
      "confusion matrix\n",
      " [[27  8 10  2  6]\n",
      " [ 2  6  2  0  1]\n",
      " [ 5  9 13  4  6]\n",
      " [ 0  1  0 15  1]\n",
      " [ 2  1  1  1  3]]\n",
      "(row=expected, col=predicted)\n"
     ]
    },
    {
     "data": {
      "image/png": "[encoded data removed]",
      "text/plain": [
       "<Figure size 432x288 with 2 Axes>"
      ]
     },
     "metadata": {
      "needs_background": "light"
     },
     "output_type": "display_data"
    }
   ],
   "source": [
    "evaluate_prediction(y_pred, Y_test)"
   ]
  },
  {
   "cell_type": "code",
   "execution_count": 98,
   "metadata": {},
   "outputs": [],
   "source": [
    "from sklearn import svm"
   ]
  },
  {
   "cell_type": "code",
   "execution_count": 460,
   "metadata": {},
   "outputs": [],
   "source": [
    "clf = svm.SVC()"
   ]
  },
  {
   "cell_type": "code",
   "execution_count": 461,
   "metadata": {},
   "outputs": [
    {
     "name": "stderr",
     "output_type": "stream",
     "text": [
      "C:\\Users\\morad\\Anaconda3\\lib\\site-packages\\sklearn\\svm\\base.py:193: FutureWarning: The default value of gamma will change from 'auto' to 'scale' in version 0.22 to account better for unscaled features. Set gamma explicitly to 'auto' or 'scale' to avoid this warning.\n",
      "  \"avoid this warning.\", FutureWarning)\n"
     ]
    },
    {
     "data": {
      "text/plain": [
       "SVC(C=1.0, cache_size=200, class_weight=None, coef0=0.0,\n",
       "    decision_function_shape='ovr', degree=3, gamma='auto_deprecated',\n",
       "    kernel='rbf', max_iter=-1, probability=False, random_state=None,\n",
       "    shrinking=True, tol=0.001, verbose=False)"
      ]
     },
     "execution_count": 461,
     "metadata": {},
     "output_type": "execute_result"
    }
   ],
   "source": [
    "clf.fit(X_train, Y_train)"
   ]
  },
  {
   "cell_type": "code",
   "execution_count": 462,
   "metadata": {},
   "outputs": [],
   "source": [
    "y_pred = clf.predict(X_test)"
   ]
  },
  {
   "cell_type": "code",
   "execution_count": 463,
   "metadata": {},
   "outputs": [],
   "source": [
    "#Y_test"
   ]
  },
  {
   "cell_type": "code",
   "execution_count": 464,
   "metadata": {},
   "outputs": [
    {
     "name": "stdout",
     "output_type": "stream",
     "text": [
      "accuracy 0.6190476190476191\n",
      "Testing F1 score: 0.6077924605346608\n",
      "percision: 0.6172360082134518\n",
      "recall: 0.6190476190476191\n",
      "confusion matrix\n",
      " [[42  3  5  2  1]\n",
      " [ 2  4  4  1  0]\n",
      " [15  4 16  2  0]\n",
      " [ 1  1  0 14  1]\n",
      " [ 3  2  1  0  2]]\n",
      "(row=expected, col=predicted)\n"
     ]
    },
    {
     "data": {
      "image/png": "[encoded data removed]",
      "text/plain": [
       "<Figure size 432x288 with 2 Axes>"
      ]
     },
     "metadata": {
      "needs_background": "light"
     },
     "output_type": "display_data"
    }
   ],
   "source": [
    "evaluate_prediction(y_pred, Y_test)"
   ]
  },
  {
   "cell_type": "code",
   "execution_count": null,
   "metadata": {},
   "outputs": [],
   "source": []
  },
  {
   "cell_type": "code",
   "execution_count": 14,
   "metadata": {},
   "outputs": [],
   "source": [
    "from sklearn.metrics import (auc, f1_score, hamming_loss, jaccard_score,\n",
    "                             precision_recall_curve,\n",
    "                             precision_recall_fscore_support, precision_score,\n",
    "                             recall_score)"
   ]
  },
  {
   "cell_type": "code",
   "execution_count": 15,
   "metadata": {},
   "outputs": [],
   "source": [
    "\n",
    "def calculate_metrics(Y_true, Y_pred,average):\n",
    "    \"\"\"Calculates the desired metrics for this study.\n",
    "\n",
    "    This function receives both predicted and real output to calculate the \n",
    "    metrics used in this study.\n",
    "\n",
    "    @param {Y_true} Ground truth's output\n",
    "    @param {Y_pred} Prediction's output\n",
    "    @param {Y_proba} Prediction's output in probability format\n",
    "\n",
    "    @return a list with the metrics results used in our study\n",
    "    \"\"\"\n",
    "    #if len(Y_true.shape) == 1:\n",
    "        #Y_proba = Y_proba[:, 1]\n",
    "    p, r, f1, s = precision_recall_fscore_support(\n",
    "        Y_true, Y_pred)\n",
    "    #pr, rr, _ = precision_recall_curve(Y_true.ravel(), Y_proba.ravel())\n",
    "\n",
    "    scores = (\n",
    "        precision_score(Y_true, Y_pred, average=average),\n",
    "        recall_score(Y_true, Y_pred, average=average),\n",
    "        f1_score(Y_true, Y_pred, average=average),\n",
    "        jaccard_score(Y_true, Y_pred, average=average),\n",
    "        hamming_loss(Y_true, Y_pred),\n",
    "        p,\n",
    "        r,\n",
    "        f1,\n",
    "        s\n",
    "    )\n",
    "    return scores"
   ]
  },
  {
   "cell_type": "code",
   "execution_count": 465,
   "metadata": {},
   "outputs": [],
   "source": [
    "(p, r, f1, jac, hl, p_c,\n",
    "         r_c, f1_c, s_c) = calculate_metrics(Y_test, y_pred,\"macro\")"
   ]
  },
  {
   "cell_type": "code",
   "execution_count": 434,
   "metadata": {},
   "outputs": [],
   "source": [
    "#Y_test"
   ]
  },
  {
   "cell_type": "code",
   "execution_count": 466,
   "metadata": {},
   "outputs": [],
   "source": [
    "fold_scores = {\n",
    "            \"precision\": p,\n",
    "            \"recall\": r,\n",
    "            \"f1\": f1\n",
    "        }\n"
   ]
  },
  {
   "cell_type": "code",
   "execution_count": 467,
   "metadata": {},
   "outputs": [],
   "source": [
    "label=['Backend','DataScientist','DevOps','Frontend','Mobile']"
   ]
  },
  {
   "cell_type": "code",
   "execution_count": 468,
   "metadata": {},
   "outputs": [],
   "source": [
    "for i in range(0,len(label)):\n",
    "            fold_scores[\"precision_{0}\".format(label[i])] = p_c[i]\n",
    "            fold_scores[\"recall_{0}\".format(label[i])] = r_c[i]\n",
    "            fold_scores[\"f1_{0}\".format(label[i])] = f1_c[i]"
   ]
  },
  {
   "cell_type": "code",
   "execution_count": 469,
   "metadata": {},
   "outputs": [
    {
     "data": {
      "text/plain": [
       "{'precision': 0.5609215346057451,\n",
       " 'recall': 0.5324102076044361,\n",
       " 'f1': 0.5326371100164203,\n",
       " 'precision_Backend': 0.2857142857142857,\n",
       " 'recall_Backend': 0.36363636363636365,\n",
       " 'f1_Backend': 0.32,\n",
       " 'precision_DataScientist': 0.7368421052631579,\n",
       " 'recall_DataScientist': 0.8235294117647058,\n",
       " 'f1_DataScientist': 0.7777777777777778,\n",
       " 'precision_DevOps': 0.5,\n",
       " 'recall_DevOps': 0.25,\n",
       " 'f1_DevOps': 0.3333333333333333,\n",
       " 'precision_Frontend': 0.6666666666666666,\n",
       " 'recall_Frontend': 0.7924528301886793,\n",
       " 'f1_Frontend': 0.7241379310344827,\n",
       " 'precision_Mobile': 0.6153846153846154,\n",
       " 'recall_Mobile': 0.43243243243243246,\n",
       " 'f1_Mobile': 0.5079365079365079}"
      ]
     },
     "execution_count": 469,
     "metadata": {},
     "output_type": "execute_result"
    }
   ],
   "source": [
    "fold_scores"
   ]
  },
  {
   "cell_type": "code",
   "execution_count": 738,
   "metadata": {},
   "outputs": [],
   "source": [
    "#define the final DataFrame format\n",
    "avg_Corpus = pd.DataFrame(columns=['Name','u_id','bio','Repo_Name','ReadMe','textual_all'])"
   ]
  },
  {
   "cell_type": "code",
   "execution_count": 739,
   "metadata": {},
   "outputs": [],
   "source": [
    "#loop over all files in a directory and collect required fields\n",
    "for filename in os.listdir(usr_dir):\n",
    "    file_path = os.path.join(usr_dir, filename)\n",
    "    reader = open_file(file_path) \n",
    "    bio   = newline(str(reader['bio']))\n",
    "    Name = str(reader['name'])\n",
    "    try:\n",
    "        u_id= str(reader['u_id'])\n",
    "    except:\n",
    "        u_id =\"none\"\n",
    "        \n",
    "    RM = []\n",
    "    repo_name=[]\n",
    "    repo_tags=[]\n",
    "    repo_topics=[]\n",
    "    repo_text=[]\n",
    "    \n",
    "    for row in range(0,len(reader['repository'])):\n",
    "        repo_name_tmp = str(reader['repository'][row]['repo_name'])\n",
    "        repo_RM_tmp = newline(str(reader['repository'][row]['readme']))\n",
    "        repo_tags_tmp = str(reader['repository'][row]['topics'])\n",
    "        repo_topics_tmp=newline(str(reader['repository'][row]['about']))\n",
    "        \n",
    "        #repo_name.append(repo_name_tmp)\n",
    "        #RM.append(repo_RM_tmp)\n",
    "        #repo_tags.append(repo_tags_tmp)\n",
    "        #repo_topics.append(repo_topics_tmp)   \n",
    "        \n",
    "        repo_text_tmp = merg_text(merg_text(repo_tags_tmp,repo_topics_tmp),merg_text(repo_name_tmp,merg_text(bio,repo_RM_tmp)))\n",
    "        avg_Corpus = avg_Corpus.append({'Name':Name,'u_id':u_id,'bio':bio,'Repo_Name':repo_name_tmp,'ReadMe':repo_RM_tmp,\n",
    "                            'textual_all':repo_text_tmp},ignore_index=True)"
   ]
  },
  {
   "cell_type": "code",
   "execution_count": 13,
   "metadata": {},
   "outputs": [],
   "source": [
    "counts_repo=avg_Corpus.groupby('u_id')['Repo_Name'].count().reset_index()"
   ]
  },
  {
   "cell_type": "code",
   "execution_count": 740,
   "metadata": {},
   "outputs": [
    {
     "data": {
      "text/plain": [
       "58575"
      ]
     },
     "execution_count": 740,
     "metadata": {},
     "output_type": "execute_result"
    }
   ],
   "source": [
    "len(avg_Corpus)"
   ]
  },
  {
   "cell_type": "code",
   "execution_count": 14,
   "metadata": {},
   "outputs": [],
   "source": [
    "lst_uid=[]\n",
    "lst_uid=counts_repo[counts_repo['Repo_Name']>5]['u_id']"
   ]
  },
  {
   "cell_type": "code",
   "execution_count": 15,
   "metadata": {},
   "outputs": [],
   "source": [
    "lst_uid=list(lst_uid)"
   ]
  },
  {
   "cell_type": "code",
   "execution_count": 17,
   "metadata": {},
   "outputs": [],
   "source": [
    "#lst_uid"
   ]
  },
  {
   "cell_type": "code",
   "execution_count": 736,
   "metadata": {},
   "outputs": [],
   "source": [
    "avg_Corpus=avg_Corpus[avg_Corpus['u_id'].isin(lst_uid)].reset_index()"
   ]
  },
  {
   "cell_type": "code",
   "execution_count": 737,
   "metadata": {},
   "outputs": [
    {
     "data": {
      "text/plain": [
       "58082"
      ]
     },
     "execution_count": 737,
     "metadata": {},
     "output_type": "execute_result"
    }
   ],
   "source": [
    "len(avg_Corpus)"
   ]
  },
  {
   "cell_type": "code",
   "execution_count": null,
   "metadata": {},
   "outputs": [],
   "source": [
    "dt4=avg_Corpus[['u_id','textual_all','Repo_Name']]"
   ]
  },
  {
   "cell_type": "code",
   "execution_count": null,
   "metadata": {},
   "outputs": [],
   "source": [
    "merged_inner = pd.merge(left=dt4, right=dt2[['gh_login','label']], left_on='u_id', right_on='gh_login')"
   ]
  },
  {
   "cell_type": "code",
   "execution_count": null,
   "metadata": {},
   "outputs": [],
   "source": [
    "repo_txt_dt=merged_inner[['u_id','textual_all','label','Repo_Name']]"
   ]
  },
  {
   "cell_type": "code",
   "execution_count": null,
   "metadata": {},
   "outputs": [],
   "source": [
    "#split sentence in documents (Corpus['textual_all'])\n",
    "repo_sentences_stream = split_sentence(repo_txt_dt['textual_all'])"
   ]
  },
  {
   "cell_type": "code",
   "execution_count": null,
   "metadata": {},
   "outputs": [],
   "source": [
    "#tokenize all sentences\n",
    "repo_tokenize_sentence=[]\n",
    "for row in repo_sentences_stream:\n",
    "    tokenize_st = flatten_list(token_in_sentence(row))\n",
    "    repo_tokenize_sentence.append(tokenize_st)"
   ]
  },
  {
   "cell_type": "code",
   "execution_count": null,
   "metadata": {},
   "outputs": [],
   "source": []
  },
  {
   "cell_type": "markdown",
   "metadata": {},
   "source": [
    "### baseline"
   ]
  },
  {
   "cell_type": "code",
   "execution_count": 474,
   "metadata": {},
   "outputs": [],
   "source": [
    "import nltk\n",
    "from sklearn.feature_extraction.text import CountVectorizer, TfidfVectorizer"
   ]
  },
  {
   "cell_type": "code",
   "execution_count": 471,
   "metadata": {},
   "outputs": [
    {
     "name": "stderr",
     "output_type": "stream",
     "text": [
      "[nltk_data] Downloading package punkt to\n",
      "[nltk_data]     C:\\Users\\morad\\AppData\\Roaming\\nltk_data...\n",
      "[nltk_data]   Package punkt is already up-to-date!\n"
     ]
    },
    {
     "data": {
      "text/plain": [
       "True"
      ]
     },
     "execution_count": 471,
     "metadata": {},
     "output_type": "execute_result"
    }
   ],
   "source": [
    "nltk.download('punkt')"
   ]
  },
  {
   "cell_type": "code",
   "execution_count": 472,
   "metadata": {},
   "outputs": [],
   "source": [
    "train_data, test_data = train_test_split(txt_dt, test_size=0.1, random_state=42)"
   ]
  },
  {
   "cell_type": "code",
   "execution_count": 475,
   "metadata": {},
   "outputs": [
    {
     "name": "stdout",
     "output_type": "stream",
     "text": [
      "Wall time: 4min 3s\n"
     ]
    }
   ],
   "source": [
    "%%time\n",
    "tf_vect = TfidfVectorizer(\n",
    "    min_df=2, tokenizer=nltk.word_tokenize,\n",
    "    preprocessor=None, stop_words='english')\n",
    "train_data_features = tf_vect.fit_transform(train_data['textual_all'])"
   ]
  },
  {
   "cell_type": "code",
   "execution_count": 476,
   "metadata": {},
   "outputs": [],
   "source": [
    "clf = svm.SVC()"
   ]
  },
  {
   "cell_type": "code",
   "execution_count": 477,
   "metadata": {},
   "outputs": [
    {
     "name": "stderr",
     "output_type": "stream",
     "text": [
      "C:\\Users\\morad\\Anaconda3\\lib\\site-packages\\sklearn\\svm\\base.py:193: FutureWarning: The default value of gamma will change from 'auto' to 'scale' in version 0.22 to account better for unscaled features. Set gamma explicitly to 'auto' or 'scale' to avoid this warning.\n",
      "  \"avoid this warning.\", FutureWarning)\n"
     ]
    },
    {
     "data": {
      "text/plain": [
       "SVC(C=1.0, cache_size=200, class_weight=None, coef0=0.0,\n",
       "    decision_function_shape='ovr', degree=3, gamma='auto_deprecated',\n",
       "    kernel='rbf', max_iter=-1, probability=False, random_state=None,\n",
       "    shrinking=True, tol=0.001, verbose=False)"
      ]
     },
     "execution_count": 477,
     "metadata": {},
     "output_type": "execute_result"
    }
   ],
   "source": [
    "clf.fit(train_data_features, train_data['label'])"
   ]
  },
  {
   "cell_type": "code",
   "execution_count": 483,
   "metadata": {},
   "outputs": [],
   "source": [
    "test_data_features = tf_vect.transform(test_data['textual_all'])"
   ]
  },
  {
   "cell_type": "code",
   "execution_count": 484,
   "metadata": {},
   "outputs": [],
   "source": [
    "y_pred = clf.predict(test_data_features)"
   ]
  },
  {
   "cell_type": "code",
   "execution_count": 485,
   "metadata": {},
   "outputs": [
    {
     "name": "stdout",
     "output_type": "stream",
     "text": [
      "accuracy 0.375\n",
      "Testing F1 score: 0.20454545454545453\n",
      "percision: 0.140625\n",
      "recall: 0.375\n",
      "confusion matrix\n",
      " [[48  0  0  0  0]\n",
      " [22  0  0  0  0]\n",
      " [29  0  0  0  0]\n",
      " [18  0  0  0  0]\n",
      " [11  0  0  0  0]]\n",
      "(row=expected, col=predicted)\n"
     ]
    },
    {
     "data": {
      "image/png": "[encoded data removed]",
      "text/plain": [
       "<Figure size 432x288 with 2 Axes>"
      ]
     },
     "metadata": {
      "needs_background": "light"
     },
     "output_type": "display_data"
    }
   ],
   "source": [
    "evaluate_prediction(y_pred, test_data['label'])"
   ]
  },
  {
   "cell_type": "code",
   "execution_count": 538,
   "metadata": {},
   "outputs": [],
   "source": [
    "rf = RandomForestClassifier(n_estimators = 100, random_state = 30)"
   ]
  },
  {
   "cell_type": "code",
   "execution_count": 494,
   "metadata": {},
   "outputs": [
    {
     "data": {
      "text/plain": [
       "RandomForestClassifier(bootstrap=True, class_weight=None, criterion='gini',\n",
       "                       max_depth=None, max_features='auto', max_leaf_nodes=None,\n",
       "                       min_impurity_decrease=0.0, min_impurity_split=None,\n",
       "                       min_samples_leaf=1, min_samples_split=2,\n",
       "                       min_weight_fraction_leaf=0.0, n_estimators=200,\n",
       "                       n_jobs=None, oob_score=False, random_state=30, verbose=0,\n",
       "                       warm_start=False)"
      ]
     },
     "execution_count": 494,
     "metadata": {},
     "output_type": "execute_result"
    }
   ],
   "source": [
    "rf.fit(train_data_features, train_data['label'])"
   ]
  },
  {
   "cell_type": "code",
   "execution_count": 495,
   "metadata": {},
   "outputs": [],
   "source": [
    "y_pred=rf.predict(test_data_features)"
   ]
  },
  {
   "cell_type": "code",
   "execution_count": 497,
   "metadata": {},
   "outputs": [
    {
     "name": "stdout",
     "output_type": "stream",
     "text": [
      "accuracy 0.546875\n",
      "Testing F1 score: 0.4683202249484617\n",
      "percision: 0.5166842819581584\n",
      "recall: 0.546875\n",
      "confusion matrix\n",
      " [[46  0  2  0  0]\n",
      " [16  0  6  0  0]\n",
      " [16  0 13  0  0]\n",
      " [ 6  0  2 10  0]\n",
      " [ 5  0  4  1  1]]\n",
      "(row=expected, col=predicted)\n"
     ]
    },
    {
     "data": {
      "image/png": "[encoded data removed]",
      "text/plain": [
       "<Figure size 432x288 with 2 Axes>"
      ]
     },
     "metadata": {
      "needs_background": "light"
     },
     "output_type": "display_data"
    }
   ],
   "source": [
    "evaluate_prediction(y_pred, test_data['label'])"
   ]
  },
  {
   "cell_type": "code",
   "execution_count": 499,
   "metadata": {},
   "outputs": [],
   "source": [
    "baseline_dt = pd.read_csv(r'C:\\GH-Dataset\\Git_dt_roles\\baseline_dt.csv')"
   ]
  },
  {
   "cell_type": "code",
   "execution_count": 502,
   "metadata": {},
   "outputs": [],
   "source": [
    "bl_dt=baseline_dt.drop('gh_login',axis=1)"
   ]
  },
  {
   "cell_type": "code",
   "execution_count": 594,
   "metadata": {},
   "outputs": [],
   "source": [
    "train_data, test_data = train_test_split(bl_dt, test_size=0.1, random_state=43)"
   ]
  },
  {
   "cell_type": "code",
   "execution_count": 595,
   "metadata": {},
   "outputs": [],
   "source": [
    "ttt=train_data.drop('label',axis=1)"
   ]
  },
  {
   "cell_type": "code",
   "execution_count": 596,
   "metadata": {},
   "outputs": [
    {
     "data": {
      "text/plain": [
       "RandomForestClassifier(bootstrap=True, class_weight=None, criterion='gini',\n",
       "                       max_depth=None, max_features='auto', max_leaf_nodes=None,\n",
       "                       min_impurity_decrease=0.0, min_impurity_split=None,\n",
       "                       min_samples_leaf=1, min_samples_split=2,\n",
       "                       min_weight_fraction_leaf=0.0, n_estimators=100,\n",
       "                       n_jobs=None, oob_score=False, random_state=30, verbose=0,\n",
       "                       warm_start=False)"
      ]
     },
     "execution_count": 596,
     "metadata": {},
     "output_type": "execute_result"
    }
   ],
   "source": [
    "rf.fit(ttt, train_data['label'])"
   ]
  },
  {
   "cell_type": "code",
   "execution_count": 597,
   "metadata": {},
   "outputs": [],
   "source": [
    "te=test_data.drop('label',axis=1)"
   ]
  },
  {
   "cell_type": "code",
   "execution_count": 598,
   "metadata": {},
   "outputs": [],
   "source": [
    "y_pred=rf.predict(te)"
   ]
  },
  {
   "cell_type": "code",
   "execution_count": 599,
   "metadata": {},
   "outputs": [
    {
     "name": "stdout",
     "output_type": "stream",
     "text": [
      "accuracy 0.5671641791044776\n",
      "Testing F1 score: 0.5139485652545354\n",
      "percision: 0.5473211193607513\n",
      "recall: 0.5671641791044776\n",
      "confusion matrix\n",
      " [[46  1  2  3  0]\n",
      " [11  2  8  0  1]\n",
      " [12  1 16  4  0]\n",
      " [ 2  1  1 10  0]\n",
      " [ 5  0  4  2  2]]\n",
      "(row=expected, col=predicted)\n"
     ]
    },
    {
     "data": {
      "image/png": "[encoded data removed]",
      "text/plain": [
       "<Figure size 432x288 with 2 Axes>"
      ]
     },
     "metadata": {
      "needs_background": "light"
     },
     "output_type": "display_data"
    }
   ],
   "source": [
    "evaluate_prediction(y_pred, test_data['label'])"
   ]
  },
  {
   "cell_type": "code",
   "execution_count": 600,
   "metadata": {},
   "outputs": [
    {
     "name": "stderr",
     "output_type": "stream",
     "text": [
      "C:\\Users\\morad\\Anaconda3\\lib\\site-packages\\sklearn\\svm\\base.py:193: FutureWarning: The default value of gamma will change from 'auto' to 'scale' in version 0.22 to account better for unscaled features. Set gamma explicitly to 'auto' or 'scale' to avoid this warning.\n",
      "  \"avoid this warning.\", FutureWarning)\n"
     ]
    },
    {
     "data": {
      "text/plain": [
       "SVC(C=1.0, cache_size=200, class_weight=None, coef0=0.0,\n",
       "    decision_function_shape='ovr', degree=3, gamma='auto_deprecated',\n",
       "    kernel='rbf', max_iter=-1, probability=False, random_state=None,\n",
       "    shrinking=True, tol=0.001, verbose=False)"
      ]
     },
     "execution_count": 600,
     "metadata": {},
     "output_type": "execute_result"
    }
   ],
   "source": [
    "clf.fit(ttt, train_data['label'])"
   ]
  },
  {
   "cell_type": "code",
   "execution_count": 601,
   "metadata": {},
   "outputs": [],
   "source": [
    "y_pred = clf.predict(te)"
   ]
  },
  {
   "cell_type": "code",
   "execution_count": 603,
   "metadata": {},
   "outputs": [
    {
     "name": "stdout",
     "output_type": "stream",
     "text": [
      "accuracy 0.44029850746268656\n",
      "Testing F1 score: 0.3478846369655482\n",
      "percision: 0.338955223880597\n",
      "recall: 0.44029850746268656\n",
      "confusion matrix\n",
      " [[46  0  6  0  0]\n",
      " [17  0  5  0  0]\n",
      " [22  0 10  1  0]\n",
      " [ 7  0  4  3  0]\n",
      " [ 8  0  5  0  0]]\n",
      "(row=expected, col=predicted)\n"
     ]
    },
    {
     "data": {
      "image/png": "[encoded data removed]",
      "text/plain": [
       "<Figure size 432x288 with 2 Axes>"
      ]
     },
     "metadata": {
      "needs_background": "light"
     },
     "output_type": "display_data"
    }
   ],
   "source": [
    "evaluate_prediction(y_pred, test_data['label'])"
   ]
  },
  {
   "cell_type": "code",
   "execution_count": 566,
   "metadata": {},
   "outputs": [],
   "source": [
    "logreg = LogisticRegression(n_jobs=1, C=1e5)\n"
   ]
  },
  {
   "cell_type": "code",
   "execution_count": 604,
   "metadata": {},
   "outputs": [
    {
     "name": "stderr",
     "output_type": "stream",
     "text": [
      "C:\\Users\\morad\\Anaconda3\\lib\\site-packages\\sklearn\\linear_model\\logistic.py:432: FutureWarning: Default solver will be changed to 'lbfgs' in 0.22. Specify a solver to silence this warning.\n",
      "  FutureWarning)\n",
      "C:\\Users\\morad\\Anaconda3\\lib\\site-packages\\sklearn\\linear_model\\logistic.py:469: FutureWarning: Default multi_class will be changed to 'auto' in 0.22. Specify the multi_class option to silence this warning.\n",
      "  \"this warning.\", FutureWarning)\n",
      "C:\\Users\\morad\\Anaconda3\\lib\\site-packages\\sklearn\\svm\\base.py:929: ConvergenceWarning: Liblinear failed to converge, increase the number of iterations.\n",
      "  \"the number of iterations.\", ConvergenceWarning)\n"
     ]
    },
    {
     "data": {
      "text/plain": [
       "LogisticRegression(C=100000.0, class_weight=None, dual=False,\n",
       "                   fit_intercept=True, intercept_scaling=1, l1_ratio=None,\n",
       "                   max_iter=100, multi_class='warn', n_jobs=1, penalty='l2',\n",
       "                   random_state=None, solver='warn', tol=0.0001, verbose=0,\n",
       "                   warm_start=False)"
      ]
     },
     "execution_count": 604,
     "metadata": {},
     "output_type": "execute_result"
    }
   ],
   "source": [
    "logreg.fit(ttt, train_data['label'])"
   ]
  },
  {
   "cell_type": "code",
   "execution_count": 605,
   "metadata": {},
   "outputs": [],
   "source": [
    "y_pred = logreg.predict(te)"
   ]
  },
  {
   "cell_type": "code",
   "execution_count": 606,
   "metadata": {},
   "outputs": [
    {
     "name": "stdout",
     "output_type": "stream",
     "text": [
      "accuracy 0.5447761194029851\n",
      "Testing F1 score: 0.5010622874820757\n",
      "percision: 0.496499644633973\n",
      "recall: 0.5447761194029851\n",
      "confusion matrix\n",
      " [[44  1  5  1  1]\n",
      " [12  1  6  1  2]\n",
      " [15  1 14  1  2]\n",
      " [ 2  1  0  9  2]\n",
      " [ 4  1  3  0  5]]\n",
      "(row=expected, col=predicted)\n"
     ]
    },
    {
     "data": {
      "image/png": "[encoded data removed]",
      "text/plain": [
       "<Figure size 432x288 with 2 Axes>"
      ]
     },
     "metadata": {
      "needs_background": "light"
     },
     "output_type": "display_data"
    }
   ],
   "source": [
    "evaluate_prediction(y_pred, test_data['label'])"
   ]
  },
  {
   "cell_type": "markdown",
   "metadata": {},
   "source": [
    "#### Issue dataset"
   ]
  },
  {
   "cell_type": "code",
   "execution_count": 608,
   "metadata": {},
   "outputs": [],
   "source": [
    "#the directory of pickle files\n",
    "issue_dir = r'C:\\GH-Dataset\\Git_dt_roles\\issues'"
   ]
  },
  {
   "cell_type": "code",
   "execution_count": 741,
   "metadata": {},
   "outputs": [],
   "source": [
    "#define the final DataFrame format\n",
    "Issue_Corpus = pd.DataFrame(columns=['Name','u_id','bio','Repo_Name','textual_all'])"
   ]
  },
  {
   "cell_type": "code",
   "execution_count": 742,
   "metadata": {},
   "outputs": [],
   "source": [
    "#loop over all files in a directory and collect required fields\n",
    "issues=0\n",
    "error=0\n",
    "for filename in os.listdir(usr_dir):\n",
    "    usr_path = os.path.join(usr_dir, filename)\n",
    "    reader = open_file(usr_path)\n",
    "    try:\n",
    "        issue_path = os.path.join(issue_dir, filename)\n",
    "        issue_reader = open_file(issue_path)\n",
    "    except:\n",
    "        issue_reader=None\n",
    "        \n",
    "    bio   = newline(str(reader['bio']))\n",
    "    Name = str(reader['name'])\n",
    "    try:\n",
    "        u_id= str(reader['u_id'])\n",
    "    except:\n",
    "        u_id =\"none\"\n",
    "\n",
    "        \n",
    "    #RM = []\n",
    "    repo_name=[]\n",
    "    #repo_tags=[]\n",
    "    #repo_topics=[]\n",
    "    repo_text=[]\n",
    "    issue_txt_all=[]\n",
    "    \n",
    "    if(len(reader['repository'])>4):\n",
    "        for row in range(0,len(reader['repository'])):\n",
    "            repo_name_tmp = str(reader['repository'][row]['repo_name'])\n",
    "            #repo_RM_tmp = newline(str(reader['repository'][row]['readme']))\n",
    "           # repo_tags_tmp = str(reader['repository'][row]['topics'])\n",
    "            #repo_topics_tmp=newline(str(reader['repository'][row]['about']))\n",
    "            \n",
    "        \n",
    "            repo_name.append(repo_name_tmp)\n",
    "            #RM.append(repo_RM_tmp)\n",
    "            #repo_tags.append(repo_tags_tmp)\n",
    "            #repo_topics.append(repo_topics_tmp)  \n",
    "            \n",
    "           \n",
    "                \n",
    "            repo_text_tmp = repo_name_tmp\n",
    "            \n",
    "            try:\n",
    "                if((issue_reader is not None) and (issue_reader['issues'][row])):\n",
    "                    for j in issue_reader['issues'][row]:\n",
    "                        issues=issues+1\n",
    "                        issue_title= str(issue_reader['issues'][row][j]['title'])\n",
    "                        issue_body= str(issue_reader['issues'][row][j]['body'])\n",
    "                        issue_temp=merg_text(issue_title,issue_body)\n",
    "                        repo_text_tmp= merg_text(repo_text_tmp,issue_temp)\n",
    "                        issue_txt_all.append(issue_temp)\n",
    "            except:\n",
    "                error=error+1\n",
    "            \n",
    "            repo_text.append(repo_text_tmp)\n",
    "            \n",
    "            \n",
    "            #if(reader['repository'][row]['languages']):\n",
    "               # for lng in reader['repository'][row]['languages']:\n",
    "                   # repo_text.append(lng)\n",
    "                \n",
    "        \n",
    "        #if (len(dep_usr)>0):\n",
    "          #  depend_tem = dep_usr.apply(lambda row: list(row[row == True].index), axis=1).reset_index()\n",
    "          #  depends= merg_RM(depend_tem[0][0])\n",
    "            \n",
    "        text_all = merg_RM(repo_text) \n",
    "        #info_all = merg_text(text_all,depends)\n",
    "    \n",
    "    \n",
    "        Issue_Corpus = Issue_Corpus.append({'Name':Name,'u_id':u_id,'bio':bio,'Repo_Name':repo_name,\n",
    "                            'textual_all':text_all},ignore_index=True)\n",
    "    "
   ]
  },
  {
   "cell_type": "code",
   "execution_count": 743,
   "metadata": {},
   "outputs": [
    {
     "data": {
      "text/plain": [
       "59194"
      ]
     },
     "execution_count": 743,
     "metadata": {},
     "output_type": "execute_result"
    }
   ],
   "source": [
    "issues"
   ]
  },
  {
   "cell_type": "code",
   "execution_count": 616,
   "metadata": {},
   "outputs": [],
   "source": [
    "Issue_Corpus=Issue_Corpus[Issue_Corpus['u_id'].isin(lst_uid)].reset_index()"
   ]
  },
  {
   "cell_type": "code",
   "execution_count": 618,
   "metadata": {},
   "outputs": [],
   "source": [
    " dt1=Issue_Corpus[['Name','u_id','textual_all']]"
   ]
  },
  {
   "cell_type": "code",
   "execution_count": 619,
   "metadata": {},
   "outputs": [],
   "source": [
    "merged_inner = pd.merge(left=dt1, right=dt2[['gh_login','label']], left_on='u_id', right_on='gh_login')"
   ]
  },
  {
   "cell_type": "code",
   "execution_count": 620,
   "metadata": {},
   "outputs": [],
   "source": [
    "txt_dt=merged_inner[['u_id','textual_all','label']]"
   ]
  },
  {
   "cell_type": "code",
   "execution_count": 621,
   "metadata": {},
   "outputs": [
    {
     "data": {
      "text/plain": [
       "2591043"
      ]
     },
     "execution_count": 621,
     "metadata": {},
     "output_type": "execute_result"
    }
   ],
   "source": [
    "#number of words before cleaning\n",
    "txt_dt['textual_all'].apply(lambda x: len(x.split(' '))).sum()"
   ]
  },
  {
   "cell_type": "code",
   "execution_count": 622,
   "metadata": {},
   "outputs": [],
   "source": [
    "#split sentence in documents (Corpus['textual_all'])\n",
    "sentences_stream = split_sentence(txt_dt['textual_all'])"
   ]
  },
  {
   "cell_type": "code",
   "execution_count": 623,
   "metadata": {},
   "outputs": [],
   "source": [
    "#tokenize all sentences\n",
    "tokenize_sentence=[]\n",
    "for row in sentences_stream:\n",
    "    tokenize_st = flatten_list(token_in_sentence(row))\n",
    "    tokenize_sentence.append(tokenize_st)"
   ]
  },
  {
   "cell_type": "code",
   "execution_count": 624,
   "metadata": {},
   "outputs": [],
   "source": [
    "#cleaning data with costum actions\n",
    "processing_tokens = [str_preprocessing(sen) for sen in tokenize_sentence]"
   ]
  },
  {
   "cell_type": "code",
   "execution_count": 625,
   "metadata": {},
   "outputs": [],
   "source": [
    "clean_tokens=[]\n",
    "for row in processing_tokens:\n",
    "    #clean_tokens.append([w for w in row if w not in [\"None\",\"none\"]])\n",
    "    clean_tokens.append([w for w in row if len(w) > 1])"
   ]
  },
  {
   "cell_type": "code",
   "execution_count": 626,
   "metadata": {},
   "outputs": [],
   "source": [
    "bi_tmp_df = {'text_all':clean_tokens,'tags':txt_dt['u_id'],'label':txt_dt['label']}"
   ]
  },
  {
   "cell_type": "code",
   "execution_count": 627,
   "metadata": {},
   "outputs": [],
   "source": [
    "bi_doc2vec_dt = pd.DataFrame(bi_tmp_df)"
   ]
  },
  {
   "cell_type": "code",
   "execution_count": 629,
   "metadata": {},
   "outputs": [],
   "source": [
    "bi_doc2vec_dt=bi_doc2vec_dt[bi_doc2vec_dt['text_all'].str.len()>5].reset_index()"
   ]
  },
  {
   "cell_type": "code",
   "execution_count": 631,
   "metadata": {},
   "outputs": [],
   "source": [
    "#bi_doc2vec_dt"
   ]
  },
  {
   "cell_type": "code",
   "execution_count": 632,
   "metadata": {},
   "outputs": [],
   "source": [
    "bi_doc2vec_dt=bi_doc2vec_dt.drop('index',axis=1)"
   ]
  },
  {
   "cell_type": "code",
   "execution_count": 633,
   "metadata": {},
   "outputs": [],
   "source": [
    "doc_tagged = bi_doc2vec_dt.apply(\n",
    "    lambda r: TaggedDocument(words=r['text_all'], tags=[r.tags]), axis=1)"
   ]
  },
  {
   "cell_type": "code",
   "execution_count": 660,
   "metadata": {},
   "outputs": [],
   "source": [
    "trainset, testset = train_test_split(bi_doc2vec_dt, test_size=0.1, random_state=45)"
   ]
  },
  {
   "cell_type": "code",
   "execution_count": 661,
   "metadata": {},
   "outputs": [],
   "source": [
    "train=trainset.apply(\n",
    "    lambda r: TaggedDocument(words=r['text_all'], tags=[r.tags]), axis=1)"
   ]
  },
  {
   "cell_type": "code",
   "execution_count": 662,
   "metadata": {},
   "outputs": [],
   "source": [
    "test = testset.apply(\n",
    "    lambda r: TaggedDocument(words=r['text_all'], tags=[r.tags]), axis=1)"
   ]
  },
  {
   "cell_type": "code",
   "execution_count": 666,
   "metadata": {},
   "outputs": [
    {
     "name": "stderr",
     "output_type": "stream",
     "text": [
      "100%|██████████████████████████████████████████████████████████████████████████████| 919/919 [00:00<00:00, 3243.07it/s]\n"
     ]
    }
   ],
   "source": [
    "issue_model_dmm = Doc2Vec(dm=1, vector_size=150, window=3, negative=5, min_count=5,epochs=20)\n",
    "issue_model_dmm.build_vocab(tqdm(train.values))"
   ]
  },
  {
   "cell_type": "code",
   "execution_count": 667,
   "metadata": {},
   "outputs": [
    {
     "name": "stderr",
     "output_type": "stream",
     "text": [
      "100%|███████████████████████████████████████████████████████████████████████████████| 919/919 [00:00<00:00, 933.58it/s]\n"
     ]
    }
   ],
   "source": [
    "issue_model_dmm.train(tqdm(train.values), total_examples=len(train.values), epochs=issue_model_dmm.epochs)"
   ]
  },
  {
   "cell_type": "code",
   "execution_count": 668,
   "metadata": {},
   "outputs": [
    {
     "name": "stdout",
     "output_type": "stream",
     "text": [
      "Wall time: 44.5 s\n"
     ]
    }
   ],
   "source": [
    "%%time\n",
    "y_train, X_train = vec_for_learning(issue_model_dmm, train)\n",
    "y_test, X_test = vec_for_learning(issue_model_dmm, test)\n"
   ]
  },
  {
   "cell_type": "code",
   "execution_count": 669,
   "metadata": {},
   "outputs": [],
   "source": [
    "Y_train,labels=zip(*[(label,label) for label in trainset['label']] )\n",
    "Y_test,labels=zip(*[(label,label) for label in testset['label']] )"
   ]
  },
  {
   "cell_type": "code",
   "execution_count": 670,
   "metadata": {},
   "outputs": [
    {
     "data": {
      "text/plain": [
       "Frontend         42\n",
       "Mobile           25\n",
       "Backend          16\n",
       "DataScientist    11\n",
       "DevOps            9\n",
       "Name: 0, dtype: int64"
      ]
     },
     "execution_count": 670,
     "metadata": {},
     "output_type": "execute_result"
    }
   ],
   "source": [
    "pd.DataFrame(Y_test)[0].value_counts()"
   ]
  },
  {
   "cell_type": "code",
   "execution_count": 671,
   "metadata": {},
   "outputs": [],
   "source": [
    "u_id_lst=[]\n",
    "for row in train.values:\n",
    "    u_id_lst.append(row.tags[0])"
   ]
  },
  {
   "cell_type": "code",
   "execution_count": 672,
   "metadata": {},
   "outputs": [],
   "source": [
    "sim_train=pd.DataFrame(columns=['u_id','cos_sim'])\n"
   ]
  },
  {
   "cell_type": "code",
   "execution_count": 673,
   "metadata": {},
   "outputs": [],
   "source": [
    "for uid in range(0,len(u_id_lst)):\n",
    "    vec_train=X_train[uid]\n",
    "    username=u_id_lst[uid]\n",
    "    vec_user = issue_model_dmm.docvecs[username]\n",
    "    sim_train=sim_train.append({'u_id':username,'cos_sim':cos_sim(vec_train,vec_user)},ignore_index=True)"
   ]
  },
  {
   "cell_type": "code",
   "execution_count": 674,
   "metadata": {},
   "outputs": [
    {
     "data": {
      "text/plain": [
       "1.0"
      ]
     },
     "execution_count": 674,
     "metadata": {},
     "output_type": "execute_result"
    }
   ],
   "source": [
    "(len(sim_train)-len(sim_train[sim_train['cos_sim']<0.85]))/len(sim_train)"
   ]
  },
  {
   "cell_type": "code",
   "execution_count": 675,
   "metadata": {},
   "outputs": [],
   "source": [
    "rf = RandomForestClassifier(n_estimators = 100, random_state = 30)"
   ]
  },
  {
   "cell_type": "code",
   "execution_count": 676,
   "metadata": {},
   "outputs": [
    {
     "data": {
      "text/plain": [
       "RandomForestClassifier(bootstrap=True, class_weight=None, criterion='gini',\n",
       "                       max_depth=None, max_features='auto', max_leaf_nodes=None,\n",
       "                       min_impurity_decrease=0.0, min_impurity_split=None,\n",
       "                       min_samples_leaf=1, min_samples_split=2,\n",
       "                       min_weight_fraction_leaf=0.0, n_estimators=100,\n",
       "                       n_jobs=None, oob_score=False, random_state=30, verbose=0,\n",
       "                       warm_start=False)"
      ]
     },
     "execution_count": 676,
     "metadata": {},
     "output_type": "execute_result"
    }
   ],
   "source": [
    "rf.fit(X_train,Y_train)"
   ]
  },
  {
   "cell_type": "code",
   "execution_count": 677,
   "metadata": {},
   "outputs": [],
   "source": [
    "y_pred=rf.predict(X_test)"
   ]
  },
  {
   "cell_type": "code",
   "execution_count": 678,
   "metadata": {},
   "outputs": [
    {
     "name": "stdout",
     "output_type": "stream",
     "text": [
      "accuracy 0.5339805825242718\n",
      "Testing F1 score: 0.4756356911696717\n",
      "percision: 0.5218005295675199\n",
      "recall: 0.5339805825242718\n",
      "confusion matrix\n",
      " [[37  1  4  0  0]\n",
      " [ 8  1  5  2  0]\n",
      " [15  1  8  1  0]\n",
      " [ 2  0  1  8  0]\n",
      " [ 4  2  2  0  1]]\n",
      "(row=expected, col=predicted)\n"
     ]
    },
    {
     "data": {
      "image/png": "[encoded data removed]",
      "text/plain": [
       "<Figure size 432x288 with 2 Axes>"
      ]
     },
     "metadata": {
      "needs_background": "light"
     },
     "output_type": "display_data"
    }
   ],
   "source": [
    "evaluate_prediction(y_pred, Y_test)"
   ]
  },
  {
   "cell_type": "code",
   "execution_count": 679,
   "metadata": {},
   "outputs": [],
   "source": [
    "logreg = LogisticRegression(n_jobs=1, C=1e5)"
   ]
  },
  {
   "cell_type": "code",
   "execution_count": 680,
   "metadata": {},
   "outputs": [
    {
     "name": "stderr",
     "output_type": "stream",
     "text": [
      "C:\\Users\\morad\\Anaconda3\\lib\\site-packages\\sklearn\\linear_model\\logistic.py:432: FutureWarning: Default solver will be changed to 'lbfgs' in 0.22. Specify a solver to silence this warning.\n",
      "  FutureWarning)\n",
      "C:\\Users\\morad\\Anaconda3\\lib\\site-packages\\sklearn\\linear_model\\logistic.py:469: FutureWarning: Default multi_class will be changed to 'auto' in 0.22. Specify the multi_class option to silence this warning.\n",
      "  \"this warning.\", FutureWarning)\n"
     ]
    },
    {
     "data": {
      "text/plain": [
       "LogisticRegression(C=100000.0, class_weight=None, dual=False,\n",
       "                   fit_intercept=True, intercept_scaling=1, l1_ratio=None,\n",
       "                   max_iter=100, multi_class='warn', n_jobs=1, penalty='l2',\n",
       "                   random_state=None, solver='warn', tol=0.0001, verbose=0,\n",
       "                   warm_start=False)"
      ]
     },
     "execution_count": 680,
     "metadata": {},
     "output_type": "execute_result"
    }
   ],
   "source": [
    "logreg.fit(X_train, Y_train)"
   ]
  },
  {
   "cell_type": "code",
   "execution_count": 681,
   "metadata": {},
   "outputs": [],
   "source": [
    "y_pred = logreg.predict(X_test)"
   ]
  },
  {
   "cell_type": "code",
   "execution_count": 682,
   "metadata": {},
   "outputs": [
    {
     "name": "stdout",
     "output_type": "stream",
     "text": [
      "accuracy 0.47572815533980584\n",
      "Testing F1 score: 0.4752531090690652\n",
      "percision: 0.5069754409560234\n",
      "recall: 0.47572815533980584\n",
      "confusion matrix\n",
      " [[24  0  8  4  6]\n",
      " [ 5  2  4  2  3]\n",
      " [ 3  2 12  5  3]\n",
      " [ 1  1  1  8  0]\n",
      " [ 0  2  2  2  3]]\n",
      "(row=expected, col=predicted)\n"
     ]
    },
    {
     "data": {
      "image/png": "[encoded data removed]",
      "text/plain": [
       "<Figure size 432x288 with 2 Axes>"
      ]
     },
     "metadata": {
      "needs_background": "light"
     },
     "output_type": "display_data"
    }
   ],
   "source": [
    "evaluate_prediction(y_pred, Y_test)"
   ]
  },
  {
   "cell_type": "code",
   "execution_count": 683,
   "metadata": {},
   "outputs": [],
   "source": [
    "clf = svm.SVC()"
   ]
  },
  {
   "cell_type": "code",
   "execution_count": 684,
   "metadata": {},
   "outputs": [
    {
     "name": "stderr",
     "output_type": "stream",
     "text": [
      "C:\\Users\\morad\\Anaconda3\\lib\\site-packages\\sklearn\\svm\\base.py:193: FutureWarning: The default value of gamma will change from 'auto' to 'scale' in version 0.22 to account better for unscaled features. Set gamma explicitly to 'auto' or 'scale' to avoid this warning.\n",
      "  \"avoid this warning.\", FutureWarning)\n"
     ]
    },
    {
     "data": {
      "text/plain": [
       "SVC(C=1.0, cache_size=200, class_weight=None, coef0=0.0,\n",
       "    decision_function_shape='ovr', degree=3, gamma='auto_deprecated',\n",
       "    kernel='rbf', max_iter=-1, probability=False, random_state=None,\n",
       "    shrinking=True, tol=0.001, verbose=False)"
      ]
     },
     "execution_count": 684,
     "metadata": {},
     "output_type": "execute_result"
    }
   ],
   "source": [
    "clf.fit(X_train, Y_train)"
   ]
  },
  {
   "cell_type": "code",
   "execution_count": 685,
   "metadata": {},
   "outputs": [],
   "source": [
    "y_pred = clf.predict(X_test)"
   ]
  },
  {
   "cell_type": "code",
   "execution_count": 686,
   "metadata": {},
   "outputs": [
    {
     "name": "stdout",
     "output_type": "stream",
     "text": [
      "accuracy 0.6310679611650486\n",
      "Testing F1 score: 0.5948584414297489\n",
      "percision: 0.6339259146489146\n",
      "recall: 0.6310679611650486\n",
      "confusion matrix\n",
      " [[38  0  4  0  0]\n",
      " [ 9  2  3  2  0]\n",
      " [11  0 13  1  0]\n",
      " [ 1  1  1  8  0]\n",
      " [ 2  1  2  0  4]]\n",
      "(row=expected, col=predicted)\n"
     ]
    },
    {
     "data": {
      "image/png": "[encoded data removed]",
      "text/plain": [
       "<Figure size 432x288 with 2 Axes>"
      ]
     },
     "metadata": {
      "needs_background": "light"
     },
     "output_type": "display_data"
    }
   ],
   "source": [
    "evaluate_prediction(y_pred, Y_test)"
   ]
  },
  {
   "cell_type": "markdown",
   "metadata": {},
   "source": [
    "## API"
   ]
  },
  {
   "cell_type": "code",
   "execution_count": 744,
   "metadata": {},
   "outputs": [],
   "source": [
    "language_Contribution = pd.read_csv(r'C:\\GH-Dataset\\Git_dt_roles\\language_Contribution_3.csv',lineterminator='\\n')"
   ]
  },
  {
   "cell_type": "code",
   "execution_count": 745,
   "metadata": {},
   "outputs": [],
   "source": [
    "lng_contr_notna=language_Contribution[language_Contribution['APIs'] != '[]'].reset_index()"
   ]
  },
  {
   "cell_type": "code",
   "execution_count": 746,
   "metadata": {},
   "outputs": [],
   "source": [
    "lng_contr_notna=lng_contr_notna.drop('index',axis=1)"
   ]
  },
  {
   "cell_type": "code",
   "execution_count": 747,
   "metadata": {},
   "outputs": [
    {
     "data": {
      "text/plain": [
       "552378"
      ]
     },
     "execution_count": 747,
     "metadata": {},
     "output_type": "execute_result"
    }
   ],
   "source": [
    "len(lng_contr_notna)"
   ]
  },
  {
   "cell_type": "code",
   "execution_count": 748,
   "metadata": {},
   "outputs": [],
   "source": [
    "def split_APIs(ls):\n",
    "    snts = [re.split('( )|\\/|<|>|;|,|\\(|\\)|\\n|\\r|\\[|\\]|\\{|\\}',doc) for doc in ls]\n",
    "    return snts"
   ]
  },
  {
   "cell_type": "code",
   "execution_count": 749,
   "metadata": {},
   "outputs": [],
   "source": [
    "#flat a list of lists into a list\n",
    "def flatten_list(sentences):\n",
    "    flatList = [ item for elem in sentences for item in elem]\n",
    "    return flatList"
   ]
  },
  {
   "cell_type": "code",
   "execution_count": 750,
   "metadata": {},
   "outputs": [],
   "source": [
    "from ast import literal_eval"
   ]
  },
  {
   "cell_type": "code",
   "execution_count": 751,
   "metadata": {},
   "outputs": [],
   "source": [
    "str_to_list=[literal_eval(doc) for doc in lng_contr_notna['APIs']]"
   ]
  },
  {
   "cell_type": "code",
   "execution_count": 752,
   "metadata": {},
   "outputs": [],
   "source": [
    "sp_APIs=[]\n",
    "i=0"
   ]
  },
  {
   "cell_type": "code",
   "execution_count": 753,
   "metadata": {},
   "outputs": [],
   "source": [
    "while i<552378:\n",
    "    j=i+10000\n",
    "    for doc in str_to_list[i:j]:\n",
    "        sp_APIs.append(split_APIs(doc))\n",
    "    i=j"
   ]
  },
  {
   "cell_type": "code",
   "execution_count": 754,
   "metadata": {},
   "outputs": [],
   "source": [
    "flatt_API=[]\n",
    "i=0"
   ]
  },
  {
   "cell_type": "code",
   "execution_count": 755,
   "metadata": {},
   "outputs": [],
   "source": [
    "#flatt_API=[flatten_list(doc) for doc in sp_APIs]\n",
    "\n",
    "while i<552378:\n",
    "    j=i+10000\n",
    "    for doc in sp_APIs[i:j]:\n",
    "        flatt_API.append(flatten_list(doc))\n",
    "    i=j"
   ]
  },
  {
   "cell_type": "code",
   "execution_count": 756,
   "metadata": {},
   "outputs": [],
   "source": [
    "all_stopwords=STOPWORDS.union(set(['', ' ',None,'using','include','from','import','Import','From','require', 'use','crate','library','var','\\n','new',\n",
    "              'return','*',\"'*'\",'\\r']))"
   ]
  },
  {
   "cell_type": "code",
   "execution_count": 757,
   "metadata": {},
   "outputs": [],
   "source": [
    "clean_APIs=[]\n",
    "for doc in flatt_API:\n",
    "    clean_APIs.append([word for word in doc if not word in all_stopwords])"
   ]
  },
  {
   "cell_type": "code",
   "execution_count": 30,
   "metadata": {},
   "outputs": [],
   "source": [
    "all_in_one = pd.read_csv(r'C:\\GH-Dataset\\Git_dt_roles\\all_in_one_2.csv')"
   ]
  },
  {
   "cell_type": "code",
   "execution_count": 239,
   "metadata": {},
   "outputs": [],
   "source": [
    "train,test = train_test_split(all_in_one,test_size=0.2, random_state=50)"
   ]
  },
  {
   "cell_type": "code",
   "execution_count": 240,
   "metadata": {},
   "outputs": [],
   "source": [
    "\n",
    "X_dt=train.iloc[:, 1:201]"
   ]
  },
  {
   "cell_type": "code",
   "execution_count": 241,
   "metadata": {},
   "outputs": [],
   "source": [
    "X_train=X_dt.to_numpy()\n"
   ]
  },
  {
   "cell_type": "code",
   "execution_count": 242,
   "metadata": {},
   "outputs": [],
   "source": [
    "\n",
    "X_test_dt=test.iloc[:, 1:201]"
   ]
  },
  {
   "cell_type": "code",
   "execution_count": 243,
   "metadata": {},
   "outputs": [],
   "source": [
    "X_test=X_test_dt.to_numpy()"
   ]
  },
  {
   "cell_type": "code",
   "execution_count": 244,
   "metadata": {},
   "outputs": [],
   "source": [
    "Y_train=train['label']"
   ]
  },
  {
   "cell_type": "code",
   "execution_count": 245,
   "metadata": {},
   "outputs": [],
   "source": [
    "Y_test=test['label']"
   ]
  },
  {
   "cell_type": "code",
   "execution_count": 246,
   "metadata": {},
   "outputs": [],
   "source": [
    "logreg = LogisticRegression(n_jobs=1, C=1e5)"
   ]
  },
  {
   "cell_type": "code",
   "execution_count": 247,
   "metadata": {},
   "outputs": [
    {
     "name": "stderr",
     "output_type": "stream",
     "text": [
      "C:\\Users\\morad\\Anaconda3\\lib\\site-packages\\sklearn\\linear_model\\logistic.py:432: FutureWarning: Default solver will be changed to 'lbfgs' in 0.22. Specify a solver to silence this warning.\n",
      "  FutureWarning)\n",
      "C:\\Users\\morad\\Anaconda3\\lib\\site-packages\\sklearn\\linear_model\\logistic.py:469: FutureWarning: Default multi_class will be changed to 'auto' in 0.22. Specify the multi_class option to silence this warning.\n",
      "  \"this warning.\", FutureWarning)\n",
      "C:\\Users\\morad\\Anaconda3\\lib\\site-packages\\sklearn\\svm\\base.py:929: ConvergenceWarning: Liblinear failed to converge, increase the number of iterations.\n",
      "  \"the number of iterations.\", ConvergenceWarning)\n"
     ]
    }
   ],
   "source": [
    "logreg.fit(X_train, train['label'])\n",
    "y_pred = logreg.predict(X_test)"
   ]
  },
  {
   "cell_type": "code",
   "execution_count": 248,
   "metadata": {},
   "outputs": [
    {
     "name": "stdout",
     "output_type": "stream",
     "text": [
      "accuracy 0.416\n",
      "Testing F1 score: 0.4143842732562251\n",
      "percision: 0.42008985507246377\n",
      "recall: 0.416\n",
      "confusion matrix\n",
      " [[25  5  7  3  3]\n",
      " [ 5  4  5  2  2]\n",
      " [ 8  7 11  5  5]\n",
      " [ 4  0  2  9  3]\n",
      " [ 4  0  2  1  3]]\n",
      "(row=expected, col=predicted)\n"
     ]
    },
    {
     "data": {
      "image/png": "[encoded data removed]",
      "text/plain": [
       "<Figure size 432x288 with 2 Axes>"
      ]
     },
     "metadata": {
      "needs_background": "light"
     },
     "output_type": "display_data"
    }
   ],
   "source": [
    "evaluate_prediction(y_pred, Y_test)"
   ]
  },
  {
   "cell_type": "code",
   "execution_count": 127,
   "metadata": {},
   "outputs": [],
   "source": [
    "from sklearn.ensemble import RandomForestClassifier"
   ]
  },
  {
   "cell_type": "code",
   "execution_count": 150,
   "metadata": {},
   "outputs": [],
   "source": [
    "rf = RandomForestClassifier(n_estimators = 100, random_state = 30)"
   ]
  },
  {
   "cell_type": "code",
   "execution_count": 151,
   "metadata": {},
   "outputs": [
    {
     "data": {
      "text/plain": [
       "RandomForestClassifier(bootstrap=True, class_weight=None, criterion='gini',\n",
       "                       max_depth=None, max_features='auto', max_leaf_nodes=None,\n",
       "                       min_impurity_decrease=0.0, min_impurity_split=None,\n",
       "                       min_samples_leaf=1, min_samples_split=2,\n",
       "                       min_weight_fraction_leaf=0.0, n_estimators=100,\n",
       "                       n_jobs=None, oob_score=False, random_state=30, verbose=0,\n",
       "                       warm_start=False)"
      ]
     },
     "execution_count": 151,
     "metadata": {},
     "output_type": "execute_result"
    }
   ],
   "source": [
    "rf.fit(X_train,Y_train)"
   ]
  },
  {
   "cell_type": "code",
   "execution_count": 152,
   "metadata": {},
   "outputs": [
    {
     "name": "stdout",
     "output_type": "stream",
     "text": [
      "accuracy 0.44\n",
      "Testing F1 score: 0.4293386310590024\n",
      "percision: 0.43612549019607844\n",
      "recall: 0.44\n",
      "confusion matrix\n",
      " [[24  6  5  2  1]\n",
      " [ 6  4  3  3  0]\n",
      " [14  3 17  1  4]\n",
      " [ 4  4  1  9  0]\n",
      " [ 3  3  4  3  1]]\n",
      "(row=expected, col=predicted)\n"
     ]
    },
    {
     "data": {
      "image/png": "[encoded data removed]",
      "text/plain": [
       "<Figure size 432x288 with 2 Axes>"
      ]
     },
     "metadata": {
      "needs_background": "light"
     },
     "output_type": "display_data"
    }
   ],
   "source": [
    "evaluate_prediction(y_pred, Y_test)"
   ]
  },
  {
   "cell_type": "code",
   "execution_count": 131,
   "metadata": {},
   "outputs": [],
   "source": [
    "from sklearn import svm"
   ]
  },
  {
   "cell_type": "code",
   "execution_count": 249,
   "metadata": {},
   "outputs": [],
   "source": [
    "clf = svm.SVC()"
   ]
  },
  {
   "cell_type": "code",
   "execution_count": 250,
   "metadata": {},
   "outputs": [
    {
     "name": "stderr",
     "output_type": "stream",
     "text": [
      "C:\\Users\\morad\\Anaconda3\\lib\\site-packages\\sklearn\\svm\\base.py:193: FutureWarning: The default value of gamma will change from 'auto' to 'scale' in version 0.22 to account better for unscaled features. Set gamma explicitly to 'auto' or 'scale' to avoid this warning.\n",
      "  \"avoid this warning.\", FutureWarning)\n"
     ]
    },
    {
     "data": {
      "text/plain": [
       "SVC(C=1.0, cache_size=200, class_weight=None, coef0=0.0,\n",
       "    decision_function_shape='ovr', degree=3, gamma='auto_deprecated',\n",
       "    kernel='rbf', max_iter=-1, probability=False, random_state=None,\n",
       "    shrinking=True, tol=0.001, verbose=False)"
      ]
     },
     "execution_count": 250,
     "metadata": {},
     "output_type": "execute_result"
    }
   ],
   "source": [
    "clf.fit(X_train, Y_train)"
   ]
  },
  {
   "cell_type": "code",
   "execution_count": 251,
   "metadata": {},
   "outputs": [],
   "source": [
    "y_pred = clf.predict(X_test)"
   ]
  },
  {
   "cell_type": "code",
   "execution_count": 253,
   "metadata": {},
   "outputs": [
    {
     "name": "stdout",
     "output_type": "stream",
     "text": [
      "accuracy 0.464\n",
      "Testing F1 score: 0.38580625476735314\n",
      "percision: 0.409984962406015\n",
      "recall: 0.464\n",
      "confusion matrix\n",
      " [[40  0  3  0  0]\n",
      " [12  0  6  0  0]\n",
      " [26  0 10  0  0]\n",
      " [ 9  0  1  8  0]\n",
      " [ 8  0  1  1  0]]\n",
      "(row=expected, col=predicted)\n"
     ]
    },
    {
     "data": {
      "image/png": "[encoded data removed]",
      "text/plain": [
       "<Figure size 432x288 with 2 Axes>"
      ]
     },
     "metadata": {
      "needs_background": "light"
     },
     "output_type": "display_data"
    }
   ],
   "source": [
    "evaluate_prediction(y_pred, Y_test)"
   ]
  },
  {
   "cell_type": "code",
   "execution_count": null,
   "metadata": {},
   "outputs": [],
   "source": []
  }
 ],
 "metadata": {
  "kernelspec": {
   "display_name": "Python 3",
   "language": "python",
   "name": "python3"
  },
  "language_info": {
   "codemirror_mode": {
    "name": "ipython",
    "version": 3
   },
   "file_extension": ".py",
   "mimetype": "text/x-python",
   "name": "python",
   "nbconvert_exporter": "python",
   "pygments_lexer": "ipython3",
   "version": "3.7.4"
  }
 },
 "nbformat": 4,
 "nbformat_minor": 2
}
